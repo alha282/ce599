{
 "cells": [
  {
   "cell_type": "markdown",
   "metadata": {},
   "source": [
    "# Working with Data APIs\n",
    "\n",
    "**Adapted from: Sam Maurer // maurer@berkeley.edu // Oct. 3, 2016**\n",
    "\n",
    "This notebook provides a demonstration of data-access APIs that operate over the web. See README.md for setup instructions.\n",
    "\n",
    "In Part 1, we'll load and parse results from an API feed of earthquake data.  \n",
    "In Part 2, we'll add query parameters to the workflow, using the Google Maps Geolocation API as an example.  \n",
    "In Part 3, we'll use an authenticated API to query public Twitter posts. "
   ]
  },
  {
   "cell_type": "markdown",
   "metadata": {},
   "source": [
    "# Part 1: Reading from an automated data feed\n",
    "\n",
    "### USGS real-time earthquake feeds\n",
    "\n",
    "This is an API for near-real-time data about earthquakes. Data is provided in JSON format over the web. No authentication is needed, and there's no way to customize the output. Instead, the API has a separate endpoint for each permutation of the data that users might want.\n",
    "\n",
    "**API documentation:**  \n",
    "http://earthquake.usgs.gov/earthquakes/feed/v1.0/geojson.php\n",
    "\n",
    "**Sample API endpoint, for magnitude 4.5+ earthquakes in past day:**  \n",
    "http://earthquake.usgs.gov/earthquakes/feed/v1.0/summary/4.5_day.geojson  \n"
   ]
  },
  {
   "cell_type": "code",
   "execution_count": 1,
   "metadata": {
    "collapsed": true
   },
   "outputs": [],
   "source": [
    "%matplotlib inline\n",
    "\n",
    "import pandas as pd\n",
    "\n",
    "import json    # library for working with JSON-formatted text strings\n",
    "import requests  # library for accessing content from web URLs\n",
    "\n",
    "import pprint  # library for making Python data structures readable\n",
    "pp = pprint.PrettyPrinter()"
   ]
  },
  {
   "cell_type": "code",
   "execution_count": 2,
   "metadata": {},
   "outputs": [
    {
     "name": "stdout",
     "output_type": "stream",
     "text": [
      "<class 'str'>\n"
     ]
    }
   ],
   "source": [
    "# download data on magnitude 2.5+ quakes from the past week\n",
    "\n",
    "endpoint_url = \"http://earthquake.usgs.gov/earthquakes/feed/v1.0/summary/2.5_week.geojson\"\n",
    "response = requests.get(endpoint_url)\n",
    "results = response.text\n",
    "\n",
    "# what is the data type of the results?\n",
    "print(type(results))"
   ]
  },
  {
   "cell_type": "code",
   "execution_count": 3,
   "metadata": {},
   "outputs": [
    {
     "name": "stdout",
     "output_type": "stream",
     "text": [
      "{\"type\":\"FeatureCollection\",\"metadata\":{\"generated\":1519744464000,\"url\":\"https://earthquake.usgs.gov/earthquakes/feed/v1.0/summary/2.5_week.geojson\",\"title\":\"USGS Magnitude 2.5+ Earthquakes, Past Week\",\"status\":200,\"api\":\"1.5.8\",\"count\":292},\"features\":[{\"type\":\"Feature\",\"properties\":{\"mag\":5,\"place\":\"54km WSW of Mendi, Papua New Guinea\",\"time\":1519739907080,\"updated\":1519743240647,\"tz\":600,\"url\":\"https://earthquake.usgs.gov/earthquakes/eventpage/us2000d8q3\",\"detail\":\"https://earthquake.usgs.gov\n"
     ]
    }
   ],
   "source": [
    "# print the first 500 characters to see a sample of the data\n",
    "\n",
    "print(results[:500])"
   ]
  },
  {
   "cell_type": "code",
   "execution_count": 4,
   "metadata": {},
   "outputs": [
    {
     "name": "stdout",
     "output_type": "stream",
     "text": [
      "<class 'dict'>\n"
     ]
    }
   ],
   "source": [
    "# it looks like the results are a string with JSON-formatted data inside\n",
    "\n",
    "# parse the string into a Python dictionary\n",
    "data = json.loads(results)\n",
    "\n",
    "print(type(data))"
   ]
  },
  {
   "cell_type": "code",
   "execution_count": 5,
   "metadata": {},
   "outputs": [
    {
     "name": "stdout",
     "output_type": "stream",
     "text": [
      "{'type': 'Feature', 'properties': {'mag': 5, 'place': '54km WSW of Mendi, Papua New Guinea', 'time': 1519739907080, 'updated': 1519743240647, 'tz': 600, 'url': 'https://earthquake.usgs.gov/earthquakes/eventpage/us2000d8q3', 'detail': 'https://earthquake.usgs.gov/earthquakes/feed/v1.0/detail/us2000d8q3.geojson', 'felt': 1, 'cdi': 9.1, 'mmi': None, 'alert': None, 'status': 'reviewed', 'tsunami': 1, 'sig': 386, 'net': 'us', 'code': '2000d8q3', 'ids': ',us2000d8q3,', 'sources': ',us,', 'types': ',dyfi,geoserve,origin,phase-data,', 'nst': None, 'dmin': 4.939, 'rms': 0.67, 'gap': 28, 'magType': 'mww', 'type': 'earthquake', 'title': 'M 5.0 - 54km WSW of Mendi, Papua New Guinea'}, 'geometry': {'type': 'Point', 'coordinates': [143.203, -6.3793, 14.7]}, 'id': 'us2000d8q3'}\n"
     ]
    }
   ],
   "source": [
    "# print the most recent quake\n",
    "\n",
    "quakes = data['features']\n",
    "print(quakes[0])"
   ]
  },
  {
   "cell_type": "code",
   "execution_count": 6,
   "metadata": {},
   "outputs": [
    {
     "name": "stdout",
     "output_type": "stream",
     "text": [
      "{'coordinates': [143.203, -6.3793, 14.7], 'type': 'Point'}\n",
      "{'alert': None,\n",
      " 'cdi': 9.1,\n",
      " 'code': '2000d8q3',\n",
      " 'detail': 'https://earthquake.usgs.gov/earthquakes/feed/v1.0/detail/us2000d8q3.geojson',\n",
      " 'dmin': 4.939,\n",
      " 'felt': 1,\n",
      " 'gap': 28,\n",
      " 'ids': ',us2000d8q3,',\n",
      " 'mag': 5,\n",
      " 'magType': 'mww',\n",
      " 'mmi': None,\n",
      " 'net': 'us',\n",
      " 'nst': None,\n",
      " 'place': '54km WSW of Mendi, Papua New Guinea',\n",
      " 'rms': 0.67,\n",
      " 'sig': 386,\n",
      " 'sources': ',us,',\n",
      " 'status': 'reviewed',\n",
      " 'time': 1519739907080,\n",
      " 'title': 'M 5.0 - 54km WSW of Mendi, Papua New Guinea',\n",
      " 'tsunami': 1,\n",
      " 'type': 'earthquake',\n",
      " 'types': ',dyfi,geoserve,origin,phase-data,',\n",
      " 'tz': 600,\n",
      " 'updated': 1519743240647,\n",
      " 'url': 'https://earthquake.usgs.gov/earthquakes/eventpage/us2000d8q3'}\n"
     ]
    }
   ],
   "source": [
    "# print it more clearly\n",
    "\n",
    "pp.pprint(quakes[0]['geometry'])\n",
    "pp.pprint(quakes[0]['properties'])"
   ]
  },
  {
   "cell_type": "code",
   "execution_count": 7,
   "metadata": {},
   "outputs": [
    {
     "name": "stdout",
     "output_type": "stream",
     "text": [
      "M 5.0 - 54km WSW of Mendi, Papua New Guinea\n",
      "M 4.6 - 101km W of Mendi, Papua New Guinea\n",
      "M 4.8 - Fiji region\n",
      "M 4.9 - 20km SW of Mendi, Papua New Guinea\n",
      "M 4.9 - 51km WSW of Mendi, Papua New Guinea\n",
      "M 2.8 - 60km W of Anchor Point, Alaska\n",
      "M 2.6 - 18km SE of Yosemite Valley, CA\n",
      "M 4.7 - 28km WSW of Isangel, Vanuatu\n",
      "M 5.2 - 96km W of Mendi, Papua New Guinea\n",
      "M 5.6 - 71km WSW of Mendi, Papua New Guinea\n",
      "M 4.8 - 70km WSW of Mendi, Papua New Guinea\n",
      "M 2.9 - 61km N of Tierras Nuevas Poniente, Puerto Rico\n",
      "M 4.9 - 104km WSW of Porgera, Papua New Guinea\n",
      "M 2.8 - 11km SSW of Boca de Yuma, Dominican Republic\n",
      "M 5.5 - 77km N of Isangel, Vanuatu\n",
      "M 2.5 - 56km W of Anchor Point, Alaska\n",
      "M 4.5 - 136km SE of Akutan, Alaska\n",
      "M 5.2 - 57km SW of Mendi, Papua New Guinea\n",
      "M 4.6 - 126km S of Severo-Kuril'sk, Russia\n",
      "M 5.0 - 89km SW of Porgera, Papua New Guinea\n",
      "M 5.1 - 46km SW of Mendi, Papua New Guinea\n",
      "M 4.5 - 60km W of Mendi, Papua New Guinea\n",
      "M 2.5 - 62km ENE of Cantwell, Alaska\n",
      "M 4.9 - 33km S of Tinogasta, Argentina\n",
      "M 4.3 - 4km NE of Makabe, Japan\n",
      "M 3.9 - 255km SE of Kodiak, Alaska\n",
      "M 4.8 - 103km WSW of Porgera, Papua New Guinea\n",
      "M 4.7 - 110km SW of Porgera, Papua New Guinea\n",
      "M 5.0 - 90km WSW of Mendi, Papua New Guinea\n",
      "M 4.8 - West Chile Rise\n",
      "M 5.1 - 41km SW of Mendi, Papua New Guinea\n",
      "M 3.7 - 18km ESE of Anza, CA\n",
      "M 5.4 - 85km SW of Porgera, Papua New Guinea\n",
      "M 4.4 - 264km ESE of Kodiak, Alaska\n",
      "M 5.1 - 87km WSW of Porgera, Papua New Guinea\n",
      "M 2.8 - 3km NW of The Geysers, CA\n",
      "M 2.8 - 85km NNE of Glennallen, Alaska\n",
      "M 6.2 - 56km SW of Mendi, Papua New Guinea\n",
      "M 4.3 - 6km SSE of Lezhe, Albania\n",
      "M 2.8 - 4km ESE of Aromas, CA\n",
      "M 2.7 - 4km ESE of Aromas, CA\n",
      "M 3.8 - 251km SE of Kodiak, Alaska\n",
      "M 4.3 - 237km SE of Kodiak, Alaska\n",
      "M 3.8 - 248km ESE of Kodiak, Alaska\n",
      "M 6.1 - 45km NE of Airbuaya, Indonesia\n",
      "M 4.1 - 51km WSW of Mendi, Papua New Guinea\n",
      "M 4.9 - 26km SSW of Golfito, Costa Rica\n",
      "M 4.8 - 57km WSW of Mendi, Papua New Guinea\n",
      "M 5.2 - 37km WSW of Mendi, Papua New Guinea\n",
      "M 5.0 - 46km WSW of Mendi, Papua New Guinea\n",
      "M 5.7 - 37km SSW of Mendi, Papua New Guinea\n",
      "M 4.7 - 66km W of Mendi, Papua New Guinea\n",
      "M 4.9 - 48km WSW of Mendi, Papua New Guinea\n",
      "M 4.7 - 38km SSW of Mendi, Papua New Guinea\n",
      "M 4.8 - 90km W of Mendi, Papua New Guinea\n",
      "M 4.9 - 82km WSW of Mendi, Papua New Guinea\n",
      "M 5.0 - 91km W of Mendi, Papua New Guinea\n",
      "M 3.3 - 65km NE of Santa Barbara de Samana, Dominican Republic\n",
      "M 6.0 - 50km WSW of Mendi, Papua New Guinea\n",
      "M 2.6 - 6km NE of North Shore, CA\n",
      "M 2.6 - 64km N of Tierras Nuevas Poniente, Puerto Rico\n",
      "M 2.7 - 15km SW of Perry, Oklahoma\n",
      "M 4.6 - 91km W of Mendi, Papua New Guinea\n",
      "M 2.6 - 33km S of Pecos, Texas\n",
      "M 5.1 - 95km SW of Porgera, Papua New Guinea\n",
      "M 4.6 - 99km SW of Porgera, Papua New Guinea\n",
      "M 4.7 - 46km N of Ccolo, Peru\n",
      "M 2.9 - 57km WSW of Rincon, Puerto Rico\n",
      "M 2.6 - 31km ESE of Boca de Yuma, Dominican Republic\n",
      "M 5.0 - 96km W of Mendi, Papua New Guinea\n",
      "M 4.8 - 123km WSW of Mendi, Papua New Guinea\n",
      "M 4.7 - 27km SW of Mendi, Papua New Guinea\n",
      "M 5.6 - 127km SSW of Kokopo, Papua New Guinea\n",
      "M 4.8 - 72km W of Mendi, Papua New Guinea\n",
      "M 5.2 - 70km W of Mendi, Papua New Guinea\n",
      "M 5.0 - 76km W of Mendi, Papua New Guinea\n",
      "M 3.5 - 33km NE of Christiansted, U.S. Virgin Islands\n",
      "M 4.8 - 49km SW of Mendi, Papua New Guinea\n",
      "M 5.0 - 78km W of Mendi, Papua New Guinea\n",
      "M 2.5 - 4km WNW of The Geysers, CA\n",
      "M 3.8 - 57km NE of Road Town, British Virgin Islands\n",
      "M 3.6 - 61km NE of Road Town, British Virgin Islands\n",
      "M 4.1 - 52km WSW of Mendi, Papua New Guinea\n",
      "M 2.7 - 111km NW of Talkeetna, Alaska\n",
      "M 4.6 - 76km W of Mendi, Papua New Guinea\n",
      "M 2.6 - 9km ESE of Soda Springs, Idaho\n",
      "M 4.6 - 67km SW of Mendi, Papua New Guinea\n",
      "M 4.6 - 57km W of Mendi, Papua New Guinea\n",
      "M 5.0 - 62km WSW of Mendi, Papua New Guinea\n",
      "M 4.4 - 128km N of Yelizovo, Russia\n",
      "M 5.0 - 91km SSW of Porgera, Papua New Guinea\n",
      "M 5.0 - 52km WSW of Mendi, Papua New Guinea\n",
      "M 2.5 - 67km SE of Boca de Yuma, Dominican Republic\n",
      "M 4.5 - 72km W of Mendi, Papua New Guinea\n",
      "M 5.2 - 82km SW of Porgera, Papua New Guinea\n",
      "M 2.8 - 56km WSW of Larsen Bay, Alaska\n",
      "M 5.0 - 96km WSW of Porgera, Papua New Guinea\n",
      "M 3.1 - 100km N of Isabela, Puerto Rico\n",
      "M 4.9 - 89km WSW of Porgera, Papua New Guinea\n",
      "M 4.6 - 107km NNE of Cold Bay, Alaska\n",
      "M 5.2 - 99km SSW of Porgera, Papua New Guinea\n",
      "M 4.5 - 58km NNE of Bandar 'Abbas, Iran\n",
      "M 2.9 - 67km NW of San Antonio, Puerto Rico\n",
      "M 4.2 - 27km WNW of Angol, Chile\n",
      "M 5.3 - 39km SW of Mendi, Papua New Guinea\n",
      "M 4.6 - 54km W of Mendi, Papua New Guinea\n",
      "M 4.9 - 35km SW of Mendi, Papua New Guinea\n",
      "M 5.0 - 72km SSW of Porgera, Papua New Guinea\n",
      "M 2.8 - 7km S of Guaymate, Dominican Republic\n",
      "M 5.0 - 34km SE of Su'ao, Taiwan\n",
      "M 5.4 - 33km SSW of Mendi, Papua New Guinea\n",
      "M 5.5 - 110km WSW of Porgera, Papua New Guinea\n",
      "M 7.5 - 89km SSW of Porgera, Papua New Guinea\n",
      "M 4.4 - 79km E of Namie, Japan\n",
      "M 2.8 - 30km W of Nikiski, Alaska\n",
      "M 4.6 - 147km S of Firuzabad, Iran\n",
      "M 5.6 - 66km E of Namie, Japan\n",
      "M 2.9 - 57km N of Tierras Nuevas Poniente, Puerto Rico\n",
      "M 4.5 - 48km WNW of Lagkada, Greece\n",
      "M 3.0 - 13km NE of West Yellowstone, Montana\n",
      "M 4.6 - 41km SSW of Ndoi Island, Fiji\n",
      "M 4.6 - 12km NW of Agrihan, Northern Mariana Islands\n",
      "M 2.5 - 6km NE of North Shore, CA\n",
      "M 4.3 - 12km W of Masterton, New Zealand\n",
      "M 4.7 - 77km SW of Paredon, Mexico\n",
      "M 3.3 - 136km NNE of Vieques, Puerto Rico\n",
      "M 4.0 - 83km WSW of Cantwell, Alaska\n",
      "M 4.4 - 64km ENE of Caucete, Argentina\n",
      "M 3.7 - 221km SE of Kodiak, Alaska\n",
      "M 2.7 - 19km ESE of Medford, Oklahoma\n",
      "M 3.6 - 29km W of Trinidad, Colorado\n",
      "M 2.8 - 28km N of Miches, Dominican Republic\n",
      "M 4.3 - 176km WNW of Coquimbo, Chile\n",
      "M 2.7 - 4km NW of The Geysers, CA\n",
      "M 4.8 - 191km SE of Raoul Island, New Zealand\n",
      "M 3.7 - 249km ESE of Kodiak, Alaska\n",
      "M 4.6 - 145km WNW of Hihifo, Tonga\n",
      "M 3.2 - 80km NNW of Road Town, British Virgin Islands\n",
      "M 4.4 - 7km NNW of Simacota, Colombia\n",
      "M 4.3 - 40km WNW of Illapel, Chile\n",
      "M 3.7 - 67km NNE of Road Town, British Virgin Islands\n",
      "M 2.5 - 23km N of Tierras Nuevas Poniente, Puerto Rico\n",
      "M 4.2 - 41km NW of Coquimbo, Chile\n",
      "M 2.7 - 0km E of Jauca, Puerto Rico\n",
      "M 4.7 - 202km E of Amahai, Indonesia\n",
      "M 2.9 - 34km NW of Fairview, Oklahoma\n",
      "M 3.5 - 8km ESE of Deep Springs, CA\n",
      "M 3.1 - 166km SSW of Middleton Island, Alaska\n",
      "M 2.6 - 75km S of Middleton Island, Alaska\n",
      "M 4.8 - 187km S of Hirara, Japan\n",
      "M 3.0 - 62km SW of Cantwell, Alaska\n",
      "M 4.0 - 22km S of Al Miqdadiyah, Iraq\n",
      "M 4.3 - 12km ESE of San Mateo del Mar, Mexico\n",
      "M 2.8 - 11km W of Medford, Oklahoma\n",
      "M 4.0 - 275km ESE of Kodiak, Alaska\n",
      "M 3.3 - 241km ESE of Kodiak, Alaska\n",
      "M 2.7 - 39km ENE of Miches, Dominican Republic\n",
      "M 3.1 - 11km NE of Medford, Oklahoma\n",
      "M 3.8 - 51km SSW of Chernabura Island, Alaska\n",
      "M 5.2 - 142km NNW of Pagudpud, Philippines\n",
      "M 5.0 - 22km ESE of Onan Ganjang, Indonesia\n",
      "M 2.5 - 7km SSW of Markleeville, CA\n",
      "M 5.0 - 147km ESE of Ohara, Japan\n",
      "M 4.3 - 64km S of Koroni, Greece\n",
      "M 4.7 - South Indian Ocean\n",
      "M 4.1 - 127km NNE of Calama, Chile\n",
      "M 4.6 - 32km ESE of Namie, Japan\n",
      "M 2.8 - 48km SSW of Stovepipe Wells, CA\n",
      "M 4.8 - 105km SW of Ndoi Island, Fiji\n",
      "M 4.4 - 102km S of Makry Gialos, Greece\n",
      "M 4.9 - 57km S of Chirilagua, El Salvador\n",
      "M 4.4 - 21km N of Onan Ganjang, Indonesia\n",
      "M 4.1 - 140km SSE of Unalaska, Alaska\n",
      "M 2.8 - 49km WSW of Anchor Point, Alaska\n",
      "M 3.2 - 246km SE of Kodiak, Alaska\n",
      "M 2.5 - 1km WSW of Liborio Negron Torres, Puerto Rico\n",
      "M 4.8 - Northern Mid-Atlantic Ridge\n",
      "M 2.8 - 2km WSW of Diablo, CA\n",
      "M 3.5 - 2km ENE of Danville, CA\n",
      "M 3.4 - 2km ENE of Danville, CA\n",
      "M 3.0 - 89km WNW of Skagway, Alaska\n",
      "M 3.2 - 105km NNW of San Antonio, Puerto Rico\n",
      "M 4.9 - 79km W of Santa Cruz, Chile\n",
      "M 3.4 - 25km SE of Road Town, British Virgin Islands\n",
      "M 3.3 - 2km ENE of Danville, CA\n",
      "M 3.4 - 153km SE of Chirikof Island, Alaska\n",
      "M 2.8 - 27km ESE of Boca de Yuma, Dominican Republic\n",
      "M 4.5 - Off the coast of Central America\n",
      "M 2.8 - 2km E of Danville, CA\n",
      "M 4.5 - 203km E of Amahai, Indonesia\n",
      "M 2.6 - 2km W of Diablo, CA\n",
      "M 4.5 - 46km WSW of Sary-Tash, Kyrgyzstan\n",
      "M 2.5 - 4km SSE of Canyondam, CA\n",
      "M 4.3 - 13km WSW of Shahdadkot, Pakistan\n",
      "M 2.5 - 42km SSE of Tecate, B.C., MX\n",
      "M 3.3 - 89km SE of King Salmon, Alaska\n",
      "M 4.6 - 223km SSE of Saparua, Indonesia\n",
      "M 3.2 - 73km W of Pioche, Nevada\n",
      "M 2.7 - 13km S of Doniphan, Missouri\n",
      "M 4.8 - 23km WNW of San Miguel Panixtlahuaca, Mexico\n",
      "M 2.7 - 13km NE of West Yellowstone, Montana\n",
      "M 3.5 - 77km SSW of Redoubt Volcano, Alaska\n",
      "M 5.0 - 68km SSW of Chignik Lake, Alaska\n",
      "M 2.5 - 13km ESE of Lincoln, Montana\n",
      "M 3.6 - 270km ESE of Kodiak, Alaska\n",
      "M 3.9 - Gulf of Alaska\n",
      "M 3.8 - 9km SSW of Asenovgrad, Bulgaria\n",
      "M 3.8 - 128km WSW of Chirikof Island, Alaska\n",
      "M 2.6 - 12km NE of West Yellowstone, Montana\n",
      "M 4.2 - 122km SE of Chignik Lake, Alaska\n",
      "M 4.4 - 262km SE of Kodiak, Alaska\n",
      "M 2.7 - 13km NE of West Yellowstone, Montana\n",
      "M 3.1 - 85km NW of San Antonio, Puerto Rico\n",
      "M 2.7 - 5km SSW of Volcano, Hawaii\n",
      "M 4.4 - North of Severnaya Zemlya\n",
      "M 4.2 - 115km S of San Pedro de Atacama, Chile\n",
      "M 3.1 - 156km SW of Amatignak Island, Alaska\n",
      "M 4.4 - 276km ESE of Kodiak, Alaska\n",
      "M 2.6 - Gulf of Alaska\n",
      "M 4.7 - 106km SW of Jiquilillo, Nicaragua\n",
      "M 3.2 - 12km ESE of Lincoln, Montana\n",
      "M 2.9 - 22km NNE of Snyder, Texas\n",
      "M 2.8 - 11km SW of Perry, Oklahoma\n",
      "M 2.5 - 6km W of Petrolia, CA\n",
      "M 3.2 - 62km NNW of Charlotte Amalie, U.S. Virgin Islands\n",
      "M 3.0 - 13km ESE of Soda Springs, Idaho\n",
      "M 2.6 - 12km NE of West Yellowstone, Montana\n",
      "M 2.5 - 269km ESE of Kodiak, Alaska\n",
      "M 4.4 - 262km ESE of Kodiak, Alaska\n",
      "M 2.7 - 10km WNW of Cobb, CA\n",
      "M 3.2 - 46km N of Charlotte Amalie, U.S. Virgin Islands\n",
      "M 5.3 - 214km E of Amahai, Indonesia\n",
      "M 2.7 - 51km SW of Cantwell, Alaska\n",
      "M 5.4 - 205km E of Amahai, Indonesia\n",
      "M 4.1 - 9km NW of Paralia, Greece\n",
      "M 5.0 - Northern Mid-Atlantic Ridge\n",
      "M 3.4 - 112km SSE of Homer, Alaska\n",
      "M 4.2 - 74km S of Pirgos, Greece\n",
      "M 3.2 - 18km N of Christiansted, U.S. Virgin Islands\n",
      "M 2.8 - 60km ENE of Cantwell, Alaska\n",
      "M 5.0 - 35km W of Katastarion, Greece\n",
      "M 4.3 - 4km ENE of Asenovgrad, Bulgaria\n",
      "M 3.3 - 86km SSW of Shishmaref, Alaska\n",
      "M 5.0 - 64km S of Hualian, Taiwan\n",
      "M 2.7 - 20km W of Perry, Oklahoma\n",
      "M 4.8 - 164km ESE of JP Tinian Town pre-WW2, Northern Mariana Islands\n",
      "M 2.9 - 12km N of Tahoe Vista, CA\n",
      "M 4.3 - Kepulauan Barat Daya, Indonesia\n",
      "M 2.9 - 95km ESE of Little Diomede Island, Alaska\n",
      "M 2.6 - 109km N of Arctic Village, Alaska\n",
      "M 3.2 - 89km NE of Punta Cana, Dominican Republic\n",
      "M 4.7 - 89km SSW of Paredon, Mexico\n",
      "M 4.4 - 81km SSW of Puerto El Triunfo, El Salvador\n",
      "M 3.4 - 68km N of Charlotte Amalie, U.S. Virgin Islands\n",
      "M 4.1 - 19km WNW of Ashkasham, Afghanistan\n",
      "M 4.5 - 231km WNW of Saumlaki, Indonesia\n",
      "M 4.7 - 169km NE of Opotiki, New Zealand\n",
      "M 4.6 - West Chile Rise\n",
      "M 3.0 - 94km WSW of Healy, Alaska\n",
      "M 2.5 - 10km N of Mooreland, Oklahoma\n",
      "M 4.4 - West of the Galapagos Islands\n",
      "M 5.2 - Southwest of Africa\n",
      "M 2.9 - 12km SSW of Bootjack, CA\n",
      "M 4.3 - 57km WNW of Abra Pampa, Argentina\n",
      "M 2.5 - 114km SE of Kodiak, Alaska\n",
      "M 3.2 - 103km NNW of Isabela, Puerto Rico\n",
      "M 4.2 - 32km WSW of Ashkasham, Afghanistan\n",
      "M 3.2 - 199km SE of Kodiak, Alaska\n",
      "M 4.7 - 57km WSW of Angoram, Papua New Guinea\n",
      "M 4.8 - 82km SW of Severo-Kuril'sk, Russia\n",
      "M 3.2 - 13km SSW of Volcano, Hawaii\n",
      "M 2.7 - 74km W of Gustavus, Alaska\n",
      "M 3.4 - 37km SW of Healy, Alaska\n",
      "M 2.9 - 115km SSE of King Salmon, Alaska\n",
      "M 2.8 - 3km WNW of Diablo, CA\n",
      "M 4.5 - 185km SSE of Kangin, Indonesia\n",
      "M 2.8 - 269km SE of Kodiak, Alaska\n",
      "M 4.7 - 88km SSE of Putre, Chile\n",
      "M 2.7 - 10km NE of West Yellowstone, Montana\n",
      "M 4.5 - 36km SSW of Mbulung, Indonesia\n",
      "M 3.2 - 7km ENE of Hennessey, Oklahoma\n",
      "M 4.9 - 82km NW of Laiwui, Indonesia\n",
      "M 4.4 - 70km WSW of Padangsidempuan, Indonesia\n",
      "M 4.3 - 74km SSW of Paredon, Mexico\n",
      "M 2.5 - 4km ESE of Mayaguez, Puerto Rico\n",
      "M 3.1 - 23km SE of Boca de Yuma, Dominican Republic\n",
      "M 2.5 - 11km NE of West Yellowstone, Montana\n",
      "M 3.2 - 269km ESE of Kodiak, Alaska\n",
      "M 3.6 - 64km ENE of Whittier, Alaska\n",
      "M 5.0 - 109km ENE of `Ohonua, Tonga\n",
      "M 4.2 - 44km WNW of Taltal, Chile\n",
      "M 2.7 - 39km NW of Whittier, Alaska\n"
     ]
    }
   ],
   "source": [
    "# pull out the title from each earthquake listing\n",
    "\n",
    "for q in quakes:\n",
    "    print(q['properties']['title'])"
   ]
  },
  {
   "cell_type": "code",
   "execution_count": 8,
   "metadata": {},
   "outputs": [
    {
     "name": "stdout",
     "output_type": "stream",
     "text": [
      "292\n"
     ]
    }
   ],
   "source": [
    "# pull out magnitudes and depths into a Pandas dataframe, using\n",
    "# a more compact Python syntax for iterating through lists\n",
    "\n",
    "d = {'magnitude': [q['properties']['mag'] for q in quakes],\n",
    "     'depth': [q['geometry']['coordinates'][2] for q in quakes]}\n",
    "\n",
    "df = pd.DataFrame.from_dict(d)\n",
    "\n",
    "# how many earthquakes were loaded into the dataframe?\n",
    "print(len(df))"
   ]
  },
  {
   "cell_type": "code",
   "execution_count": 9,
   "metadata": {},
   "outputs": [
    {
     "name": "stdout",
     "output_type": "stream",
     "text": [
      "    depth  magnitude\n",
      "0   14.70        5.0\n",
      "1   10.00        4.6\n",
      "2  532.71        4.8\n",
      "3   21.10        4.9\n",
      "4   20.86        4.9\n"
     ]
    }
   ],
   "source": [
    "# print the first few lines of data\n",
    "\n",
    "print(df.head())"
   ]
  },
  {
   "cell_type": "code",
   "execution_count": 10,
   "metadata": {},
   "outputs": [
    {
     "name": "stdout",
     "output_type": "stream",
     "text": [
      "            depth   magnitude\n",
      "count  292.000000  292.000000\n",
      "mean    42.898459    3.956952\n",
      "std     71.503493    0.983635\n",
      "min     -2.100000    2.450000\n",
      "25%     10.000000    2.927500\n",
      "50%     20.480000    4.200000\n",
      "75%     43.055000    4.800000\n",
      "max    613.840000    7.500000\n"
     ]
    }
   ],
   "source": [
    "# print some descriptive statistics\n",
    "\n",
    "print(df.describe())"
   ]
  },
  {
   "cell_type": "code",
   "execution_count": 11,
   "metadata": {},
   "outputs": [
    {
     "data": {
      "text/plain": [
       "<matplotlib.axes._subplots.AxesSubplot at 0x20d0148d0f0>"
      ]
     },
     "execution_count": 11,
     "metadata": {},
     "output_type": "execute_result"
    },
    {
     "data": {
      "image/png": "[encoded data removed]",
      "text/plain": [
       "<matplotlib.figure.Figure at 0x20d013384a8>"
      ]
     },
     "metadata": {},
     "output_type": "display_data"
    }
   ],
   "source": [
    "# plot the depth vs. magnitude\n",
    "\n",
    "df.plot(x='magnitude', y='depth', kind='scatter')"
   ]
  },
  {
   "cell_type": "code",
   "execution_count": 12,
   "metadata": {},
   "outputs": [
    {
     "name": "stdout",
     "output_type": "stream",
     "text": [
      "file saved\n"
     ]
    }
   ],
   "source": [
    "# save the dataframe to disk\n",
    "\n",
    "df.to_csv('usgs_earthquake_data.csv')\n",
    "\n",
    "print('file saved')"
   ]
  },
  {
   "cell_type": "code",
   "execution_count": 13,
   "metadata": {},
   "outputs": [
    {
     "name": "stdout",
     "output_type": "stream",
     "text": [
      "    depth  magnitude\n",
      "0   14.70        5.0\n",
      "1   10.00        4.6\n",
      "2  532.71        4.8\n",
      "3   21.10        4.9\n",
      "4   20.86        4.9\n"
     ]
    }
   ],
   "source": [
    "# read it back later\n",
    "\n",
    "new_df = pd.DataFrame.from_csv('usgs_earthquake_data.csv')\n",
    "\n",
    "print(new_df.head())"
   ]
  },
  {
   "cell_type": "code",
   "execution_count": null,
   "metadata": {
    "collapsed": true
   },
   "outputs": [],
   "source": []
  },
  {
   "cell_type": "code",
   "execution_count": null,
   "metadata": {
    "collapsed": true
   },
   "outputs": [],
   "source": []
  },
  {
   "cell_type": "code",
   "execution_count": null,
   "metadata": {
    "collapsed": true
   },
   "outputs": [],
   "source": []
  },
  {
   "cell_type": "markdown",
   "metadata": {},
   "source": [
    "# Part 2: Querying an API endpoint\n",
    "\n",
    "### Google Maps Geocoding API\n",
    "\n",
    "Google has lots of APIs that let you access its services through code instead of through GUI apps. This one from Google Maps lets you look up the latitude-longitude coordinates of street addresses.\n",
    "\n",
    "It works similarly to the earthquakes example, but with query parameters added to the URL endpoint!\n",
    "\n",
    "**API documentation:**  \n",
    "https://developers.google.com/maps/documentation/geocoding/intro\n",
    "\n",
    "**API endpoint:**  \n",
    "https://maps.googleapis.com/maps/api/geocode/json\n",
    "\n",
    "**API endpoint with query parameters:**  \n",
    "https://maps.googleapis.com/maps/api/geocode/json?address=Wurster+Hall"
   ]
  },
  {
   "cell_type": "code",
   "execution_count": 14,
   "metadata": {
    "collapsed": true
   },
   "outputs": [],
   "source": [
    "import json    # library for working with JSON-formatted text strings\n",
    "import requests  # library for accessing content from web URLs\n",
    "\n",
    "import pprint  # library for making Python data structures readable\n",
    "pp = pprint.PrettyPrinter()"
   ]
  },
  {
   "cell_type": "code",
   "execution_count": 15,
   "metadata": {},
   "outputs": [
    {
     "name": "stdout",
     "output_type": "stream",
     "text": [
      "https://maps.googleapis.com/maps/api/geocode/json?address=young+library+uky\n"
     ]
    }
   ],
   "source": [
    "# we have to encode the search query so that it can be passed as a URL, \n",
    "# with spaces and other special characters removed\n",
    "\n",
    "endpoint = 'https://maps.googleapis.com/maps/api/geocode/json'\n",
    "\n",
    "params = {'address': 'young library uky'}\n",
    "\n",
    "url = requests.Request('GET', endpoint, params=params).prepare().url\n",
    "print(url)"
   ]
  },
  {
   "cell_type": "code",
   "execution_count": 16,
   "metadata": {},
   "outputs": [
    {
     "name": "stdout",
     "output_type": "stream",
     "text": [
      "{'error_message': 'You have exceeded your daily request quota for this API. We recommend registering for a key at the Google Developers Console: https://console.developers.google.com/apis/credentials?project=_', 'results': [], 'status': 'OVER_QUERY_LIMIT'}\n"
     ]
    }
   ],
   "source": [
    "# download and parse the results\n",
    "\n",
    "response = requests.get(url)\n",
    "results = response.text\n",
    "data = json.loads(results)\n",
    "\n",
    "print(data)"
   ]
  },
  {
   "cell_type": "code",
   "execution_count": 17,
   "metadata": {
    "collapsed": true
   },
   "outputs": [],
   "source": [
    "# if needed google_key = ''"
   ]
  },
  {
   "cell_type": "code",
   "execution_count": 18,
   "metadata": {},
   "outputs": [
    {
     "name": "stdout",
     "output_type": "stream",
     "text": [
      "{'error_message': 'You have exceeded your daily request quota for this API. We '\n",
      "                  'recommend registering for a key at the Google Developers '\n",
      "                  'Console: '\n",
      "                  'https://console.developers.google.com/apis/credentials?project=_',\n",
      " 'results': [],\n",
      " 'status': 'OVER_QUERY_LIMIT'}\n"
     ]
    }
   ],
   "source": [
    "# print it more nicely\n",
    "\n",
    "pp.pprint(data)"
   ]
  },
  {
   "cell_type": "code",
   "execution_count": 19,
   "metadata": {},
   "outputs": [],
   "source": [
    "# pull out the lat-lon coordinates\n",
    "\n",
    "for r in data['results']:\n",
    "    coords = r['geometry']['location']\n",
    "    print(coords['lat'], coords['lng'])"
   ]
  },
  {
   "cell_type": "markdown",
   "metadata": {},
   "source": [
    "### Exercises\n",
    "\n",
    "1. Search for some other addresses or landmarks!\n",
    "2. Take a look at the [API documentation](https://developers.google.com/maps/documentation/geocoding/intro). What are the usage limits?"
   ]
  },
  {
   "cell_type": "code",
   "execution_count": 20,
   "metadata": {},
   "outputs": [
    {
     "name": "stdout",
     "output_type": "stream",
     "text": [
      "https://maps.googleapis.com/maps/api/geocode/json?address=152+East+Fourth+St%2C+Lexington%2C+KY+40508\n"
     ]
    }
   ],
   "source": [
    "endpoint = 'https://maps.googleapis.com/maps/api/geocode/json'\n",
    "\n",
    "params = {'address': '152 East Fourth St, Lexington, KY 40508'}\n",
    "\n",
    "url = requests.Request('GET', endpoint, params=params).prepare().url\n",
    "print(url)"
   ]
  },
  {
   "cell_type": "code",
   "execution_count": 21,
   "metadata": {},
   "outputs": [
    {
     "name": "stdout",
     "output_type": "stream",
     "text": [
      "{'error_message': 'You have exceeded your daily request quota for this API. We recommend registering for a key at the Google Developers Console: https://console.developers.google.com/apis/credentials?project=_', 'results': [], 'status': 'OVER_QUERY_LIMIT'}\n"
     ]
    }
   ],
   "source": [
    "# download and parse the results\n",
    "\n",
    "response = requests.get(url)\n",
    "results = response.text\n",
    "data = json.loads(results)\n",
    "\n",
    "print(data)"
   ]
  },
  {
   "cell_type": "code",
   "execution_count": 22,
   "metadata": {},
   "outputs": [
    {
     "name": "stdout",
     "output_type": "stream",
     "text": [
      "{'error_message': 'You have exceeded your daily request quota for this API. We '\n",
      "                  'recommend registering for a key at the Google Developers '\n",
      "                  'Console: '\n",
      "                  'https://console.developers.google.com/apis/credentials?project=_',\n",
      " 'results': [],\n",
      " 'status': 'OVER_QUERY_LIMIT'}\n"
     ]
    }
   ],
   "source": [
    "pp.pprint(data)"
   ]
  },
  {
   "cell_type": "code",
   "execution_count": 23,
   "metadata": {},
   "outputs": [],
   "source": [
    "for r in data['results']:\n",
    "    coords = r['geometry']['location']\n",
    "    print(coords['lat'], coords['lng'])"
   ]
  },
  {
   "cell_type": "code",
   "execution_count": 24,
   "metadata": {
    "collapsed": true
   },
   "outputs": [],
   "source": [
    "# 2,500 free requests per day, calculated as the sum of client-side and server-side queries.\n",
    "# 50 requests per second, calculated as the sum of client-side and server-side queries."
   ]
  },
  {
   "cell_type": "markdown",
   "metadata": {},
   "source": [
    "# Part 3: Querying an API with authentication\n",
    "\n",
    "### Twitter REST APIs\n",
    "\n",
    "Twitter's APIs also operate over the web, but they require a back-and-forth authentication process at the beginning of each connection. It's easier to have a Python library handle this than to create the query URLs ourselves.\n",
    "\n",
    "The Twitter \"REST\" APIs perform stand-alone operations: you submit a query and receive results, like in earlier examples. ([REST](https://en.wikipedia.org/wiki/Representational_state_transfer) is a particular set of guidelines that many APIs follow.) Twitter also has a \"streaming\" API that continues sending results in real time until you disconnect.\n",
    "\n",
    "**API documentation:**  \n",
    "https://dev.twitter.com/rest/public  \n",
    "https://dev.twitter.com/overview/api/tweets\n",
    "\n",
    "**Documentation for the Python helper library**:  \n",
    "https://github.com/geduldig/TwitterAPI"
   ]
  },
  {
   "cell_type": "code",
   "execution_count": 25,
   "metadata": {
    "collapsed": true
   },
   "outputs": [],
   "source": [
    "from TwitterAPI import TwitterAPI\n",
    "\n",
    "import pprint  # library for making Python data structures readable\n",
    "pp = pprint.PrettyPrinter()"
   ]
  },
  {
   "cell_type": "code",
   "execution_count": 26,
   "metadata": {
    "collapsed": true
   },
   "outputs": [],
   "source": [
    "# import API credentials from keys.py file in the\n",
    "# same directory as this notebook\n",
    "\n",
    "from keys import *"
   ]
  },
  {
   "cell_type": "code",
   "execution_count": 27,
   "metadata": {},
   "outputs": [
    {
     "name": "stdout",
     "output_type": "stream",
     "text": [
      "Connection is set up but not tested\n"
     ]
    }
   ],
   "source": [
    "# set up an API connection using credentials from the keys file\n",
    "\n",
    "api = TwitterAPI(consumer_key, consumer_secret, \n",
    "                 access_token, access_token_secret)\n",
    "\n",
    "print(\"Connection is set up but not tested\")"
   ]
  },
  {
   "cell_type": "markdown",
   "metadata": {},
   "source": [
    "### Making a simple data request"
   ]
  },
  {
   "cell_type": "code",
   "execution_count": 28,
   "metadata": {},
   "outputs": [
    {
     "name": "stdout",
     "output_type": "stream",
     "text": [
      "The 360-degree gigapixel photo from Saturday’s @KentuckyMBB game is here! If you were there, go to… https://t.co/v2q4D6Soin\n",
      "RT @UKTix: A clear bag policy will once again be in effect at this year's @SEC Men's &amp; Women's Basketball Tournaments.\n",
      "\n",
      "INFO: https://t.co/…\n",
      "RT @KentuckyMBB: Quite the week for @JVando, capped by his first career @SEC Freshman of the Week honors:\n",
      "\n",
      "🔵 Led UK wins over Arkansas and…\n",
      "RT @UKBaseball: Congrats to @CollettTj on being named one of @CBNewspaper's National Players of the Week after hitting four HRs and driving…\n",
      "RT @KentuckyMBB: Hello there, @AP_Top25. It's good to be back.\n",
      "\n",
      "We check in at No. 23 this week after a two-week break.\n"
     ]
    }
   ],
   "source": [
    "# most recent tweet from @UCBerkeley's timeline\n",
    "\n",
    "endpoint = 'statuses/user_timeline'\n",
    "params = {\n",
    "    'screen_name': 'UKAthletics', \n",
    "    'count': 5\n",
    "}\n",
    "r = api.request(endpoint, params)\n",
    "\n",
    "for tweet in r.get_iterator():\n",
    "    print(tweet['text'])"
   ]
  },
  {
   "cell_type": "code",
   "execution_count": 29,
   "metadata": {},
   "outputs": [
    {
     "name": "stdout",
     "output_type": "stream",
     "text": [
      "{'contributors': None,\n",
      " 'coordinates': None,\n",
      " 'created_at': 'Mon Feb 26 17:18:35 +0000 2018',\n",
      " 'entities': {'hashtags': [],\n",
      "              'symbols': [],\n",
      "              'urls': [],\n",
      "              'user_mentions': [{'id': 35583547,\n",
      "                                 'id_str': '35583547',\n",
      "                                 'indices': [3, 15],\n",
      "                                 'name': 'Kentucky Basketball',\n",
      "                                 'screen_name': 'KentuckyMBB'},\n",
      "                                {'id': 61824637,\n",
      "                                 'id_str': '61824637',\n",
      "                                 'indices': [30, 39],\n",
      "                                 'name': 'AP Top 25',\n",
      "                                 'screen_name': 'AP_Top25'}]},\n",
      " 'favorite_count': 0,\n",
      " 'favorited': False,\n",
      " 'geo': None,\n",
      " 'id': 968173460898885633,\n",
      " 'id_str': '968173460898885633',\n",
      " 'in_reply_to_screen_name': None,\n",
      " 'in_reply_to_status_id': None,\n",
      " 'in_reply_to_status_id_str': None,\n",
      " 'in_reply_to_user_id': None,\n",
      " 'in_reply_to_user_id_str': None,\n",
      " 'is_quote_status': False,\n",
      " 'lang': 'en',\n",
      " 'place': None,\n",
      " 'retweet_count': 141,\n",
      " 'retweeted': False,\n",
      " 'retweeted_status': {'contributors': None,\n",
      "                      'coordinates': None,\n",
      "                      'created_at': 'Mon Feb 26 17:18:28 +0000 2018',\n",
      "                      'entities': {'hashtags': [],\n",
      "                                   'symbols': [],\n",
      "                                   'urls': [],\n",
      "                                   'user_mentions': [{'id': 61824637,\n",
      "                                                      'id_str': '61824637',\n",
      "                                                      'indices': [13, 22],\n",
      "                                                      'name': 'AP Top 25',\n",
      "                                                      'screen_name': 'AP_Top25'}]},\n",
      "                      'favorite_count': 711,\n",
      "                      'favorited': False,\n",
      "                      'geo': None,\n",
      "                      'id': 968173432188829696,\n",
      "                      'id_str': '968173432188829696',\n",
      "                      'in_reply_to_screen_name': None,\n",
      "                      'in_reply_to_status_id': None,\n",
      "                      'in_reply_to_status_id_str': None,\n",
      "                      'in_reply_to_user_id': None,\n",
      "                      'in_reply_to_user_id_str': None,\n",
      "                      'is_quote_status': False,\n",
      "                      'lang': 'en',\n",
      "                      'place': None,\n",
      "                      'retweet_count': 141,\n",
      "                      'retweeted': False,\n",
      "                      'source': '<a '\n",
      "                                'href=\"https://about.twitter.com/products/tweetdeck\" '\n",
      "                                'rel=\"nofollow\">TweetDeck</a>',\n",
      "                      'text': \"Hello there, @AP_Top25. It's good to be back.\\n\"\n",
      "                              '\\n'\n",
      "                              'We check in at No. 23 this week after a '\n",
      "                              'two-week break.',\n",
      "                      'truncated': False,\n",
      "                      'user': {'contributors_enabled': False,\n",
      "                               'created_at': 'Sun Apr 26 22:25:01 +0000 2009',\n",
      "                               'default_profile': False,\n",
      "                               'default_profile_image': False,\n",
      "                               'description': 'The official Twitter account '\n",
      "                                              'for the eight-time national '\n",
      "                                              \"champion Kentucky men's \"\n",
      "                                              'basketball team, the winningest '\n",
      "                                              'program in college basketball.',\n",
      "                               'entities': {'description': {'urls': []},\n",
      "                                            'url': {'urls': [{'display_url': 'ukathletics.com',\n",
      "                                                              'expanded_url': 'http://ukathletics.com',\n",
      "                                                              'indices': [0,\n",
      "                                                                          23],\n",
      "                                                              'url': 'https://t.co/kMUdWRDbJ6'}]}},\n",
      "                               'favourites_count': 160,\n",
      "                               'follow_request_sent': False,\n",
      "                               'followers_count': 755942,\n",
      "                               'following': False,\n",
      "                               'friends_count': 603,\n",
      "                               'geo_enabled': True,\n",
      "                               'has_extended_profile': False,\n",
      "                               'id': 35583547,\n",
      "                               'id_str': '35583547',\n",
      "                               'is_translation_enabled': False,\n",
      "                               'is_translator': False,\n",
      "                               'lang': 'en',\n",
      "                               'listed_count': 1014,\n",
      "                               'location': 'Lexington, Ky.',\n",
      "                               'name': 'Kentucky Basketball',\n",
      "                               'notifications': False,\n",
      "                               'profile_background_color': '0A11B8',\n",
      "                               'profile_background_image_url': 'http://pbs.twimg.com/profile_background_images/844754059/982d3add636b3b838c34e60088d46411.jpeg',\n",
      "                               'profile_background_image_url_https': 'https://pbs.twimg.com/profile_background_images/844754059/982d3add636b3b838c34e60088d46411.jpeg',\n",
      "                               'profile_background_tile': False,\n",
      "                               'profile_banner_url': 'https://pbs.twimg.com/profile_banners/35583547/1502115999',\n",
      "                               'profile_image_url': 'http://pbs.twimg.com/profile_images/875807773619040257/Z-qMKViO_normal.jpg',\n",
      "                               'profile_image_url_https': 'https://pbs.twimg.com/profile_images/875807773619040257/Z-qMKViO_normal.jpg',\n",
      "                               'profile_link_color': '060404',\n",
      "                               'profile_sidebar_border_color': 'FFFFFF',\n",
      "                               'profile_sidebar_fill_color': 'FFFFFF',\n",
      "                               'profile_text_color': '060404',\n",
      "                               'profile_use_background_image': True,\n",
      "                               'protected': False,\n",
      "                               'screen_name': 'KentuckyMBB',\n",
      "                               'statuses_count': 27206,\n",
      "                               'time_zone': 'Eastern Time (US & Canada)',\n",
      "                               'translator_type': 'none',\n",
      "                               'url': 'https://t.co/kMUdWRDbJ6',\n",
      "                               'utc_offset': -18000,\n",
      "                               'verified': True}},\n",
      " 'source': '<a href=\"http://twitter.com/download/iphone\" '\n",
      "           'rel=\"nofollow\">Twitter for iPhone</a>',\n",
      " 'text': \"RT @KentuckyMBB: Hello there, @AP_Top25. It's good to be back.\\n\"\n",
      "         '\\n'\n",
      "         'We check in at No. 23 this week after a two-week break.',\n",
      " 'truncated': False,\n",
      " 'user': {'contributors_enabled': False,\n",
      "          'created_at': 'Tue Mar 17 18:41:37 +0000 2009',\n",
      "          'default_profile': False,\n",
      "          'default_profile_image': False,\n",
      "          'description': 'The official Twitter account of the University of '\n",
      "                         'Kentucky Athletics Department. Facebook: Kentucky '\n",
      "                         'Wildcats; Instagram: ukathletics; Snapchat: '\n",
      "                         'uk_athletics',\n",
      "          'entities': {'description': {'urls': []},\n",
      "                       'url': {'urls': [{'display_url': 'ukathletics.com',\n",
      "                                         'expanded_url': 'http://www.ukathletics.com/',\n",
      "                                         'indices': [0, 23],\n",
      "                                         'url': 'https://t.co/Zqcn6uhNdp'}]}},\n",
      "          'favourites_count': 4226,\n",
      "          'follow_request_sent': False,\n",
      "          'followers_count': 320874,\n",
      "          'following': False,\n",
      "          'friends_count': 805,\n",
      "          'geo_enabled': True,\n",
      "          'has_extended_profile': False,\n",
      "          'id': 24929053,\n",
      "          'id_str': '24929053',\n",
      "          'is_translation_enabled': False,\n",
      "          'is_translator': False,\n",
      "          'lang': 'en',\n",
      "          'listed_count': 1357,\n",
      "          'location': 'Lexington, Ky.',\n",
      "          'name': 'Kentucky Athletics',\n",
      "          'notifications': False,\n",
      "          'profile_background_color': '000738',\n",
      "          'profile_background_image_url': 'http://pbs.twimg.com/profile_background_images/454256249635237888/rrHm7iuI.jpeg',\n",
      "          'profile_background_image_url_https': 'https://pbs.twimg.com/profile_background_images/454256249635237888/rrHm7iuI.jpeg',\n",
      "          'profile_background_tile': False,\n",
      "          'profile_banner_url': 'https://pbs.twimg.com/profile_banners/24929053/1517845679',\n",
      "          'profile_image_url': 'http://pbs.twimg.com/profile_images/875802157605408769/-DftO40K_normal.jpg',\n",
      "          'profile_image_url_https': 'https://pbs.twimg.com/profile_images/875802157605408769/-DftO40K_normal.jpg',\n",
      "          'profile_link_color': '084AE7',\n",
      "          'profile_sidebar_border_color': 'FFFFFF',\n",
      "          'profile_sidebar_fill_color': 'FFFFFF',\n",
      "          'profile_text_color': '787878',\n",
      "          'profile_use_background_image': True,\n",
      "          'protected': False,\n",
      "          'screen_name': 'UKAthletics',\n",
      "          'statuses_count': 41647,\n",
      "          'time_zone': 'Eastern Time (US & Canada)',\n",
      "          'translator_type': 'none',\n",
      "          'url': 'https://t.co/Zqcn6uhNdp',\n",
      "          'utc_offset': -18000,\n",
      "          'verified': True}}\n"
     ]
    }
   ],
   "source": [
    "# what other data is there?\n",
    "\n",
    "pp.pprint(tweet)"
   ]
  },
  {
   "cell_type": "markdown",
   "metadata": {},
   "source": [
    "### Other API endpoints allow different types of searches"
   ]
  },
  {
   "cell_type": "code",
   "execution_count": 30,
   "metadata": {},
   "outputs": [
    {
     "name": "stdout",
     "output_type": "stream",
     "text": [
      "RT @dennisasmith02: #BBN https://t.co/Ng4IeWDU0F\n",
      "\n",
      "RT @mrs_toes: #BBN  The Brow stays hot in February https://t.co/gnW2QWyVKF\n",
      "\n",
      "RT @roAnne: 2 miles done!!! Feels so good sweating in the rain! #BBN representin' 💙 https://t.co/ep7RYO3SpY\n",
      "\n",
      "#BBN https://t.co/Ng4IeWDU0F\n",
      "\n",
      "👍 #BBN https://t.co/vND49EBbPA\n",
      "\n"
     ]
    }
   ],
   "source": [
    "# search for public tweets about #BBN\n",
    "\n",
    "endpoint = 'search/tweets'\n",
    "params = {\n",
    "    'q': '#BBN', \n",
    "    'count': 5\n",
    "}\n",
    "r = api.request(endpoint, params)\n",
    "\n",
    "for tweet in r.get_iterator():\n",
    "    print(tweet['text'] + '\\n')"
   ]
  },
  {
   "cell_type": "code",
   "execution_count": 31,
   "metadata": {},
   "outputs": [
    {
     "name": "stdout",
     "output_type": "stream",
     "text": [
      "RT @_akshaykumar__: #सोनिया का दामाद,\n",
      "#लालू का दामाद,\n",
      "#पवार का दामाद,\n",
      "और अब #अमरिंदर का दामाद !!\n",
      "\n",
      "ये कोंग्रेसी घोटालेबाज़ को ही दामाद चुनते…\n",
      "\n",
      "RT @RaviDas46406918: #हमको_भी_मरना_है \n",
      "यह जीवन हर हट का कुआं लोई ।\n",
      "           या गल बंदा है सब कोई ।।कीड़ी कुंजर और अवतारा।\n",
      "         हरहट…\n",
      "\n",
      "RT @AbhishekDas210: #TuesdayThoughts\n",
      "#हमको_भी_मरना_है ये इस संसार का नियम है जो जन्म लेता है, वे मरता भी है।पर सोचने की बात यह है कि क्या ह…\n",
      "\n",
      "@sexy14963907 @Laila3624 @jeetendragamit2 मेरा वाला  केसा है https://t.co/qlv8baS19A\n",
      "\n",
      "@Shehla_Rashid @vineetjaintimes @timesofindia Kitne aaye? 10-20 aaye ya nahi.\n",
      "\n"
     ]
    }
   ],
   "source": [
    "# search for public tweets in Hindi\n",
    "\n",
    "endpoint = 'search/tweets'\n",
    "params = {\n",
    "    'q': '*', \n",
    "    'lang': 'hi', \n",
    "    'count': 5\n",
    "} \n",
    "r = api.request(endpoint, params)\n",
    "\n",
    "for tweet in r.get_iterator():\n",
    "    print(tweet['text'] + '\\n')"
   ]
  },
  {
   "cell_type": "code",
   "execution_count": 32,
   "metadata": {},
   "outputs": [
    {
     "name": "stdout",
     "output_type": "stream",
     "text": [
      "New Blog Post Why are You Inflexible?  https://t.co/zG4DQ8ETsK\n",
      "\n",
      "Yay Monday’s 😭 https://t.co/RRC48Yid9I\n",
      "\n",
      "No reason to dread Mondays When Pilates is an option! Start your day and week feeling long,… https://t.co/s3qe9u0w25\n",
      "\n",
      "Just a few days left for our February Special!! Three privates for just… https://t.co/4wuMHix6pQ\n",
      "\n",
      "It may be rainy 🌨 outside… But it’s nice and shiny in the studio. Getting ready for a couple… https://t.co/pHspmEq0ze\n",
      "\n",
      "Another reason to #LoveYourLibrary -- you can find fascinating letters and papers written by… https://t.co/cGSRVDj8Wm\n",
      "\n",
      "“Take God seriously, take other people seriously, take yourself lightly, and take your emotions the lightest.” @mattdampier\n",
      "\n",
      "When you can’t decide which of your new reformers to play on ...you play on all of them!… https://t.co/w1xNdMH6KF\n",
      "\n",
      "They are here!!! New Reformers in the house 🎉\n",
      ".\n",
      ".\n",
      "#shinepilatesstudio #sharethelex… https://t.co/7wwj3shjFt\n",
      "\n",
      "There’s still time to sign up for our last event of Raise the Dough tonight at 6pm! There is a… https://t.co/8aX10jJJ33\n",
      "\n"
     ]
    }
   ],
   "source": [
    "# search for public tweets geotagged near the UK campus\n",
    "\n",
    "endpoint = 'search/tweets'\n",
    "params = {\n",
    "    'q': '*', \n",
    "    'geocode': '38.034,-84.500,0.5km', \n",
    "    'count': 10\n",
    "} \n",
    "r = api.request(endpoint, params)\n",
    "\n",
    "for tweet in r.get_iterator():\n",
    "    print(tweet['text'] + '\\n')"
   ]
  },
  {
   "cell_type": "markdown",
   "metadata": {},
   "source": [
    "### Exercises\n",
    "\n",
    "1. Try some different search queries!\n",
    "2. Display some more data fields in addition to the tweet text"
   ]
  },
  {
   "cell_type": "code",
   "execution_count": 33,
   "metadata": {},
   "outputs": [
    {
     "name": "stdout",
     "output_type": "stream",
     "text": [
      "#Batman #CutestPet #iHeartAwards\n",
      "\n",
      "#Batman #CutestPet #iHeartAwards\n",
      "\n",
      "@BatmanxElla never been hurt #Batman #CutestPet #iHeartAwards\n",
      "\n",
      "RT @BaseLovatics: Retweet for Batman.\n",
      "#Batman\n",
      "#CutestPet\n",
      "#iHeartAwards https://t.co/xv9Waifclg\n",
      "\n",
      "RT @SVMT93: @BatmanxElla @selflovato_ TELL ME YOU LOVE ME #Batman #CutestPet #iHeartAwards\n",
      "\n"
     ]
    }
   ],
   "source": [
    "# search for public tweets about #BBN\n",
    "\n",
    "endpoint = 'search/tweets'\n",
    "params = {\n",
    "    'q': '#batman', \n",
    "    'count': 5\n",
    "}\n",
    "r = api.request(endpoint, params)\n",
    "\n",
    "for tweet in r.get_iterator():\n",
    "    print(tweet['text'] + '\\n')"
   ]
  },
  {
   "cell_type": "code",
   "execution_count": null,
   "metadata": {
    "collapsed": true
   },
   "outputs": [],
   "source": []
  },
  {
   "cell_type": "code",
   "execution_count": null,
   "metadata": {
    "collapsed": true
   },
   "outputs": [],
   "source": []
  },
  {
   "cell_type": "markdown",
   "metadata": {},
   "source": [
    "### Bonus: Streaming live tweets in real time "
   ]
  },
  {
   "cell_type": "code",
   "execution_count": 34,
   "metadata": {},
   "outputs": [
    {
     "name": "stdout",
     "output_type": "stream",
     "text": [
      "Tue Feb 27 15:14:52 +0000 2018\n",
      "Norfolk, NE, United States\n",
      "Want to work in #Norfolk, NE? View our latest opening: https://t.co/oc30P4BqL3 #Nurse #RN #nursepractitioner #Job #Jobs #Hiring\n",
      "\n",
      "Tue Feb 27 15:14:52 +0000 2018\n",
      "Brasília, Brasil, Brasil\n",
      "@saIvagni Hehehehehehehe vsf\n",
      "\n",
      "Tue Feb 27 15:14:52 +0000 2018\n",
      "Petaluma, CA, United States\n",
      "@jaronrayhinds Outsmart clickbait with our new chrome extension on PH.\n",
      "https://t.co/3PxidPf9uS\n",
      "\n",
      "Tue Feb 27 15:14:52 +0000 2018\n",
      "Seabra, Brasil, Brasil\n",
      "@BiaArantes Que tiro foi esse? Minina Bia arretada! Isso que se faz! Iluminarti kkk\n",
      "\n",
      "Tue Feb 27 15:14:52 +0000 2018\n",
      "أبوظبي, الامارات العربية المتحدة, الامارات العربية المتحدة\n",
      "اللهم ارحم جدي ثبته عند السؤال💛\n",
      "\n",
      "Tue Feb 27 15:14:52 +0000 2018\n",
      "Irving, TX, United States\n",
      "Anyone can be in the MCU tbh!!! https://t.co/Ep4306Axkj\n",
      "\n",
      "Tue Feb 27 15:14:52 +0000 2018\n",
      "Offutt Air Force Base, NE, United States\n",
      "Want to work at Booz Allen? We're #hiring in #OffuttAFB, NE! Click for details: https://t.co/wXlCGhHSD2 #BoozAllen… https://t.co/lm3Cbfntae\n",
      "\n",
      "Tue Feb 27 15:14:52 +0000 2018\n",
      "Lomas de Zamora, Argentina, Argentina\n",
      "@gus_bs Por q si Fantino como Mirta L no interrumpen piensan q no son inteligentes ..lo q no saben q la gente ya lo… https://t.co/wSrlTWvNRz\n",
      "\n",
      "Tue Feb 27 15:14:52 +0000 2018\n",
      "Sawai Madhopur, India, India\n",
      "गुरु ज्ञान  मनुष्य जन्म इसलिए नहीं मिला है कि धन दौलत जोड़ें मनुष्य जन्म का कोई और ही उद्देश्य है देखिए 740 से 840… https://t.co/gKCSnjUX8R\n",
      "\n",
      "Tue Feb 27 15:14:52 +0000 2018\n",
      "Schaffhausen, Switzerland, Switzerland\n",
      "This reminds me! I went looking for chicken livers and they had none. I need to go look again and see if they resto… https://t.co/XBVTEpKcII\n",
      "\n",
      "Tue Feb 27 15:14:52 +0000 2018\n",
      "anto Domingo de Guzmán, Dominican Republic, Dominican Republic\n",
      "@PresidenciaRD @DaniloMedina #DeLaPobrezaALaIndigencia\n",
      "#RendiciónDeCuentos #DaniloTodoEsHastaUnDía\n",
      "\n",
      "Tue Feb 27 15:14:52 +0000 2018\n",
      "Lincoln, NE, United States\n",
      "This #job might be a great fit for you: Specialty Lab Assistant-Cytology (Lincoln, NE) - https://t.co/3C8OFgCW0g… https://t.co/sVzUP3nQMl\n",
      "\n",
      "Tue Feb 27 15:14:52 +0000 2018\n",
      "Point Pleasant, NJ, United States\n",
      "Happy Birthday Champ 🥄🥄🥄@Joey_Lo90 https://t.co/eaScMA5J9V\n",
      "\n",
      "Tue Feb 27 15:14:52 +0000 2018\n",
      "Tuxtla Gutiérrez, Chiapas, México\n",
      "Voto por #NuncaCambies de @panchobarraza20 para el #TopSurEste @monitorLATINO @SAPSGrupero @DivasDeBarraza @RBMUSICOFICIAL 8\n",
      "\n",
      "Tue Feb 27 15:14:52 +0000 2018\n",
      "Lincoln, NE, United States\n",
      "don’t you love when you are walking to class and somehow you accidentally end up at starbucks instead??\n",
      "\n",
      "Tue Feb 27 15:14:52 +0000 2018\n",
      "Springfield, IL, United States\n",
      "Want to work at Kelly Services? We're #hiring in #Springfield, IL! Click for details: https://t.co/MSYlHTXztn… https://t.co/LWicPNvzJo\n",
      "\n",
      "Tue Feb 27 15:14:52 +0000 2018\n",
      "Iruma-shi, Saitama, Japan\n",
      "この季節花粉症つらすぎまじ卍👎😷\n",
      "\n",
      "Tue Feb 27 15:14:52 +0000 2018\n",
      "宮崎 宮崎市, 日本\n",
      "こつこつキャップを集める日々 https://t.co/GO0Yaey1zW\n",
      "\n",
      "Tue Feb 27 15:14:52 +0000 2018\n",
      "Porvoo, Suomi, Suomi\n",
      "Mitäs tuumaat, @ViliKurkela? #digiajanajattelijat https://t.co/xzFpDeKMBq\n",
      "\n",
      "Tue Feb 27 15:14:52 +0000 2018\n",
      "Cincinnati, OH, United States\n",
      "i can smell cuties from miles away\n",
      "\n",
      "Tue Feb 27 15:14:52 +0000 2018\n",
      "Mooresville, NC, United States\n",
      "We're #hiring! Read about our latest #job opening here: Store Team Member - https://t.co/7KwVZDsqae #Retail #Mooresville, NC #CareerArc\n",
      "\n",
      "Tue Feb 27 15:14:52 +0000 2018\n",
      "Central, Paraguay, Paraguay\n",
      "Silva... ¡no nos cagues el día de tu cumpleaños! 🙏🏻\n",
      "\n"
     ]
    }
   ],
   "source": [
    "# Twitter limits simultaneous connections to the streaming API,\n",
    "# so this part may not work using the demo API keys during class\n",
    "\n",
    "endpoint = 'statuses/filter'\n",
    "params = {'locations': '-180,-90,180,90'}\n",
    "r = api.request(endpoint, params)\n",
    "LIMIT = 20\n",
    "\n",
    "# 'enumerate' lets us count tweets as we receive them\n",
    "\n",
    "for i, tweet in enumerate(r.get_iterator()):\n",
    "    print(tweet['created_at'])\n",
    "    print(tweet['place']['full_name'] + ', ' + tweet['place']['country'])\n",
    "    print(tweet['text'] + '\\n')\n",
    "    if (i > LIMIT): break\n",
    "\n",
    "# close the streaming connection\n",
    "r.close()"
   ]
  },
  {
   "cell_type": "code",
   "execution_count": null,
   "metadata": {
    "collapsed": true
   },
   "outputs": [],
   "source": []
  },
  {
   "cell_type": "code",
   "execution_count": null,
   "metadata": {
    "collapsed": true
   },
   "outputs": [],
   "source": []
  },
  {
   "cell_type": "code",
   "execution_count": null,
   "metadata": {
    "collapsed": true
   },
   "outputs": [],
   "source": []
  },
  {
   "cell_type": "markdown",
   "metadata": {},
   "source": [
    "### Exercises for the remainder of class\n",
    "\n",
    "1. Make a scatter plot of the lat-lon coordinates of earthquakes.  \n",
    "   &nbsp;\n",
    "   \n",
    "2. Using the geocoding example as a starting point, try searching the Google Maps Directions API or Elevation API instead. Descriptions are in the [API documentation](https://developers.google.com/maps/documentation/geocoding/intro).  \n",
    "   &nbsp;\n",
    "   "
   ]
  },
  {
   "cell_type": "code",
   "execution_count": 35,
   "metadata": {},
   "outputs": [
    {
     "ename": "SyntaxError",
     "evalue": "invalid syntax (<ipython-input-35-5db5e8fb1d7d>, line 1)",
     "output_type": "error",
     "traceback": [
      "\u001b[1;36m  File \u001b[1;32m\"<ipython-input-35-5db5e8fb1d7d>\"\u001b[1;36m, line \u001b[1;32m1\u001b[0m\n\u001b[1;33m    def\u001b[0m\n\u001b[1;37m       ^\u001b[0m\n\u001b[1;31mSyntaxError\u001b[0m\u001b[1;31m:\u001b[0m invalid syntax\n"
     ]
    }
   ],
   "source": [
    "def\n",
    "\n",
    "    endpoint = 'https://maps.googleapis.com/maps/api/geocode/json'\n",
    "\n",
    "    params = {'address': 'earthquake'}\n",
    "\n",
    "    url = requests.Request('GET', endpoint, params=params).prepare().url\n",
    "    print(url)"
   ]
  },
  {
   "cell_type": "markdown",
   "metadata": {
    "collapsed": true
   },
   "source": [
    "### For next time...\n",
    "\n",
    "In the next class, you will try out another API that provides data you're interested in. You will be asked to try connecting to it using Python code, and performing some basic operations on the data.  To come prepared for next time, please explore some of the transportation-related APIs that may be valuable, and choose one that is of interest to you.\n",
    "\n",
    "Here are a a few to get you started. \n",
    "\n",
    "Public Transit\n",
    "https://www.programmableweb.com/news/how-smart-cities-are-using-apis-public-transport-apis/2014/05/22\n",
    "\n",
    "Long-Distance Travel\n",
    "http://www.olery.com/blog/the-best-travel-apis-discover-contribute/ \n",
    "\n",
    "Transportation\n",
    "https://www.programmableweb.com/category/transportation/api\n",
    "\n",
    "\n",
    "Start by reading the public transit page, because that provides a nice overview of the types of applications out there, and some of the issues in using them.  These lessons often apply to traffic and transportation more generally.  \n",
    "\n",
    "Keep in mind that there are a number of different organizations that provide APIs, with different motivations and quality of what is provided.  If it is a private company, what is their business model?  What is the underlying source of the data, and what might that imply about how representative it is of the real world?  There is a ton of stuff out there.  How do we go about sorting out what is useful to us and what is now.  Spend some time exploring these and thinking about these questions.  \n"
   ]
  },
  {
   "cell_type": "code",
   "execution_count": null,
   "metadata": {
    "collapsed": true
   },
   "outputs": [],
   "source": []
  },
  {
   "cell_type": "code",
   "execution_count": null,
   "metadata": {
    "collapsed": true
   },
   "outputs": [],
   "source": []
  }
 ],
 "metadata": {
  "anaconda-cloud": {},
  "kernelspec": {
   "display_name": "Python 3",
   "language": "python",
   "name": "python3"
  },
  "language_info": {
   "codemirror_mode": {
    "name": "ipython",
    "version": 3
   },
   "file_extension": ".py",
   "mimetype": "text/x-python",
   "name": "python",
   "nbconvert_exporter": "python",
   "pygments_lexer": "ipython3",
   "version": "3.6.3"
  }
 },
 "nbformat": 4,
 "nbformat_minor": 1
}
