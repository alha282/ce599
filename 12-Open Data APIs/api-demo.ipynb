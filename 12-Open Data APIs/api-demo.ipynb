{
 "cells": [
  {
   "cell_type": "markdown",
   "metadata": {},
   "source": [
    "# Working with Data APIs\n",
    "\n",
    "**Adapted from: Sam Maurer // maurer@berkeley.edu // Oct. 3, 2016**\n",
    "\n",
    "This notebook provides a demonstration of data-access APIs that operate over the web. See README.md for setup instructions.\n",
    "\n",
    "In Part 1, we'll load and parse results from an API feed of earthquake data.  \n",
    "In Part 2, we'll add query parameters to the workflow, using the Google Maps Geolocation API as an example.  \n",
    "In Part 3, we'll use an authenticated API to query public Twitter posts. "
   ]
  },
  {
   "cell_type": "markdown",
   "metadata": {},
   "source": [
    "# Part 1: Reading from an automated data feed\n",
    "\n",
    "### USGS real-time earthquake feeds\n",
    "\n",
    "This is an API for near-real-time data about earthquakes. Data is provided in JSON format over the web. No authentication is needed, and there's no way to customize the output. Instead, the API has a separate endpoint for each permutation of the data that users might want.\n",
    "\n",
    "**API documentation:**  \n",
    "http://earthquake.usgs.gov/earthquakes/feed/v1.0/geojson.php\n",
    "\n",
    "**Sample API endpoint, for magnitude 4.5+ earthquakes in past day:**  \n",
    "http://earthquake.usgs.gov/earthquakes/feed/v1.0/summary/4.5_day.geojson  \n"
   ]
  },
  {
   "cell_type": "code",
   "execution_count": 1,
   "metadata": {
    "collapsed": true
   },
   "outputs": [],
   "source": [
    "%matplotlib inline\n",
    "\n",
    "import pandas as pd\n",
    "\n",
    "import json    # library for working with JSON-formatted text strings\n",
    "import requests  # library for accessing content from web URLs\n",
    "\n",
    "import pprint  # library for making Python data structures readable\n",
    "pp = pprint.PrettyPrinter()"
   ]
  },
  {
   "cell_type": "code",
   "execution_count": 2,
   "metadata": {},
   "outputs": [
    {
     "name": "stdout",
     "output_type": "stream",
     "text": [
      "<class 'str'>\n"
     ]
    }
   ],
   "source": [
    "# download data on magnitude 2.5+ quakes from the past week\n",
    "\n",
    "endpoint_url = \"http://earthquake.usgs.gov/earthquakes/feed/v1.0/summary/2.5_week.geojson\"\n",
    "response = requests.get(endpoint_url)\n",
    "results = response.text\n",
    "\n",
    "# what is the data type of the results?\n",
    "print(type(results))"
   ]
  },
  {
   "cell_type": "code",
   "execution_count": 3,
   "metadata": {},
   "outputs": [
    {
     "name": "stdout",
     "output_type": "stream",
     "text": [
      "{\"type\":\"FeatureCollection\",\"metadata\":{\"generated\":1520269845000,\"url\":\"https://earthquake.usgs.gov/earthquakes/feed/v1.0/summary/2.5_week.geojson\",\"title\":\"USGS Magnitude 2.5+ Earthquakes, Past Week\",\"status\":200,\"api\":\"1.5.8\",\"count\":320},\"features\":[{\"type\":\"Feature\",\"properties\":{\"mag\":5.1,\"place\":\"130km ESE of Petropavlovsk-Kamchatskiy, Russia\",\"time\":1520264562630,\"updated\":1520268757040,\"tz\":660,\"url\":\"https://earthquake.usgs.gov/earthquakes/eventpage/us2000dcfn\",\"detail\":\"https://earthq\n"
     ]
    }
   ],
   "source": [
    "# print the first 500 characters to see a sample of the data\n",
    "\n",
    "print(results[:500])"
   ]
  },
  {
   "cell_type": "code",
   "execution_count": 4,
   "metadata": {},
   "outputs": [
    {
     "name": "stdout",
     "output_type": "stream",
     "text": [
      "<class 'dict'>\n"
     ]
    }
   ],
   "source": [
    "# it looks like the results are a string with JSON-formatted data inside\n",
    "\n",
    "# parse the string into a Python dictionary\n",
    "data = json.loads(results)\n",
    "\n",
    "print(type(data))"
   ]
  },
  {
   "cell_type": "code",
   "execution_count": 5,
   "metadata": {},
   "outputs": [
    {
     "name": "stdout",
     "output_type": "stream",
     "text": [
      "{'type': 'Feature', 'properties': {'mag': 5.1, 'place': '130km ESE of Petropavlovsk-Kamchatskiy, Russia', 'time': 1520264562630, 'updated': 1520268757040, 'tz': 660, 'url': 'https://earthquake.usgs.gov/earthquakes/eventpage/us2000dcfn', 'detail': 'https://earthquake.usgs.gov/earthquakes/feed/v1.0/detail/us2000dcfn.geojson', 'felt': None, 'cdi': None, 'mmi': None, 'alert': None, 'status': 'reviewed', 'tsunami': 0, 'sig': 400, 'net': 'us', 'code': '2000dcfn', 'ids': ',us2000dcfn,', 'sources': ',us,', 'types': ',geoserve,origin,phase-data,', 'nst': None, 'dmin': 1.166, 'rms': 1, 'gap': 92, 'magType': 'mww', 'type': 'earthquake', 'title': 'M 5.1 - 130km ESE of Petropavlovsk-Kamchatskiy, Russia'}, 'geometry': {'type': 'Point', 'coordinates': [160.4379, 52.596, 16.96]}, 'id': 'us2000dcfn'}\n"
     ]
    }
   ],
   "source": [
    "# print the most recent quake\n",
    "\n",
    "quakes = data['features']\n",
    "print(quakes[0])"
   ]
  },
  {
   "cell_type": "code",
   "execution_count": 6,
   "metadata": {},
   "outputs": [
    {
     "name": "stdout",
     "output_type": "stream",
     "text": [
      "{'coordinates': [160.4379, 52.596, 16.96], 'type': 'Point'}\n",
      "{'alert': None,\n",
      " 'cdi': None,\n",
      " 'code': '2000dcfn',\n",
      " 'detail': 'https://earthquake.usgs.gov/earthquakes/feed/v1.0/detail/us2000dcfn.geojson',\n",
      " 'dmin': 1.166,\n",
      " 'felt': None,\n",
      " 'gap': 92,\n",
      " 'ids': ',us2000dcfn,',\n",
      " 'mag': 5.1,\n",
      " 'magType': 'mww',\n",
      " 'mmi': None,\n",
      " 'net': 'us',\n",
      " 'nst': None,\n",
      " 'place': '130km ESE of Petropavlovsk-Kamchatskiy, Russia',\n",
      " 'rms': 1,\n",
      " 'sig': 400,\n",
      " 'sources': ',us,',\n",
      " 'status': 'reviewed',\n",
      " 'time': 1520264562630,\n",
      " 'title': 'M 5.1 - 130km ESE of Petropavlovsk-Kamchatskiy, Russia',\n",
      " 'tsunami': 0,\n",
      " 'type': 'earthquake',\n",
      " 'types': ',geoserve,origin,phase-data,',\n",
      " 'tz': 660,\n",
      " 'updated': 1520268757040,\n",
      " 'url': 'https://earthquake.usgs.gov/earthquakes/eventpage/us2000dcfn'}\n"
     ]
    }
   ],
   "source": [
    "# print it more clearly\n",
    "\n",
    "pp.pprint(quakes[0]['geometry'])\n",
    "pp.pprint(quakes[0]['properties'])"
   ]
  },
  {
   "cell_type": "code",
   "execution_count": 7,
   "metadata": {},
   "outputs": [
    {
     "name": "stdout",
     "output_type": "stream",
     "text": [
      "M 5.1 - 130km ESE of Petropavlovsk-Kamchatskiy, Russia\n",
      "M 2.6 - 53km SSE of Boca de Yuma, Dominican Republic\n",
      "M 4.5 - Southeast of Easter Island\n",
      "M 4.2 - 103km WSW of Porgera, Papua New Guinea\n",
      "M 2.6 - 14km NE of Enid, Oklahoma\n",
      "M 4.7 - 71km WSW of Mendi, Papua New Guinea\n",
      "M 4.6 - 39km N of Savannah Bight, Honduras\n",
      "M 4.9 - 120km ENE of Hihifo, Tonga\n",
      "M 4.9 - 298km N of Chichi-shima, Japan\n",
      "M 2.9 - 231km SE of Kodiak, Alaska\n",
      "M 2.7 - 14km NE of Enid, Oklahoma\n",
      "M 4.5 - 130km W of Platanos, Greece\n",
      "M 5.0 - 154km SE of Taron, Papua New Guinea\n",
      "M 4.5 - 107km W of El Aguilar, Argentina\n",
      "M 3.1 - 23km SE of Redoubt Volcano, Alaska\n",
      "M 2.8 - 36km NW of San Antonio, Puerto Rico\n",
      "M 2.6 - 11km S of Guanica, Puerto Rico\n",
      "M 4.2 - 15km NE of Enid, Oklahoma\n",
      "M 4.1 - 80km S of Ilo, Peru\n",
      "M 2.9 - 12km ESE of Lincoln, Montana\n",
      "M 4.9 - 17km NNE of Lawa-an, Philippines\n",
      "M 4.1 - 112km ENE of Lake Murray, Papua New Guinea\n",
      "M 4.2 - 15km ENE of Enid, Oklahoma\n",
      "M 4.2 - 75km WSW of Mendi, Papua New Guinea\n",
      "M 4.5 - 51km SSE of Ndoi Island, Fiji\n",
      "M 4.8 - 295km N of Chichi-shima, Japan\n",
      "M 4.1 - 271km ESE of Kodiak, Alaska\n",
      "M 5.1 - 145km N of Nabire, Indonesia\n",
      "M 4.9 - 114km WSW of Mendi, Papua New Guinea\n",
      "M 5.1 - 191km SW of L'Esperance Rock, New Zealand\n",
      "M 6.0 - 112km SW of Porgera, Papua New Guinea\n",
      "M 5.4 - 42km SSE of Kuril'sk, Russia\n",
      "M 4.4 - Off the coast of Central America\n",
      "M 3.6 - 119km SE of Chignik Lake, Alaska\n",
      "M 5.0 - 117km SSW of Dadali, Solomon Islands\n",
      "M 5.1 - 151km E of Iquique, Chile\n",
      "M 4.4 - 222km SE of Sarangani, Philippines\n",
      "M 4.7 - 35km SSW of Ovalle, Chile\n",
      "M 5.8 - 85km SW of Porgera, Papua New Guinea\n",
      "M 4.3 - 56km SSW of Ovalle, Chile\n",
      "M 2.8 - 35km SSE of Pecos, Texas\n",
      "M 4.9 - 186km SSE of `Ohonua, Tonga\n",
      "M 4.9 - 232km S of `Ohonua, Tonga\n",
      "M 3.8 - 61km SE of Chignik Lake, Alaska\n",
      "M 5.4 - 100km SSW of Porgera, Papua New Guinea\n",
      "M 4.1 - 270km SE of Kodiak, Alaska\n",
      "M 5.1 - 67km WSW of Mendi, Papua New Guinea\n",
      "M 3.2 - 101km NNW of Road Town, British Virgin Islands\n",
      "M 4.9 - 25km W of Pyu, Burma\n",
      "M 3.3 - 212km SE of Kodiak, Alaska\n",
      "M 3.3 - 99km NNE of Punta Cana, Dominican Republic\n",
      "M 2.9 - 23km NNE of Fritz Creek, Alaska\n",
      "M 4.9 - 13km SSE of Yunaska Island, Alaska\n",
      "M 4.0 - 2km SSW of Roghun, Tajikistan\n",
      "M 4.4 - 109km SE of Taitung City, Taiwan\n",
      "M 4.5 - 27km SW of Sechura, Peru\n",
      "M 2.5 - 86km NNE of Punta Cana, Dominican Republic\n",
      "M 4.5 - 21km S of La Libertad, El Salvador\n",
      "M 2.8 - 50km NNE of Noatak, Alaska\n",
      "M 2.5 - 62km N of Kodiak, Alaska\n",
      "M 3.2 - 276km ESE of Kodiak, Alaska\n",
      "M 4.8 - 121km SE of Lata, Solomon Islands\n",
      "M 5.1 - 55km NE of Luwuk, Indonesia\n",
      "M 2.9 - 231km SE of Kodiak, Alaska\n",
      "M 4.0 - 48km NE of Gazli, Uzbekistan\n",
      "M 4.1 - 257km SE of Kodiak, Alaska\n",
      "M 3.5 - 27km E of Road Town, British Virgin Islands\n",
      "M 4.9 - 129km WSW of Sigave, Wallis and Futuna\n",
      "M 3.0 - 44km ESE of Glennallen, Alaska\n",
      "M 4.5 - 252km SE of Kodiak, Alaska\n",
      "M 3.1 - 24km N of Suarez, Puerto Rico\n",
      "M 4.1 - 250km SE of Kodiak, Alaska\n",
      "M 2.5 - 90km ESE of King Salmon, Alaska\n",
      "M 4.0 - 7km SSE of Rio Segundo, Costa Rica\n",
      "M 4.7 - 53km E of Sary-Tash, Kyrgyzstan\n",
      "M 4.9 - 44km SW of Mendi, Papua New Guinea\n",
      "M 2.5 - 53km WNW of Talkeetna, Alaska\n",
      "M 2.8 - 37km W of Puerto Real, Puerto Rico\n",
      "M 4.1 - 43km S of Jarm, Afghanistan\n",
      "M 3.2 - 106km N of Brenas, Puerto Rico\n",
      "M 2.6 - 94km N of Brenas, Puerto Rico\n",
      "M 2.9 - 53km NW of San Antonio, Puerto Rico\n",
      "M 3.9 - 2km S of Buff Bay, Jamaica\n",
      "M 4.7 - 133km W of Kota Ternate, Indonesia\n",
      "M 3.1 - 26km E of Honaunau-Napoopoo, Hawaii\n",
      "M 4.4 - 73km W of Tobelo, Indonesia\n",
      "M 4.6 - 27km NNE of Hualian, Taiwan\n",
      "M 4.4 - 44km WNW of Mendi, Papua New Guinea\n",
      "M 2.7 - 245km ESE of Kodiak, Alaska\n",
      "M 4.7 - 36km SSE of Belen, Argentina\n",
      "M 4.9 - 108km SW of Porgera, Papua New Guinea\n",
      "M 4.7 - 85km W of Mendi, Papua New Guinea\n",
      "M 3.5 - 86km SSE of Chignik Lake, Alaska\n",
      "M 4.8 - 208km W of Lata, Solomon Islands\n",
      "M 4.5 - 36km S of Champerico, Guatemala\n",
      "M 3.8 - 129km WSW of Chirikof Island, Alaska\n",
      "M 2.6 - 49km ESE of Punta Cana, Dominican Republic\n",
      "M 4.5 - 218km ESE of Kimbe, Papua New Guinea\n",
      "M 2.8 - 3km N of Piedmont, CA\n",
      "M 4.2 - 193km SE of Esso, Russia\n",
      "M 3.8 - 248km SE of Kodiak, Alaska\n",
      "M 4.2 - 5km NE of Otlukbeli, Turkey\n",
      "M 3.2 - 66km NNW of Charlotte Amalie, U.S. Virgin Islands\n",
      "M 4.3 - 275km WNW of Saumlaki, Indonesia\n",
      "M 4.0 - 286km SE of Kodiak, Alaska\n",
      "M 4.5 - 102km SSW of Nikolski, Alaska\n",
      "M 2.5 - 8km NW of The Geysers, CA\n",
      "M 2.6 - 21km ESE of Anza, CA\n",
      "M 2.7 - 88km ENE of Cantwell, Alaska\n",
      "M 4.8 - 87km WSW of Mendi, Papua New Guinea\n",
      "M 3.9 - 101km S of Nikolski, Alaska\n",
      "M 3.1 - 51km N of Brenas, Puerto Rico\n",
      "M 4.7 - 50km ESE of Kisanga, Tanzania\n",
      "M 3.1 - 23km SE of Cohoe, Alaska\n",
      "M 3.7 - 49km SSE of Anchorage, Alaska\n",
      "M 3.9 - 2km E of Banjar Bias, Indonesia\n",
      "M 3.0 - 216km SE of Kodiak, Alaska\n",
      "M 3.0 - 97km NE of Punta Cana, Dominican Republic\n",
      "M 4.9 - 16km WSW of Golfito, Costa Rica\n",
      "M 4.5 - 88km SSW of Severo-Kuril'sk, Russia\n",
      "M 5.1 - 57km ENE of Tadine, New Caledonia\n",
      "M 2.5 - 13km SSE of Volcano, Hawaii\n",
      "M 4.1 - 165km W of Lebu, Chile\n",
      "M 2.7 - 28km ESE of Boca de Yuma, Dominican Republic\n",
      "M 2.7 - 45km NE of Punta Cana, Dominican Republic\n",
      "M 4.8 - 80km W of Mendi, Papua New Guinea\n",
      "M 4.8 - 113km ENE of Hachijo-jima, Japan\n",
      "M 2.5 - 73km SW of Homer, Alaska\n",
      "M 3.5 - 259km SE of Kodiak, Alaska\n",
      "M 5.1 - 24km SE of Little Sitkin Island, Alaska\n",
      "M 5.1 - 95km SSW of Porgera, Papua New Guinea\n",
      "M 5.2 - 272km WNW of Sikabaluan, Indonesia\n",
      "M 4.1 - 269km ESE of Kodiak, Alaska\n",
      "M 3.1 - 50km WSW of Redoubt Volcano, Alaska\n",
      "M 4.5 - 151km E of Manokwari, Indonesia\n",
      "M 3.9 - 2km S of Mula, Spain\n",
      "M 2.9 - 34km ESE of Amatignak Island, Alaska\n",
      "M 4.5 - 93km W of Mendi, Papua New Guinea\n",
      "M 4.4 - West Chile Rise\n",
      "M 4.6 - 48km WSW of Mendi, Papua New Guinea\n",
      "M 5.1 - 243km SW of Puerto Quellon, Chile\n",
      "M 2.5 - 30km N of Searles Valley, CA\n",
      "M 4.9 - 80km NNE of Hihifo, Tonga\n",
      "M 3.6 - 291km ESE of Kodiak, Alaska\n",
      "M 3.1 - 6km NNE of Pinnacles, CA\n",
      "M 4.5 - 179km NW of Saumlaki, Indonesia\n",
      "M 4.6 - 127km WSW of L'Esperance Rock, New Zealand\n",
      "M 4.6 - 101km SW of Porgera, Papua New Guinea\n",
      "M 4.7 - 146km SW of Banda Aceh, Indonesia\n",
      "M 2.9 - 67km NNE of Isabela, Puerto Rico\n",
      "M 4.4 - 39km SE of Machali, Chile\n",
      "M 3.3 - 237km SE of Kodiak, Alaska\n",
      "M 4.6 - 132km NE of Naze, Japan\n",
      "M 3.3 - 105km N of Brenas, Puerto Rico\n",
      "M 4.7 - 75km WSW of Binjai, Indonesia\n",
      "M 4.5 - 20km NE of Sibolga, Indonesia\n",
      "M 5.1 - 103km SW of Porgera, Papua New Guinea\n",
      "M 3.0 - 86km NNE of Vieques, Puerto Rico\n",
      "M 2.5 - 22km W of Medford, Oklahoma\n",
      "M 3.3 - 241km SE of Kodiak, Alaska\n",
      "M 2.9 - 43km WNW of Fort Stockton, Texas\n",
      "M 4.2 - 1km NW of Oruro, Bolivia\n",
      "M 3.1 - 112km N of Charlotte Amalie, U.S. Virgin Islands\n",
      "M 5.4 - 9km WSW of Yacuiba, Bolivia\n",
      "M 3.8 - 131km N of Brenas, Puerto Rico\n",
      "M 5.0 - 14km SSW of Yonakuni, Japan\n",
      "M 4.9 - 118km SW of Porgera, Papua New Guinea\n",
      "M 5.6 - 98km SW of Porgera, Papua New Guinea\n",
      "M 5.9 - 224km NNW of Saumlaki, Indonesia\n",
      "M 5.0 - 100km SSW of Porgera, Papua New Guinea\n",
      "M 3.8 - 276km SSE of Kodiak, Alaska\n",
      "M 4.3 - 118km NE of San Jose del Cabo, Mexico\n",
      "M 4.2 - 40km WNW of Molibagu, Indonesia\n",
      "M 4.1 - Off the west coast of northern Sumatra\n",
      "M 2.5 - 34km SE of Redoubt Volcano, Alaska\n",
      "M 3.1 - 4km WNW of South Hutchinson, Kansas\n",
      "M 4.5 - 161km WNW of Neiafu, Tonga\n",
      "M 4.2 - 168km W of Port Hardy, Canada\n",
      "M 4.2 - 60km SSE of Obihiro, Japan\n",
      "M 3.3 - 109km N of San Juan, Puerto Rico\n",
      "M 4.9 - 120km WSW of Jiajuedibu, China\n",
      "M 4.6 - 26km WSW of Bahia de Caraquez, Ecuador\n",
      "M 4.6 - 17km SSE of Tecoanapa, Mexico\n",
      "M 3.4 - 20km NE of Charlotte Amalie, U.S. Virgin Islands\n",
      "M 4.1 - 259km SE of Kodiak, Alaska\n",
      "M 3.4 - 101km NNE of Punta Cana, Dominican Republic\n",
      "M 3.6 - 39km NNE of Road Town, British Virgin Islands\n",
      "M 5.2 - 45km WSW of Ishigaki, Japan\n",
      "M 4.5 - 64km SSE of Rota, Northern Mariana Islands\n",
      "M 3.4 - 13km SSE of Tres Pinos, CA\n",
      "M 4.9 - 21km WSW of Abepura, Indonesia\n",
      "M 2.8 - 70km NE of McGrath, Alaska\n",
      "M 4.6 - 84km W of Mendi, Papua New Guinea\n",
      "M 3.4 - 23km NNW of Road Town, British Virgin Islands\n",
      "M 2.7 - 84km E of Old Iliamna, Alaska\n",
      "M 4.6 - Kuril Islands\n",
      "M 2.8 - 28km NNW of Barstow, CA\n",
      "M 4.4 - 64km NNE of Palu, Indonesia\n",
      "M 3.3 - 11km WNW of Luther, Oklahoma\n",
      "M 3.5 - 44km SSW of Cantwell, Alaska\n",
      "M 3.0 - 52km WSW of Chitina, Alaska\n",
      "M 4.5 - 85km WSW of Mendi, Papua New Guinea\n",
      "M 5.2 - 73km SW of Padangsidempuan, Indonesia\n",
      "M 2.5 - 2km WSW of Diablo, CA\n",
      "M 2.7 - 55km N of Nikiski, Alaska\n",
      "M 3.0 - 17km NNE of New Idria, CA\n",
      "M 5.1 - 69km WSW of Padangsidempuan, Indonesia\n",
      "M 4.6 - 97km SW of Porgera, Papua New Guinea\n",
      "M 4.5 - 43km W of Mendi, Papua New Guinea\n",
      "M 3.6 - 17km ESE of Gustavia, Saint Barthélemy\n",
      "M 4.3 - 214km SSE of Saparua, Indonesia\n",
      "M 4.2 - 33km E of Farkhar, Afghanistan\n",
      "M 4.7 - 90km SSW of Porgera, Papua New Guinea\n",
      "M 4.5 - 254km NW of Saumlaki, Indonesia\n",
      "M 2.5 - 11km NNE of Alamo, Nevada\n",
      "M 4.6 - 98km WSW of Mendi, Papua New Guinea\n",
      "M 2.7 - 55km WSW of Haines, Alaska\n",
      "M 4.3 - 106km NE of San Pedro de Atacama, Chile\n",
      "M 4.2 - 18km S of Aravan, Kyrgyzstan\n",
      "M 4.1 - 175km WNW of Tual, Indonesia\n",
      "M 4.5 - 96km SW of Murghob, Tajikistan\n",
      "M 5.1 - 107km W of Ile Hunter, New Caledonia\n",
      "M 4.9 - 140km NNE of Bristol Island, South Sandwich Islands\n",
      "M 4.5 - 48km W of Kasiguncu, Indonesia\n",
      "M 2.6 - 8km NE of Imperial, CA\n",
      "M 2.8 - 8km S of Brawley, CA\n",
      "M 2.7 - 3km ESE of Valle Vista, CA\n",
      "M 4.8 - 81km SW of Porgera, Papua New Guinea\n",
      "M 4.2 - 108km W of Mendi, Papua New Guinea\n",
      "M 3.0 - 16km W of Volcano, Hawaii\n",
      "M 3.6 - 20km SSW of Panguitch, Utah\n",
      "M 3.2 - 285km W of Ferndale, California\n",
      "M 5.0 - 108km SW of Porgera, Papua New Guinea\n",
      "M 4.3 - 55km W of Mendi, Papua New Guinea\n",
      "M 4.3 - 126km SW of Porgera, Papua New Guinea\n",
      "M 4.4 - 34km SE of Putla de Guerrero, Mexico\n",
      "M 4.3 - 87km E of Kiunga, Papua New Guinea\n",
      "M 4.4 - 103km E of Kiunga, Papua New Guinea\n",
      "M 4.8 - 100km SW of Porgera, Papua New Guinea\n",
      "M 4.0 - 276km SE of Kodiak, Alaska\n",
      "M 2.5 - 40km S of Redoubt Volcano, Alaska\n",
      "M 4.3 - 106km E of Kiunga, Papua New Guinea\n",
      "M 4.6 - 262km ESE of Kamaishi, Japan\n",
      "M 2.7 - 59km ENE of Kodiak, Alaska\n",
      "M 3.9 - 284km SE of Kodiak, Alaska\n",
      "M 2.5 - 49km NNW of Kodiak Station, Alaska\n",
      "M 4.7 - 207km NW of Saumlaki, Indonesia\n",
      "M 2.9 - 31km WNW of Fairview, Oklahoma\n",
      "M 5.2 - 110km SW of Porgera, Papua New Guinea\n",
      "M 4.7 - 259km SSE of Amahusu, Indonesia\n",
      "M 3.5 - 12km N of Gustavia, Saint Barthélemy\n",
      "M 4.8 - 103km SW of Porgera, Papua New Guinea\n",
      "M 4.9 - 114km SW of Porgera, Papua New Guinea\n",
      "M 6.1 - 111km SW of Porgera, Papua New Guinea\n",
      "M 2.8 - 62km ENE of Y, Alaska\n",
      "M 4.1 - 62km N of Sutton-Alpine, Alaska\n",
      "M 4.4 - 31km W of Agrihan, Northern Mariana Islands\n",
      "M 3.3 - 75km SW of Anchor Point, Alaska\n",
      "M 3.4 - 254km SE of Kodiak, Alaska\n",
      "M 3.2 - 174km WSW of Gold Beach, Oregon\n",
      "M 4.7 - 52km WSW of Mendi, Papua New Guinea\n",
      "M 2.7 - 23km ESE of Old Iliamna, Alaska\n",
      "M 4.9 - 73km W of Mendi, Papua New Guinea\n",
      "M 4.6 - 65km ENE of Namie, Japan\n",
      "M 3.4 - 128km N of San Juan, Puerto Rico\n",
      "M 4.7 - Easter Island region\n",
      "M 4.3 - 67km SSW of Porgera, Papua New Guinea\n",
      "M 2.8 - 22km W of Ferndale, CA\n",
      "M 5.2 - 91km W of Mendi, Papua New Guinea\n",
      "M 4.0 - 78km ENE of Sainte-Rose, Reunion\n",
      "M 4.4 - 2km NNW of Quba, Azerbaijan\n",
      "M 4.5 - 94km SW of Porgera, Papua New Guinea\n",
      "M 6.1 - West of Macquarie Island\n",
      "M 2.6 - 25km W of Puerto Real, Puerto Rico\n",
      "M 5.2 - 78km SSW of Porgera, Papua New Guinea\n",
      "M 2.8 - 46km SSW of Anchor Point, Alaska\n",
      "M 4.5 - 48km WSW of Mendi, Papua New Guinea\n",
      "M 4.5 - 11km NNE of Balao, Ecuador\n",
      "M 5.0 - 76km WSW of Mendi, Papua New Guinea\n",
      "M 3.0 - 51km NNW of San Antonio, Puerto Rico\n",
      "M 5.0 - 54km WSW of Mendi, Papua New Guinea\n",
      "M 4.6 - 101km W of Mendi, Papua New Guinea\n",
      "M 4.5 - 71km W of Mendi, Papua New Guinea\n",
      "M 4.8 - Fiji region\n",
      "M 4.4 - 86km WSW of Mendi, Papua New Guinea\n",
      "M 4.9 - 20km SW of Mendi, Papua New Guinea\n",
      "M 4.9 - 51km WSW of Mendi, Papua New Guinea\n",
      "M 2.8 - 60km W of Anchor Point, Alaska\n",
      "M 4.7 - 28km WSW of Isangel, Vanuatu\n",
      "M 5.2 - 96km W of Mendi, Papua New Guinea\n",
      "M 5.6 - 71km WSW of Mendi, Papua New Guinea\n",
      "M 4.8 - 70km WSW of Mendi, Papua New Guinea\n",
      "M 2.9 - 61km N of Tierras Nuevas Poniente, Puerto Rico\n",
      "M 4.9 - 104km WSW of Porgera, Papua New Guinea\n",
      "M 2.8 - 11km SSW of Boca de Yuma, Dominican Republic\n",
      "M 5.5 - 77km N of Isangel, Vanuatu\n",
      "M 2.5 - 10km NNW of Loyalton, CA\n",
      "M 2.5 - 56km W of Anchor Point, Alaska\n",
      "M 4.7 - 6km ENE of Balao, Ecuador\n",
      "M 4.5 - 136km SE of Akutan, Alaska\n",
      "M 5.2 - 57km SW of Mendi, Papua New Guinea\n",
      "M 4.6 - 126km S of Severo-Kuril'sk, Russia\n",
      "M 5.0 - 89km SW of Porgera, Papua New Guinea\n",
      "M 5.1 - 46km SW of Mendi, Papua New Guinea\n",
      "M 4.5 - 60km W of Mendi, Papua New Guinea\n",
      "M 2.5 - 62km ENE of Cantwell, Alaska\n",
      "M 4.9 - 33km S of Tinogasta, Argentina\n",
      "M 4.3 - 4km NE of Makabe, Japan\n",
      "M 3.9 - 255km SE of Kodiak, Alaska\n",
      "M 4.8 - 103km WSW of Porgera, Papua New Guinea\n",
      "M 4.7 - 110km SW of Porgera, Papua New Guinea\n",
      "M 5.0 - 90km WSW of Mendi, Papua New Guinea\n",
      "M 4.8 - West Chile Rise\n",
      "M 4.2 - 264km ESE of Kodiak, Alaska\n",
      "M 5.1 - 40km SSW of Mendi, Papua New Guinea\n",
      "M 3.7 - 18km ESE of Anza, CA\n",
      "M 5.4 - 83km SW of Porgera, Papua New Guinea\n",
      "M 4.3 - 264km ESE of Kodiak, Alaska\n",
      "M 4.5 - 94km WSW of Porgera, Papua New Guinea\n",
      "M 5.2 - 79km WSW of Porgera, Papua New Guinea\n"
     ]
    }
   ],
   "source": [
    "# pull out the title from each earthquake listing\n",
    "\n",
    "for q in quakes:\n",
    "    print(q['properties']['title'])"
   ]
  },
  {
   "cell_type": "code",
   "execution_count": 8,
   "metadata": {},
   "outputs": [
    {
     "name": "stdout",
     "output_type": "stream",
     "text": [
      "320\n"
     ]
    }
   ],
   "source": [
    "# pull out magnitudes and depths into a Pandas dataframe, using\n",
    "# a more compact Python syntax for iterating through lists\n",
    "\n",
    "d = {'magnitude': [q['properties']['mag'] for q in quakes],\n",
    "     'depth': [q['geometry']['coordinates'][2] for q in quakes]}\n",
    "\n",
    "df = pd.DataFrame.from_dict(d)\n",
    "\n",
    "# how many earthquakes were loaded into the dataframe?\n",
    "print(len(df))"
   ]
  },
  {
   "cell_type": "code",
   "execution_count": 9,
   "metadata": {},
   "outputs": [
    {
     "name": "stdout",
     "output_type": "stream",
     "text": [
      "   depth  magnitude\n",
      "0  16.96       5.10\n",
      "1  39.00       2.58\n",
      "2  10.00       4.50\n",
      "3  10.00       4.20\n",
      "4   4.90       2.60\n"
     ]
    }
   ],
   "source": [
    "# print the first few lines of data\n",
    "\n",
    "print(df.head())"
   ]
  },
  {
   "cell_type": "code",
   "execution_count": 10,
   "metadata": {},
   "outputs": [
    {
     "name": "stdout",
     "output_type": "stream",
     "text": [
      "            depth   magnitude\n",
      "count  320.000000  320.000000\n",
      "mean    48.606219    4.067281\n",
      "std     73.766449    0.899143\n",
      "min     -6.900000    2.460000\n",
      "25%     10.000000    3.200000\n",
      "50%     19.990000    4.300000\n",
      "75%     56.970000    4.800000\n",
      "max    535.530000    6.100000\n"
     ]
    }
   ],
   "source": [
    "# print some descriptive statistics\n",
    "\n",
    "print(df.describe())"
   ]
  },
  {
   "cell_type": "code",
   "execution_count": 11,
   "metadata": {},
   "outputs": [
    {
     "data": {
      "text/plain": [
       "<matplotlib.axes._subplots.AxesSubplot at 0x23d1d27f320>"
      ]
     },
     "execution_count": 11,
     "metadata": {},
     "output_type": "execute_result"
    },
    {
     "data": {
      "image/png": "[encoded data removed]",
      "text/plain": [
       "<matplotlib.figure.Figure at 0x23d1d246a20>"
      ]
     },
     "metadata": {},
     "output_type": "display_data"
    }
   ],
   "source": [
    "# plot the depth vs. magnitude\n",
    "\n",
    "df.plot(x='magnitude', y='depth', kind='scatter')"
   ]
  },
  {
   "cell_type": "code",
   "execution_count": 12,
   "metadata": {},
   "outputs": [
    {
     "name": "stdout",
     "output_type": "stream",
     "text": [
      "file saved\n"
     ]
    }
   ],
   "source": [
    "# save the dataframe to disk\n",
    "\n",
    "df.to_csv('usgs_earthquake_data.csv')\n",
    "\n",
    "print('file saved')"
   ]
  },
  {
   "cell_type": "code",
   "execution_count": 13,
   "metadata": {},
   "outputs": [
    {
     "name": "stdout",
     "output_type": "stream",
     "text": [
      "   depth  magnitude\n",
      "0  16.96       5.10\n",
      "1  39.00       2.58\n",
      "2  10.00       4.50\n",
      "3  10.00       4.20\n",
      "4   4.90       2.60\n"
     ]
    }
   ],
   "source": [
    "# read it back later\n",
    "\n",
    "new_df = pd.DataFrame.from_csv('usgs_earthquake_data.csv')\n",
    "\n",
    "print(new_df.head())"
   ]
  },
  {
   "cell_type": "code",
   "execution_count": null,
   "metadata": {
    "collapsed": true
   },
   "outputs": [],
   "source": []
  },
  {
   "cell_type": "code",
   "execution_count": null,
   "metadata": {
    "collapsed": true
   },
   "outputs": [],
   "source": []
  },
  {
   "cell_type": "code",
   "execution_count": null,
   "metadata": {
    "collapsed": true
   },
   "outputs": [],
   "source": []
  },
  {
   "cell_type": "markdown",
   "metadata": {},
   "source": [
    "# Part 2: Querying an API endpoint\n",
    "\n",
    "### Google Maps Geocoding API\n",
    "\n",
    "Google has lots of APIs that let you access its services through code instead of through GUI apps. This one from Google Maps lets you look up the latitude-longitude coordinates of street addresses.\n",
    "\n",
    "It works similarly to the earthquakes example, but with query parameters added to the URL endpoint!\n",
    "\n",
    "**API documentation:**  \n",
    "https://developers.google.com/maps/documentation/geocoding/intro\n",
    "\n",
    "**API endpoint:**  \n",
    "https://maps.googleapis.com/maps/api/geocode/json\n",
    "\n",
    "**API endpoint with query parameters:**  \n",
    "https://maps.googleapis.com/maps/api/geocode/json?address=Wurster+Hall"
   ]
  },
  {
   "cell_type": "code",
   "execution_count": 14,
   "metadata": {
    "collapsed": true
   },
   "outputs": [],
   "source": [
    "import json    # library for working with JSON-formatted text strings\n",
    "import requests  # library for accessing content from web URLs\n",
    "\n",
    "import pprint  # library for making Python data structures readable\n",
    "pp = pprint.PrettyPrinter()"
   ]
  },
  {
   "cell_type": "code",
   "execution_count": 15,
   "metadata": {},
   "outputs": [
    {
     "name": "stdout",
     "output_type": "stream",
     "text": [
      "https://maps.googleapis.com/maps/api/geocode/json?address=young+library+uky\n"
     ]
    }
   ],
   "source": [
    "# we have to encode the search query so that it can be passed as a URL, \n",
    "# with spaces and other special characters removed\n",
    "\n",
    "endpoint = 'https://maps.googleapis.com/maps/api/geocode/json'\n",
    "\n",
    "params = {'address': 'young library uky'}\n",
    "\n",
    "url = requests.Request('GET', endpoint, params=params).prepare().url\n",
    "print(url)"
   ]
  },
  {
   "cell_type": "code",
   "execution_count": 16,
   "metadata": {},
   "outputs": [
    {
     "name": "stdout",
     "output_type": "stream",
     "text": [
      "{'error_message': 'You have exceeded your daily request quota for this API. We recommend registering for a key at the Google Developers Console: https://console.developers.google.com/apis/credentials?project=_', 'results': [], 'status': 'OVER_QUERY_LIMIT'}\n"
     ]
    }
   ],
   "source": [
    "# download and parse the results\n",
    "\n",
    "response = requests.get(url)\n",
    "results = response.text\n",
    "data = json.loads(results)\n",
    "\n",
    "print(data)"
   ]
  },
  {
   "cell_type": "code",
   "execution_count": 17,
   "metadata": {
    "collapsed": true
   },
   "outputs": [],
   "source": [
    "# if needed google_key = ''"
   ]
  },
  {
   "cell_type": "code",
   "execution_count": 18,
   "metadata": {},
   "outputs": [
    {
     "name": "stdout",
     "output_type": "stream",
     "text": [
      "{'error_message': 'You have exceeded your daily request quota for this API. We '\n",
      "                  'recommend registering for a key at the Google Developers '\n",
      "                  'Console: '\n",
      "                  'https://console.developers.google.com/apis/credentials?project=_',\n",
      " 'results': [],\n",
      " 'status': 'OVER_QUERY_LIMIT'}\n"
     ]
    }
   ],
   "source": [
    "# print it more nicely\n",
    "\n",
    "pp.pprint(data)"
   ]
  },
  {
   "cell_type": "code",
   "execution_count": 19,
   "metadata": {
    "collapsed": true
   },
   "outputs": [],
   "source": [
    "# pull out the lat-lon coordinates\n",
    "\n",
    "for r in data['results']:\n",
    "    coords = r['geometry']['location']\n",
    "    print(coords['lat'], coords['lng'])"
   ]
  },
  {
   "cell_type": "markdown",
   "metadata": {},
   "source": [
    "### Exercises\n",
    "\n",
    "1. Search for some other addresses or landmarks!\n",
    "2. Take a look at the [API documentation](https://developers.google.com/maps/documentation/geocoding/intro). What are the usage limits?"
   ]
  },
  {
   "cell_type": "code",
   "execution_count": 20,
   "metadata": {},
   "outputs": [
    {
     "name": "stdout",
     "output_type": "stream",
     "text": [
      "https://maps.googleapis.com/maps/api/geocode/json?address=152+East+Fourth+St%2C+Lexington%2C+KY+40508\n"
     ]
    }
   ],
   "source": [
    "endpoint = 'https://maps.googleapis.com/maps/api/geocode/json'\n",
    "\n",
    "params = {'address': '152 East Fourth St, Lexington, KY 40508'}\n",
    "\n",
    "url = requests.Request('GET', endpoint, params=params).prepare().url\n",
    "print(url)"
   ]
  },
  {
   "cell_type": "code",
   "execution_count": 21,
   "metadata": {},
   "outputs": [
    {
     "name": "stdout",
     "output_type": "stream",
     "text": [
      "{'error_message': 'You have exceeded your daily request quota for this API. We recommend registering for a key at the Google Developers Console: https://console.developers.google.com/apis/credentials?project=_', 'results': [], 'status': 'OVER_QUERY_LIMIT'}\n"
     ]
    }
   ],
   "source": [
    "# download and parse the results\n",
    "\n",
    "response = requests.get(url)\n",
    "results = response.text\n",
    "data = json.loads(results)\n",
    "\n",
    "print(data)"
   ]
  },
  {
   "cell_type": "code",
   "execution_count": 22,
   "metadata": {},
   "outputs": [
    {
     "name": "stdout",
     "output_type": "stream",
     "text": [
      "{'error_message': 'You have exceeded your daily request quota for this API. We '\n",
      "                  'recommend registering for a key at the Google Developers '\n",
      "                  'Console: '\n",
      "                  'https://console.developers.google.com/apis/credentials?project=_',\n",
      " 'results': [],\n",
      " 'status': 'OVER_QUERY_LIMIT'}\n"
     ]
    }
   ],
   "source": [
    "pp.pprint(data)"
   ]
  },
  {
   "cell_type": "code",
   "execution_count": 23,
   "metadata": {},
   "outputs": [],
   "source": [
    "for r in data['results']:\n",
    "    coords = r['geometry']['location']\n",
    "    print(coords['lat'], coords['lng'])"
   ]
  },
  {
   "cell_type": "code",
   "execution_count": 24,
   "metadata": {
    "collapsed": true
   },
   "outputs": [],
   "source": [
    "# 2,500 free requests per day, calculated as the sum of client-side and server-side queries.\n",
    "# 50 requests per second, calculated as the sum of client-side and server-side queries."
   ]
  },
  {
   "cell_type": "markdown",
   "metadata": {},
   "source": [
    "# Part 3: Querying an API with authentication\n",
    "\n",
    "### Twitter REST APIs\n",
    "\n",
    "Twitter's APIs also operate over the web, but they require a back-and-forth authentication process at the beginning of each connection. It's easier to have a Python library handle this than to create the query URLs ourselves.\n",
    "\n",
    "The Twitter \"REST\" APIs perform stand-alone operations: you submit a query and receive results, like in earlier examples. ([REST](https://en.wikipedia.org/wiki/Representational_state_transfer) is a particular set of guidelines that many APIs follow.) Twitter also has a \"streaming\" API that continues sending results in real time until you disconnect.\n",
    "\n",
    "**API documentation:**  \n",
    "https://dev.twitter.com/rest/public  \n",
    "https://dev.twitter.com/overview/api/tweets\n",
    "\n",
    "**Documentation for the Python helper library**:  \n",
    "https://github.com/geduldig/TwitterAPI"
   ]
  },
  {
   "cell_type": "code",
   "execution_count": 25,
   "metadata": {
    "collapsed": true
   },
   "outputs": [],
   "source": [
    "from TwitterAPI import TwitterAPI\n",
    "\n",
    "import pprint  # library for making Python data structures readable\n",
    "pp = pprint.PrettyPrinter()"
   ]
  },
  {
   "cell_type": "code",
   "execution_count": 26,
   "metadata": {
    "collapsed": true
   },
   "outputs": [],
   "source": [
    "# import API credentials from keys.py file in the\n",
    "# same directory as this notebook\n",
    "\n",
    "from keys import *"
   ]
  },
  {
   "cell_type": "code",
   "execution_count": 27,
   "metadata": {},
   "outputs": [
    {
     "name": "stdout",
     "output_type": "stream",
     "text": [
      "Connection is set up but not tested\n"
     ]
    }
   ],
   "source": [
    "# set up an API connection using credentials from the keys file\n",
    "\n",
    "api = TwitterAPI(consumer_key, consumer_secret, \n",
    "                 access_token, access_token_secret)\n",
    "\n",
    "print(\"Connection is set up but not tested\")"
   ]
  },
  {
   "cell_type": "markdown",
   "metadata": {},
   "source": [
    "### Making a simple data request"
   ]
  },
  {
   "cell_type": "code",
   "execution_count": 28,
   "metadata": {},
   "outputs": [
    {
     "name": "stdout",
     "output_type": "stream",
     "text": [
      "RT @UKFootball: Live Now: @UKCoachStoops Spring Football Press Conference https://t.co/Nh2YQHq2Ve\n",
      "RT @UKFootball: We're baaaack! Spring football starts today and @UKCoachStoops\n",
      "will meet with the media at approx. 9:30 am. You can watch h…\n",
      "RT @UKFootball: Football is Back in the Bluegrass. ⚪️🔵 #GetUp https://t.co/oYfZHh3vtb\n",
      "#WeAreUK https://t.co/wdu5ETlAWl\n",
      "RT @UKMensTennis: That's the way to start SEC play!\n",
      "\n",
      "We beat No. 44 Alabama, 4-0!\n",
      "\n",
      "RECAP: https://t.co/7iuJKmsTjM https://t.co/oSXkBPLc01\n"
     ]
    }
   ],
   "source": [
    "# most recent tweet from @UCBerkeley's timeline\n",
    "\n",
    "endpoint = 'statuses/user_timeline'\n",
    "params = {\n",
    "    'screen_name': 'UKAthletics', \n",
    "    'count': 5\n",
    "}\n",
    "r = api.request(endpoint, params)\n",
    "\n",
    "for tweet in r.get_iterator():\n",
    "    print(tweet['text'])"
   ]
  },
  {
   "cell_type": "code",
   "execution_count": 29,
   "metadata": {},
   "outputs": [
    {
     "name": "stdout",
     "output_type": "stream",
     "text": [
      "{'contributors': None,\n",
      " 'coordinates': None,\n",
      " 'created_at': 'Sun Mar 04 22:53:59 +0000 2018',\n",
      " 'entities': {'hashtags': [],\n",
      "              'media': [{'display_url': 'pic.twitter.com/oSXkBPLc01',\n",
      "                         'expanded_url': 'https://twitter.com/UKMensTennis/status/970432078641811458/photo/1',\n",
      "                         'id': 970430850406998017,\n",
      "                         'id_str': '970430850406998017',\n",
      "                         'indices': [114, 137],\n",
      "                         'media_url': 'http://pbs.twimg.com/media/DXept4WW4AEjLdx.jpg',\n",
      "                         'media_url_https': 'https://pbs.twimg.com/media/DXept4WW4AEjLdx.jpg',\n",
      "                         'sizes': {'large': {'h': 1152,\n",
      "                                             'resize': 'fit',\n",
      "                                             'w': 2048},\n",
      "                                   'medium': {'h': 675,\n",
      "                                              'resize': 'fit',\n",
      "                                              'w': 1200},\n",
      "                                   'small': {'h': 383,\n",
      "                                             'resize': 'fit',\n",
      "                                             'w': 680},\n",
      "                                   'thumb': {'h': 150,\n",
      "                                             'resize': 'crop',\n",
      "                                             'w': 150}},\n",
      "                         'source_status_id': 970432078641811458,\n",
      "                         'source_status_id_str': '970432078641811458',\n",
      "                         'source_user_id': 385545694,\n",
      "                         'source_user_id_str': '385545694',\n",
      "                         'type': 'photo',\n",
      "                         'url': 'https://t.co/oSXkBPLc01'}],\n",
      "              'symbols': [],\n",
      "              'urls': [{'display_url': 'bit.ly/2H41R0M',\n",
      "                        'expanded_url': 'http://bit.ly/2H41R0M',\n",
      "                        'indices': [90, 113],\n",
      "                        'url': 'https://t.co/7iuJKmsTjM'}],\n",
      "              'user_mentions': [{'id': 385545694,\n",
      "                                 'id_str': '385545694',\n",
      "                                 'indices': [3, 16],\n",
      "                                 'name': \"Kentucky Men's Tennis\",\n",
      "                                 'screen_name': 'UKMensTennis'}]},\n",
      " 'extended_entities': {'media': [{'display_url': 'pic.twitter.com/oSXkBPLc01',\n",
      "                                  'expanded_url': 'https://twitter.com/UKMensTennis/status/970432078641811458/photo/1',\n",
      "                                  'id': 970430850406998017,\n",
      "                                  'id_str': '970430850406998017',\n",
      "                                  'indices': [114, 137],\n",
      "                                  'media_url': 'http://pbs.twimg.com/media/DXept4WW4AEjLdx.jpg',\n",
      "                                  'media_url_https': 'https://pbs.twimg.com/media/DXept4WW4AEjLdx.jpg',\n",
      "                                  'sizes': {'large': {'h': 1152,\n",
      "                                                      'resize': 'fit',\n",
      "                                                      'w': 2048},\n",
      "                                            'medium': {'h': 675,\n",
      "                                                       'resize': 'fit',\n",
      "                                                       'w': 1200},\n",
      "                                            'small': {'h': 383,\n",
      "                                                      'resize': 'fit',\n",
      "                                                      'w': 680},\n",
      "                                            'thumb': {'h': 150,\n",
      "                                                      'resize': 'crop',\n",
      "                                                      'w': 150}},\n",
      "                                  'source_status_id': 970432078641811458,\n",
      "                                  'source_status_id_str': '970432078641811458',\n",
      "                                  'source_user_id': 385545694,\n",
      "                                  'source_user_id_str': '385545694',\n",
      "                                  'type': 'photo',\n",
      "                                  'url': 'https://t.co/oSXkBPLc01'}]},\n",
      " 'favorite_count': 0,\n",
      " 'favorited': False,\n",
      " 'geo': None,\n",
      " 'id': 970432195088220160,\n",
      " 'id_str': '970432195088220160',\n",
      " 'in_reply_to_screen_name': None,\n",
      " 'in_reply_to_status_id': None,\n",
      " 'in_reply_to_status_id_str': None,\n",
      " 'in_reply_to_user_id': None,\n",
      " 'in_reply_to_user_id_str': None,\n",
      " 'is_quote_status': False,\n",
      " 'lang': 'en',\n",
      " 'place': None,\n",
      " 'possibly_sensitive': False,\n",
      " 'retweet_count': 12,\n",
      " 'retweeted': False,\n",
      " 'retweeted_status': {'contributors': None,\n",
      "                      'coordinates': None,\n",
      "                      'created_at': 'Sun Mar 04 22:53:31 +0000 2018',\n",
      "                      'entities': {'hashtags': [],\n",
      "                                   'media': [{'display_url': 'pic.twitter.com/oSXkBPLc01',\n",
      "                                              'expanded_url': 'https://twitter.com/UKMensTennis/status/970432078641811458/photo/1',\n",
      "                                              'id': 970430850406998017,\n",
      "                                              'id_str': '970430850406998017',\n",
      "                                              'indices': [96, 119],\n",
      "                                              'media_url': 'http://pbs.twimg.com/media/DXept4WW4AEjLdx.jpg',\n",
      "                                              'media_url_https': 'https://pbs.twimg.com/media/DXept4WW4AEjLdx.jpg',\n",
      "                                              'sizes': {'large': {'h': 1152,\n",
      "                                                                  'resize': 'fit',\n",
      "                                                                  'w': 2048},\n",
      "                                                        'medium': {'h': 675,\n",
      "                                                                   'resize': 'fit',\n",
      "                                                                   'w': 1200},\n",
      "                                                        'small': {'h': 383,\n",
      "                                                                  'resize': 'fit',\n",
      "                                                                  'w': 680},\n",
      "                                                        'thumb': {'h': 150,\n",
      "                                                                  'resize': 'crop',\n",
      "                                                                  'w': 150}},\n",
      "                                              'type': 'photo',\n",
      "                                              'url': 'https://t.co/oSXkBPLc01'}],\n",
      "                                   'symbols': [],\n",
      "                                   'urls': [{'display_url': 'bit.ly/2H41R0M',\n",
      "                                             'expanded_url': 'http://bit.ly/2H41R0M',\n",
      "                                             'indices': [72, 95],\n",
      "                                             'url': 'https://t.co/7iuJKmsTjM'}],\n",
      "                                   'user_mentions': []},\n",
      "                      'extended_entities': {'media': [{'display_url': 'pic.twitter.com/oSXkBPLc01',\n",
      "                                                       'expanded_url': 'https://twitter.com/UKMensTennis/status/970432078641811458/photo/1',\n",
      "                                                       'id': 970430850406998017,\n",
      "                                                       'id_str': '970430850406998017',\n",
      "                                                       'indices': [96, 119],\n",
      "                                                       'media_url': 'http://pbs.twimg.com/media/DXept4WW4AEjLdx.jpg',\n",
      "                                                       'media_url_https': 'https://pbs.twimg.com/media/DXept4WW4AEjLdx.jpg',\n",
      "                                                       'sizes': {'large': {'h': 1152,\n",
      "                                                                           'resize': 'fit',\n",
      "                                                                           'w': 2048},\n",
      "                                                                 'medium': {'h': 675,\n",
      "                                                                            'resize': 'fit',\n",
      "                                                                            'w': 1200},\n",
      "                                                                 'small': {'h': 383,\n",
      "                                                                           'resize': 'fit',\n",
      "                                                                           'w': 680},\n",
      "                                                                 'thumb': {'h': 150,\n",
      "                                                                           'resize': 'crop',\n",
      "                                                                           'w': 150}},\n",
      "                                                       'type': 'photo',\n",
      "                                                       'url': 'https://t.co/oSXkBPLc01'}]},\n",
      "                      'favorite_count': 74,\n",
      "                      'favorited': False,\n",
      "                      'geo': None,\n",
      "                      'id': 970432078641811458,\n",
      "                      'id_str': '970432078641811458',\n",
      "                      'in_reply_to_screen_name': None,\n",
      "                      'in_reply_to_status_id': None,\n",
      "                      'in_reply_to_status_id_str': None,\n",
      "                      'in_reply_to_user_id': None,\n",
      "                      'in_reply_to_user_id_str': None,\n",
      "                      'is_quote_status': False,\n",
      "                      'lang': 'en',\n",
      "                      'place': None,\n",
      "                      'possibly_sensitive': False,\n",
      "                      'retweet_count': 12,\n",
      "                      'retweeted': False,\n",
      "                      'source': '<a href=\"http://twitter.com\" '\n",
      "                                'rel=\"nofollow\">Twitter Web Client</a>',\n",
      "                      'text': \"That's the way to start SEC play!\\n\"\n",
      "                              '\\n'\n",
      "                              'We beat No. 44 Alabama, 4-0!\\n'\n",
      "                              '\\n'\n",
      "                              'RECAP: https://t.co/7iuJKmsTjM '\n",
      "                              'https://t.co/oSXkBPLc01',\n",
      "                      'truncated': False,\n",
      "                      'user': {'contributors_enabled': False,\n",
      "                               'created_at': 'Wed Oct 05 17:55:52 +0000 2011',\n",
      "                               'default_profile': False,\n",
      "                               'default_profile_image': False,\n",
      "                               'description': 'The official Twitter account of '\n",
      "                                              'the nationally ranked '\n",
      "                                              \"University of Kentucky men's \"\n",
      "                                              'tennis team. Kentucky is '\n",
      "                                              'coached by Cedric Kauffmann and '\n",
      "                                              'Matt Emery.',\n",
      "                               'entities': {'description': {'urls': []},\n",
      "                                            'url': {'urls': [{'display_url': 'ukathletics.com/index.aspx?pat…',\n",
      "                                                              'expanded_url': 'http://www.ukathletics.com/index.aspx?path=mten',\n",
      "                                                              'indices': [0,\n",
      "                                                                          23],\n",
      "                                                              'url': 'https://t.co/qm5M8tvapA'}]}},\n",
      "                               'favourites_count': 70,\n",
      "                               'follow_request_sent': False,\n",
      "                               'followers_count': 2889,\n",
      "                               'following': False,\n",
      "                               'friends_count': 211,\n",
      "                               'geo_enabled': True,\n",
      "                               'has_extended_profile': False,\n",
      "                               'id': 385545694,\n",
      "                               'id_str': '385545694',\n",
      "                               'is_translation_enabled': False,\n",
      "                               'is_translator': False,\n",
      "                               'lang': 'en',\n",
      "                               'listed_count': 58,\n",
      "                               'location': 'Lexington, Ky.',\n",
      "                               'name': \"Kentucky Men's Tennis\",\n",
      "                               'notifications': False,\n",
      "                               'profile_background_color': 'C0DEED',\n",
      "                               'profile_background_image_url': 'http://pbs.twimg.com/profile_background_images/341613872/generic_mtennis_1_wide.jpg',\n",
      "                               'profile_background_image_url_https': 'https://pbs.twimg.com/profile_background_images/341613872/generic_mtennis_1_wide.jpg',\n",
      "                               'profile_background_tile': False,\n",
      "                               'profile_banner_url': 'https://pbs.twimg.com/profile_banners/385545694/1494964634',\n",
      "                               'profile_image_url': 'http://pbs.twimg.com/profile_images/704701476782927872/2FJNMkvj_normal.jpg',\n",
      "                               'profile_image_url_https': 'https://pbs.twimg.com/profile_images/704701476782927872/2FJNMkvj_normal.jpg',\n",
      "                               'profile_link_color': '0084B4',\n",
      "                               'profile_sidebar_border_color': 'C0DEED',\n",
      "                               'profile_sidebar_fill_color': 'DDEEF6',\n",
      "                               'profile_text_color': '333333',\n",
      "                               'profile_use_background_image': True,\n",
      "                               'protected': False,\n",
      "                               'screen_name': 'UKMensTennis',\n",
      "                               'statuses_count': 4199,\n",
      "                               'time_zone': 'Quito',\n",
      "                               'translator_type': 'none',\n",
      "                               'url': 'https://t.co/qm5M8tvapA',\n",
      "                               'utc_offset': -18000,\n",
      "                               'verified': False}},\n",
      " 'source': '<a href=\"http://twitter.com/download/iphone\" '\n",
      "           'rel=\"nofollow\">Twitter for iPhone</a>',\n",
      " 'text': \"RT @UKMensTennis: That's the way to start SEC play!\\n\"\n",
      "         '\\n'\n",
      "         'We beat No. 44 Alabama, 4-0!\\n'\n",
      "         '\\n'\n",
      "         'RECAP: https://t.co/7iuJKmsTjM https://t.co/oSXkBPLc01',\n",
      " 'truncated': False,\n",
      " 'user': {'contributors_enabled': False,\n",
      "          'created_at': 'Tue Mar 17 18:41:37 +0000 2009',\n",
      "          'default_profile': False,\n",
      "          'default_profile_image': False,\n",
      "          'description': 'The official Twitter account of the University of '\n",
      "                         'Kentucky Athletics Department. Facebook: Kentucky '\n",
      "                         'Wildcats; Instagram: ukathletics; Snapchat: '\n",
      "                         'uk_athletics',\n",
      "          'entities': {'description': {'urls': []},\n",
      "                       'url': {'urls': [{'display_url': 'ukathletics.com',\n",
      "                                         'expanded_url': 'http://www.ukathletics.com/',\n",
      "                                         'indices': [0, 23],\n",
      "                                         'url': 'https://t.co/Zqcn6uhNdp'}]}},\n",
      "          'favourites_count': 4239,\n",
      "          'follow_request_sent': False,\n",
      "          'followers_count': 321405,\n",
      "          'following': False,\n",
      "          'friends_count': 807,\n",
      "          'geo_enabled': True,\n",
      "          'has_extended_profile': False,\n",
      "          'id': 24929053,\n",
      "          'id_str': '24929053',\n",
      "          'is_translation_enabled': False,\n",
      "          'is_translator': False,\n",
      "          'lang': 'en',\n",
      "          'listed_count': 1355,\n",
      "          'location': 'Lexington, Ky.',\n",
      "          'name': 'Kentucky Athletics',\n",
      "          'notifications': False,\n",
      "          'profile_background_color': '000738',\n",
      "          'profile_background_image_url': 'http://pbs.twimg.com/profile_background_images/454256249635237888/rrHm7iuI.jpeg',\n",
      "          'profile_background_image_url_https': 'https://pbs.twimg.com/profile_background_images/454256249635237888/rrHm7iuI.jpeg',\n",
      "          'profile_background_tile': False,\n",
      "          'profile_banner_url': 'https://pbs.twimg.com/profile_banners/24929053/1517845679',\n",
      "          'profile_image_url': 'http://pbs.twimg.com/profile_images/875802157605408769/-DftO40K_normal.jpg',\n",
      "          'profile_image_url_https': 'https://pbs.twimg.com/profile_images/875802157605408769/-DftO40K_normal.jpg',\n",
      "          'profile_link_color': '084AE7',\n",
      "          'profile_sidebar_border_color': 'FFFFFF',\n",
      "          'profile_sidebar_fill_color': 'FFFFFF',\n",
      "          'profile_text_color': '787878',\n",
      "          'profile_use_background_image': True,\n",
      "          'protected': False,\n",
      "          'screen_name': 'UKAthletics',\n",
      "          'statuses_count': 41758,\n",
      "          'time_zone': 'Eastern Time (US & Canada)',\n",
      "          'translator_type': 'none',\n",
      "          'url': 'https://t.co/Zqcn6uhNdp',\n",
      "          'utc_offset': -18000,\n",
      "          'verified': True}}\n"
     ]
    }
   ],
   "source": [
    "# what other data is there?\n",
    "\n",
    "pp.pprint(tweet)"
   ]
  },
  {
   "cell_type": "markdown",
   "metadata": {},
   "source": [
    "### Other API endpoints allow different types of searches"
   ]
  },
  {
   "cell_type": "code",
   "execution_count": 30,
   "metadata": {},
   "outputs": [
    {
     "name": "stdout",
     "output_type": "stream",
     "text": [
      "RT @wildcatnews: Kentucky moves up to No. 6 in college baseball standings. #BBN https://t.co/Kd01pOfKAg\n",
      "\n",
      "RT @kentuckyalumni: UK Men’s Basketball Led Nation in Home Attendance Again: https://t.co/pNkFNb3MV5 #BBN\n",
      "\n",
      "UK Men’s Basketball Led Nation in Home Attendance Again: https://t.co/pNkFNb3MV5 #BBN\n",
      "\n",
      "Kentucky moves up to No. 6 in college baseball standings. #BBN https://t.co/Kd01pOfKAg\n",
      "\n",
      "HERALD-LEADER: Kentucky spring football ‘pure fun?’ Mark Stoops definitely thinks so. https://t.co/3WSgEu14AB #BBN https://t.co/IbeqcBeRxn\n",
      "\n"
     ]
    }
   ],
   "source": [
    "# search for public tweets about #BBN\n",
    "\n",
    "endpoint = 'search/tweets'\n",
    "params = {\n",
    "    'q': '#BBN', \n",
    "    'count': 5\n",
    "}\n",
    "r = api.request(endpoint, params)\n",
    "\n",
    "for tweet in r.get_iterator():\n",
    "    print(tweet['text'] + '\\n')"
   ]
  },
  {
   "cell_type": "code",
   "execution_count": 31,
   "metadata": {},
   "outputs": [
    {
     "name": "stdout",
     "output_type": "stream",
     "text": [
      "RT @ChoudharyId: #IndraniChidambaramVideo\n",
      "#स्वर्ग_VS_सतलोक \n",
      "स्वर्ग मे काम, क्रोध, मोह,लोभ,अंहकार ये पांच विकार कभी समाप्त नही होते।\n",
      "जबकि सत…\n",
      "\n",
      "RT @apnlivehindi: #DeshKiBaaT: मोदी को हराने के लिए विपक्ष में एकजुटता का प्रयास, सपा-बसपा एक साथ आने की कोशिश में, उत्तर से दक्षिण तक विप…\n",
      "\n",
      "@LoveSRKForLyf @B4d5hah Isne copy kiya mujhe 😏\n",
      "\n",
      "@Kanika72324700 @G4Gautam1443 @Sanya_Appy @being_angana @Mana_K_Hum_ @rohit_28692 @Woken_Soul @kingslayer112… https://t.co/JmuOHE2lm9\n",
      "\n",
      "RT @panwarrajneesh: #महंगाई_की_मार दिल्ली में रोजमर्रा की जरुरतों के दाम आसमान छू रहे है और भाजपा की केन्द्र सरकार मंहगाई को काबू करने के…\n",
      "\n"
     ]
    }
   ],
   "source": [
    "# search for public tweets in Hindi\n",
    "\n",
    "endpoint = 'search/tweets'\n",
    "params = {\n",
    "    'q': '*', \n",
    "    'lang': 'hi', \n",
    "    'count': 5\n",
    "} \n",
    "r = api.request(endpoint, params)\n",
    "\n",
    "for tweet in r.get_iterator():\n",
    "    print(tweet['text'] + '\\n')"
   ]
  },
  {
   "cell_type": "code",
   "execution_count": 32,
   "metadata": {},
   "outputs": [
    {
     "name": "stdout",
     "output_type": "stream",
     "text": [
      "Ladies skating into the week! This is how we do Monday at Shine Pilates - standing tall and… https://t.co/Bz4GkwkZqR\n",
      "\n",
      "Day 129: Signs of spring! Renewal cometh. #choosehappy @ University of Kentucky Arboretum https://t.co/DetOufwbUQ\n",
      "\n",
      "Tri Delt Sunday??? Yes. @ Delta Delta Delta Sorority https://t.co/F78fkK3uht\n",
      "\n",
      "happy founder’s day to the sorority that came into my life at just… https://t.co/HMzMVCb9Bo\n",
      "\n",
      "Sunday Stretch feels so good! \n",
      "#scheduleanappointment #comestretchwithus #sharethelex… https://t.co/2B4LSkQDcF\n",
      "\n",
      "lol @ Lynagh's Irish Pub https://t.co/oTqmCNGLcX\n",
      "\n",
      "big sports gals @ Lynagh's Irish Pub https://t.co/4bQjKxZLs5\n",
      "\n",
      "Working out the low back kinks on a Saturday morning! Small but mighty movements, lots of… https://t.co/1FEXDaVB0F\n",
      "\n",
      "hustle, hustle, move your bustle 💃🏼\n",
      "•\n",
      "•\n",
      "•\n",
      "HAPPY OPENING! @ Singletary Center for the Arts https://t.co/YQsVNhTpEm\n",
      "\n",
      "*Hospital scene in Remember The Titans. \n",
      "Gary: “Alice are you blind? Don’t you see the family… https://t.co/hf6tMEKYJ2\n",
      "\n"
     ]
    }
   ],
   "source": [
    "# search for public tweets geotagged near the UK campus\n",
    "\n",
    "endpoint = 'search/tweets'\n",
    "params = {\n",
    "    'q': '*', \n",
    "    'geocode': '38.034,-84.500,0.5km', \n",
    "    'count': 10\n",
    "} \n",
    "r = api.request(endpoint, params)\n",
    "\n",
    "for tweet in r.get_iterator():\n",
    "    print(tweet['text'] + '\\n')"
   ]
  },
  {
   "cell_type": "markdown",
   "metadata": {},
   "source": [
    "### Exercises\n",
    "\n",
    "1. Try some different search queries!\n",
    "2. Display some more data fields in addition to the tweet text"
   ]
  },
  {
   "cell_type": "code",
   "execution_count": 33,
   "metadata": {},
   "outputs": [
    {
     "name": "stdout",
     "output_type": "stream",
     "text": [
      "RT @DemiTeamTR: 🚨 TODAY IS THE LAST DAY TO VOTE! RT TO VOTE!! \n",
      "\n",
      "#Batman #CutestPet #iHeartAwards https://t.co/pctlTDx6En\n",
      "\n",
      "RT @Kaylareneemed1: Only thirty minutes left to finish the vote!\n",
      "\n",
      "A thousand answers very fast here!\n",
      "\n",
      "#Batman #CutestPet #iHeartAwards @ddl…\n",
      "\n",
      "RT @QbanLovatic: LAST DAY TO VOTE!!! #Batman needs to win this!! HE is truly the #CutestPet on this planet #iHeartAwards ❤❤ You know what t…\n",
      "\n",
      "RT @hisnameismarvo: #batman 😌😜 https://t.co/jdgka4M4DF\n",
      "\n",
      "RT @HistoftheBatman: “The X-Men animated series opening is the best ever!”\n",
      "\n",
      "Me, an intellectual: \n",
      "#Batman #BTAS @TheAnimatedBat https://t.c…\n",
      "\n"
     ]
    }
   ],
   "source": [
    "# search for public tweets about #BBN\n",
    "\n",
    "endpoint = 'search/tweets'\n",
    "params = {\n",
    "    'q': '#batman', \n",
    "    'count': 5\n",
    "}\n",
    "r = api.request(endpoint, params)\n",
    "\n",
    "for tweet in r.get_iterator():\n",
    "    print(tweet['text'] + '\\n')"
   ]
  },
  {
   "cell_type": "code",
   "execution_count": null,
   "metadata": {
    "collapsed": true
   },
   "outputs": [],
   "source": []
  },
  {
   "cell_type": "code",
   "execution_count": null,
   "metadata": {
    "collapsed": true
   },
   "outputs": [],
   "source": []
  },
  {
   "cell_type": "markdown",
   "metadata": {},
   "source": [
    "### Bonus: Streaming live tweets in real time "
   ]
  },
  {
   "cell_type": "code",
   "execution_count": 34,
   "metadata": {},
   "outputs": [
    {
     "name": "stdout",
     "output_type": "stream",
     "text": [
      "Mon Mar 05 17:11:36 +0000 2018\n",
      "Quezon City, National Capital Region, Republic of the Philippines\n",
      "Finally got a headstart with that Taiwan itinerary lol\n",
      "\n",
      "Mon Mar 05 17:11:36 +0000 2018\n",
      "Ikeja, Nigeria, Nigeria\n",
      "Falz is truly unique.\n",
      "\n",
      "Mon Mar 05 17:11:36 +0000 2018\n",
      "Murcia, España, España\n",
      "@BelnMoral @OT_Oficial Pues tu haz lo que quieras.\n",
      "\n",
      "Mon Mar 05 17:11:36 +0000 2018\n",
      "Auckland, New Zealand, New Zealand\n",
      "@standupwi Step 1. Remove your children from state schools.\n",
      "\n",
      "Mon Mar 05 17:11:36 +0000 2018\n",
      "Iowa, USA, United States\n",
      "Anybody wanna go to skizzy mars or gambino???\n",
      "\n",
      "Mon Mar 05 17:11:36 +0000 2018\n",
      "Cuiabá, Brasil, Brasil\n",
      "Minha cabeça vai estourar de dor AAAAA\n",
      "\n",
      "Mon Mar 05 17:11:36 +0000 2018\n",
      "Myanmar, Myanmar\n",
      "Bibadi babadi boo ✨Make Kyung Soo's hair grew✨#EXOL #BestFanArmy #iHeartAwards @weareoneEXO https://t.co/v6Df1XfOWx\n",
      "\n",
      "Mon Mar 05 17:11:36 +0000 2018\n",
      "Trelleborg, Sverige, Sverige\n",
      "badminton is so boring we had it in school today made me want to kms\n",
      "\n",
      "Mon Mar 05 17:11:36 +0000 2018\n",
      "Mitchell's Plain, South Africa, South Africa\n",
      "Polokwane city's wheels looks like they are off but they might survive via play offs @SimplyCarol8  #SSDiski https://t.co/jawk4C5WZr\n",
      "\n",
      "Mon Mar 05 17:11:36 +0000 2018\n",
      "Disney California Adventure Park, United States\n",
      "@kamego_13 修学旅行でアメリカ来たらディズニーとユニバは行くでしょ…\n",
      "行かないとかあるんですかね？？？\n",
      "\n",
      "Mon Mar 05 17:11:36 +0000 2018\n",
      "Bismarck, ND, United States\n",
      "This is amazing! https://t.co/83u5SBoGTS\n",
      "\n",
      "Mon Mar 05 17:11:36 +0000 2018\n",
      "Brussel, België, België\n",
      "@alfaonebe @ridleyrijder @GabyHemeryck @krannoot @Emprise2 @ockhams  Je moet dat #rap verantwoorden..of we aijn #weg...\n",
      "\n",
      "Mon Mar 05 17:11:36 +0000 2018\n",
      "San Carlos, Chile, Chile\n",
      "Un wn habla en el 13 y dice que encuentra mejor Gloria que una mujer fantástica.\n",
      "Yo a Gloria la encontré un bodrio de proporciones\n",
      "\n",
      "Mon Mar 05 17:11:36 +0000 2018\n",
      "Houston, TX, United States\n",
      "New single from therealtrillionaires #knowhatimsayin 🤘🏻🤘🏻Ft. @slimthugga @donke713 #Houston @… https://t.co/lLpNiio04W\n",
      "\n",
      "Mon Mar 05 17:11:36 +0000 2018\n",
      "Kehl, Deutschland, Deutschland\n",
      "Chaque fois que Jean Marc m’achète des roses, je les garde dix milles ans. Ptdr 😭 je force jusqu’au bout.\n",
      "\n",
      "Mon Mar 05 17:11:36 +0000 2018\n",
      "Manhattan Beach, CA, United States\n",
      "@ItsRadishTime Worth noting I hate horror and enjoyed get out. More thriller than horror. A few jump scenes but cer… https://t.co/6euM4ah82E\n",
      "\n",
      "Mon Mar 05 17:11:36 +0000 2018\n",
      "Kilimanjaro, Tanzania, Tanzania\n",
      "@erastolashau hujo vp au solar\n",
      "\n",
      "Mon Mar 05 17:11:36 +0000 2018\n",
      "Santa Cruz do Sul, Brasil, Brasil\n",
      "@bin1909 Seria meu sonho?\n",
      "\n",
      "Mon Mar 05 17:11:36 +0000 2018\n",
      "Los Angeles, CA, United States\n",
      "and dad https://t.co/HLtnKuxxNW\n",
      "\n",
      "Mon Mar 05 17:11:36 +0000 2018\n",
      "Florida, USA, United States\n",
      "@MrShikharMisra Thank you Shikhar, you too! Hope it was a good day. 👍😊\n",
      "\n",
      "Mon Mar 05 17:11:36 +0000 2018\n",
      "Topsfield, MA, United States\n",
      "@foxandfriends @michellemalkin Fox is garbage\n",
      "\n",
      "Mon Mar 05 17:11:36 +0000 2018\n",
      "Xalapa, Veracruz de Ignacio de la Llave, México\n",
      "Hola @RafaCruz_SU\n",
      "\n"
     ]
    }
   ],
   "source": [
    "# Twitter limits simultaneous connections to the streaming API,\n",
    "# so this part may not work using the demo API keys during class\n",
    "\n",
    "endpoint = 'statuses/filter'\n",
    "params = {'locations': '-180,-90,180,90'}\n",
    "r = api.request(endpoint, params)\n",
    "LIMIT = 20\n",
    "\n",
    "# 'enumerate' lets us count tweets as we receive them\n",
    "\n",
    "for i, tweet in enumerate(r.get_iterator()):\n",
    "    print(tweet['created_at'])\n",
    "    print(tweet['place']['full_name'] + ', ' + tweet['place']['country'])\n",
    "    print(tweet['text'] + '\\n')\n",
    "    if (i > LIMIT): break\n",
    "\n",
    "# close the streaming connection\n",
    "r.close()"
   ]
  },
  {
   "cell_type": "code",
   "execution_count": null,
   "metadata": {
    "collapsed": true
   },
   "outputs": [],
   "source": []
  },
  {
   "cell_type": "code",
   "execution_count": null,
   "metadata": {
    "collapsed": true
   },
   "outputs": [],
   "source": []
  },
  {
   "cell_type": "code",
   "execution_count": null,
   "metadata": {
    "collapsed": true
   },
   "outputs": [],
   "source": []
  },
  {
   "cell_type": "markdown",
   "metadata": {},
   "source": [
    "### Exercises for the remainder of class\n",
    "\n",
    "1. Make a scatter plot of the lat-lon coordinates of earthquakes.  \n",
    "   &nbsp;\n",
    "   \n",
    "2. Using the geocoding example as a starting point, try searching the Google Maps Directions API or Elevation API instead. Descriptions are in the [API documentation](https://developers.google.com/maps/documentation/geocoding/intro).  \n",
    "   &nbsp;\n",
    "   "
   ]
  },
  {
   "cell_type": "code",
   "execution_count": 37,
   "metadata": {},
   "outputs": [
    {
     "ename": "SyntaxError",
     "evalue": "invalid syntax (<ipython-input-37-5ad444935863>, line 1)",
     "output_type": "error",
     "traceback": [
      "\u001b[1;36m  File \u001b[1;32m\"<ipython-input-37-5ad444935863>\"\u001b[1;36m, line \u001b[1;32m1\u001b[0m\n\u001b[1;33m    def\u001b[0m\n\u001b[1;37m       ^\u001b[0m\n\u001b[1;31mSyntaxError\u001b[0m\u001b[1;31m:\u001b[0m invalid syntax\n"
     ]
    }
   ],
   "source": [
    "\n",
    "endpoint_url = \"http://earthquake.usgs.gov/earthquakes/feed/v1.0/summary/2.5_week.geojson\"\n",
    "response = requests.get(endpoint_url)\n",
    "results = response.text\n",
    "\n",
    "# what is the data type of the results?\n",
    "print(type(results))"
   ]
  },
  {
   "cell_type": "markdown",
   "metadata": {
    "collapsed": true
   },
   "source": [
    "### For next time...\n",
    "\n",
    "In the next class, you will try out another API that provides data you're interested in. You will be asked to try connecting to it using Python code, and performing some basic operations on the data.  To come prepared for next time, please explore some of the transportation-related APIs that may be valuable, and choose one that is of interest to you.\n",
    "\n",
    "Here are a a few to get you started. \n",
    "\n",
    "Public Transit\n",
    "https://www.programmableweb.com/news/how-smart-cities-are-using-apis-public-transport-apis/2014/05/22\n",
    "\n",
    "Long-Distance Travel\n",
    "http://www.olery.com/blog/the-best-travel-apis-discover-contribute/ \n",
    "\n",
    "Transportation\n",
    "https://www.programmableweb.com/category/transportation/api\n",
    "\n",
    "\n",
    "Start by reading the public transit page, because that provides a nice overview of the types of applications out there, and some of the issues in using them.  These lessons often apply to traffic and transportation more generally.  \n",
    "\n",
    "Keep in mind that there are a number of different organizations that provide APIs, with different motivations and quality of what is provided.  If it is a private company, what is their business model?  What is the underlying source of the data, and what might that imply about how representative it is of the real world?  There is a ton of stuff out there.  How do we go about sorting out what is useful to us and what is now.  Spend some time exploring these and thinking about these questions.  \n"
   ]
  },
  {
   "cell_type": "code",
   "execution_count": null,
   "metadata": {
    "collapsed": true
   },
   "outputs": [],
   "source": [
    "# accessKey: 825eafcfb72151832260c9e8463c7733\n",
    "# secretKey: d6cf5380070ae236d8277b8f10817d86"
   ]
  },
  {
   "cell_type": "code",
   "execution_count": 3,
   "metadata": {},
   "outputs": [
    {
     "ename": "NameError",
     "evalue": "name 'requests' is not defined",
     "output_type": "error",
     "traceback": [
      "\u001b[1;31m---------------------------------------------------------------------------\u001b[0m",
      "\u001b[1;31mNameError\u001b[0m                                 Traceback (most recent call last)",
      "\u001b[1;32m<ipython-input-3-39c8e5d5a4d3>\u001b[0m in \u001b[0;36m<module>\u001b[1;34m()\u001b[0m\n\u001b[0;32m      1\u001b[0m \u001b[1;32mfrom\u001b[0m \u001b[0mrequests\u001b[0m\u001b[1;33m.\u001b[0m\u001b[0mauth\u001b[0m \u001b[1;32mimport\u001b[0m \u001b[0mHTTPBasicAuth\u001b[0m\u001b[1;33m\u001b[0m\u001b[0m\n\u001b[1;32m----> 2\u001b[1;33m \u001b[0mrequests\u001b[0m\u001b[1;33m.\u001b[0m\u001b[0mget\u001b[0m\u001b[1;33m(\u001b[0m\u001b[1;34m'https://gtfsapi.metrarail.com'\u001b[0m\u001b[1;33m,\u001b[0m \u001b[0mauth\u001b[0m\u001b[1;33m=\u001b[0m\u001b[0mHTTPBasicAuth\u001b[0m\u001b[1;33m(\u001b[0m\u001b[1;34m'825eafcfb72151832260c9e8463c7733'\u001b[0m\u001b[1;33m,\u001b[0m \u001b[1;34m'd6cf5380070ae236d8277b8f10817d86'\u001b[0m\u001b[1;33m)\u001b[0m\u001b[1;33m)\u001b[0m\u001b[1;33m\u001b[0m\u001b[0m\n\u001b[0m",
      "\u001b[1;31mNameError\u001b[0m: name 'requests' is not defined"
     ]
    }
   ],
   "source": [
    "from requests.auth import HTTPBasicAuth\n",
    "requests.get('https://gtfsapi.metrarail.com', auth=HTTPBasicAuth('825eafcfb72151832260c9e8463c7733', 'd6cf5380070ae236d8277b8f10817d86'))"
   ]
  },
  {
   "cell_type": "code",
   "execution_count": 35,
   "metadata": {},
   "outputs": [
    {
     "ename": "JSONDecodeError",
     "evalue": "Expecting value: line 1 column 1 (char 0)",
     "output_type": "error",
     "traceback": [
      "\u001b[1;31m---------------------------------------------------------------------------\u001b[0m",
      "\u001b[1;31mJSONDecodeError\u001b[0m                           Traceback (most recent call last)",
      "\u001b[1;32m<ipython-input-35-bd5ceb49b6b8>\u001b[0m in \u001b[0;36m<module>\u001b[1;34m()\u001b[0m\n\u001b[0;32m      2\u001b[0m \u001b[0mresponse\u001b[0m \u001b[1;33m=\u001b[0m \u001b[0mrequests\u001b[0m\u001b[1;33m.\u001b[0m\u001b[0mget\u001b[0m\u001b[1;33m(\u001b[0m\u001b[0mendpoint_url\u001b[0m\u001b[1;33m)\u001b[0m\u001b[1;33m\u001b[0m\u001b[0m\n\u001b[0;32m      3\u001b[0m \u001b[0mresults\u001b[0m \u001b[1;33m=\u001b[0m \u001b[0mresponse\u001b[0m\u001b[1;33m.\u001b[0m\u001b[0mtext\u001b[0m\u001b[1;33m\u001b[0m\u001b[0m\n\u001b[1;32m----> 4\u001b[1;33m \u001b[0mdata\u001b[0m \u001b[1;33m=\u001b[0m \u001b[0mjson\u001b[0m\u001b[1;33m.\u001b[0m\u001b[0mloads\u001b[0m\u001b[1;33m(\u001b[0m\u001b[0mresults\u001b[0m\u001b[1;33m)\u001b[0m\u001b[1;33m\u001b[0m\u001b[0m\n\u001b[0m",
      "\u001b[1;32m~\\Anaconda3\\lib\\json\\__init__.py\u001b[0m in \u001b[0;36mloads\u001b[1;34m(s, encoding, cls, object_hook, parse_float, parse_int, parse_constant, object_pairs_hook, **kw)\u001b[0m\n\u001b[0;32m    352\u001b[0m             \u001b[0mparse_int\u001b[0m \u001b[1;32mis\u001b[0m \u001b[1;32mNone\u001b[0m \u001b[1;32mand\u001b[0m \u001b[0mparse_float\u001b[0m \u001b[1;32mis\u001b[0m \u001b[1;32mNone\u001b[0m \u001b[1;32mand\u001b[0m\u001b[1;33m\u001b[0m\u001b[0m\n\u001b[0;32m    353\u001b[0m             parse_constant is None and object_pairs_hook is None and not kw):\n\u001b[1;32m--> 354\u001b[1;33m         \u001b[1;32mreturn\u001b[0m \u001b[0m_default_decoder\u001b[0m\u001b[1;33m.\u001b[0m\u001b[0mdecode\u001b[0m\u001b[1;33m(\u001b[0m\u001b[0ms\u001b[0m\u001b[1;33m)\u001b[0m\u001b[1;33m\u001b[0m\u001b[0m\n\u001b[0m\u001b[0;32m    355\u001b[0m     \u001b[1;32mif\u001b[0m \u001b[0mcls\u001b[0m \u001b[1;32mis\u001b[0m \u001b[1;32mNone\u001b[0m\u001b[1;33m:\u001b[0m\u001b[1;33m\u001b[0m\u001b[0m\n\u001b[0;32m    356\u001b[0m         \u001b[0mcls\u001b[0m \u001b[1;33m=\u001b[0m \u001b[0mJSONDecoder\u001b[0m\u001b[1;33m\u001b[0m\u001b[0m\n",
      "\u001b[1;32m~\\Anaconda3\\lib\\json\\decoder.py\u001b[0m in \u001b[0;36mdecode\u001b[1;34m(self, s, _w)\u001b[0m\n\u001b[0;32m    337\u001b[0m \u001b[1;33m\u001b[0m\u001b[0m\n\u001b[0;32m    338\u001b[0m         \"\"\"\n\u001b[1;32m--> 339\u001b[1;33m         \u001b[0mobj\u001b[0m\u001b[1;33m,\u001b[0m \u001b[0mend\u001b[0m \u001b[1;33m=\u001b[0m \u001b[0mself\u001b[0m\u001b[1;33m.\u001b[0m\u001b[0mraw_decode\u001b[0m\u001b[1;33m(\u001b[0m\u001b[0ms\u001b[0m\u001b[1;33m,\u001b[0m \u001b[0midx\u001b[0m\u001b[1;33m=\u001b[0m\u001b[0m_w\u001b[0m\u001b[1;33m(\u001b[0m\u001b[0ms\u001b[0m\u001b[1;33m,\u001b[0m \u001b[1;36m0\u001b[0m\u001b[1;33m)\u001b[0m\u001b[1;33m.\u001b[0m\u001b[0mend\u001b[0m\u001b[1;33m(\u001b[0m\u001b[1;33m)\u001b[0m\u001b[1;33m)\u001b[0m\u001b[1;33m\u001b[0m\u001b[0m\n\u001b[0m\u001b[0;32m    340\u001b[0m         \u001b[0mend\u001b[0m \u001b[1;33m=\u001b[0m \u001b[0m_w\u001b[0m\u001b[1;33m(\u001b[0m\u001b[0ms\u001b[0m\u001b[1;33m,\u001b[0m \u001b[0mend\u001b[0m\u001b[1;33m)\u001b[0m\u001b[1;33m.\u001b[0m\u001b[0mend\u001b[0m\u001b[1;33m(\u001b[0m\u001b[1;33m)\u001b[0m\u001b[1;33m\u001b[0m\u001b[0m\n\u001b[0;32m    341\u001b[0m         \u001b[1;32mif\u001b[0m \u001b[0mend\u001b[0m \u001b[1;33m!=\u001b[0m \u001b[0mlen\u001b[0m\u001b[1;33m(\u001b[0m\u001b[0ms\u001b[0m\u001b[1;33m)\u001b[0m\u001b[1;33m:\u001b[0m\u001b[1;33m\u001b[0m\u001b[0m\n",
      "\u001b[1;32m~\\Anaconda3\\lib\\json\\decoder.py\u001b[0m in \u001b[0;36mraw_decode\u001b[1;34m(self, s, idx)\u001b[0m\n\u001b[0;32m    355\u001b[0m             \u001b[0mobj\u001b[0m\u001b[1;33m,\u001b[0m \u001b[0mend\u001b[0m \u001b[1;33m=\u001b[0m \u001b[0mself\u001b[0m\u001b[1;33m.\u001b[0m\u001b[0mscan_once\u001b[0m\u001b[1;33m(\u001b[0m\u001b[0ms\u001b[0m\u001b[1;33m,\u001b[0m \u001b[0midx\u001b[0m\u001b[1;33m)\u001b[0m\u001b[1;33m\u001b[0m\u001b[0m\n\u001b[0;32m    356\u001b[0m         \u001b[1;32mexcept\u001b[0m \u001b[0mStopIteration\u001b[0m \u001b[1;32mas\u001b[0m \u001b[0merr\u001b[0m\u001b[1;33m:\u001b[0m\u001b[1;33m\u001b[0m\u001b[0m\n\u001b[1;32m--> 357\u001b[1;33m             \u001b[1;32mraise\u001b[0m \u001b[0mJSONDecodeError\u001b[0m\u001b[1;33m(\u001b[0m\u001b[1;34m\"Expecting value\"\u001b[0m\u001b[1;33m,\u001b[0m \u001b[0ms\u001b[0m\u001b[1;33m,\u001b[0m \u001b[0merr\u001b[0m\u001b[1;33m.\u001b[0m\u001b[0mvalue\u001b[0m\u001b[1;33m)\u001b[0m \u001b[1;32mfrom\u001b[0m \u001b[1;32mNone\u001b[0m\u001b[1;33m\u001b[0m\u001b[0m\n\u001b[0m\u001b[0;32m    358\u001b[0m         \u001b[1;32mreturn\u001b[0m \u001b[0mobj\u001b[0m\u001b[1;33m,\u001b[0m \u001b[0mend\u001b[0m\u001b[1;33m\u001b[0m\u001b[0m\n",
      "\u001b[1;31mJSONDecodeError\u001b[0m: Expecting value: line 1 column 1 (char 0)"
     ]
    }
   ],
   "source": [
    "endpoint_url = 'https://gtfsapi.metrarail.com/gtfs/tripUpdates'\n",
    "response = requests.get(endpoint_url)\n",
    "results = response.text\n",
    "data = json.loads(results)"
   ]
  },
  {
   "cell_type": "code",
   "execution_count": null,
   "metadata": {
    "collapsed": true
   },
   "outputs": [],
   "source": []
  }
 ],
 "metadata": {
  "anaconda-cloud": {},
  "kernelspec": {
   "display_name": "Python 3",
   "language": "python",
   "name": "python3"
  },
  "language_info": {
   "codemirror_mode": {
    "name": "ipython",
    "version": 3
   },
   "file_extension": ".py",
   "mimetype": "text/x-python",
   "name": "python",
   "nbconvert_exporter": "python",
   "pygments_lexer": "ipython3",
   "version": "3.6.3"
  }
 },
 "nbformat": 4,
 "nbformat_minor": 1
}
