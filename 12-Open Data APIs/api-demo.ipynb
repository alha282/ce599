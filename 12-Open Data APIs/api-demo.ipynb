{
 "cells": [
  {
   "cell_type": "markdown",
   "metadata": {},
   "source": [
    "# Working with Data APIs\n",
    "\n",
    "**Adapted from: Sam Maurer // maurer@berkeley.edu // Oct. 3, 2016**\n",
    "\n",
    "This notebook provides a demonstration of data-access APIs that operate over the web. See README.md for setup instructions.\n",
    "\n",
    "In Part 1, we'll load and parse results from an API feed of earthquake data.  \n",
    "In Part 2, we'll add query parameters to the workflow, using the Google Maps Geolocation API as an example.  \n",
    "In Part 3, we'll use an authenticated API to query public Twitter posts. "
   ]
  },
  {
   "cell_type": "markdown",
   "metadata": {},
   "source": [
    "# Part 1: Reading from an automated data feed\n",
    "\n",
    "### USGS real-time earthquake feeds\n",
    "\n",
    "This is an API for near-real-time data about earthquakes. Data is provided in JSON format over the web. No authentication is needed, and there's no way to customize the output. Instead, the API has a separate endpoint for each permutation of the data that users might want.\n",
    "\n",
    "**API documentation:**  \n",
    "http://earthquake.usgs.gov/earthquakes/feed/v1.0/geojson.php\n",
    "\n",
    "**Sample API endpoint, for magnitude 4.5+ earthquakes in past day:**  \n",
    "http://earthquake.usgs.gov/earthquakes/feed/v1.0/summary/4.5_day.geojson  \n"
   ]
  },
  {
   "cell_type": "code",
   "execution_count": 66,
   "metadata": {
    "collapsed": true
   },
   "outputs": [],
   "source": [
    "%matplotlib inline\n",
    "\n",
    "import pandas as pd\n",
    "\n",
    "import json    # library for working with JSON-formatted text strings\n",
    "import requests  # library for accessing content from web URLs\n",
    "\n",
    "import pprint  # library for making Python data structures readable\n",
    "pp = pprint.PrettyPrinter()"
   ]
  },
  {
   "cell_type": "code",
   "execution_count": 67,
   "metadata": {},
   "outputs": [
    {
     "name": "stdout",
     "output_type": "stream",
     "text": [
      "<class 'str'>\n"
     ]
    }
   ],
   "source": [
    "# download data on magnitude 2.5+ quakes from the past week\n",
    "\n",
    "endpoint_url = \"http://earthquake.usgs.gov/earthquakes/feed/v1.0/summary/2.5_week.geojson\"\n",
    "response = requests.get(endpoint_url)\n",
    "results = response.text\n",
    "\n",
    "# what is the data type of the results?\n",
    "print(type(results))"
   ]
  },
  {
   "cell_type": "code",
   "execution_count": 68,
   "metadata": {},
   "outputs": [
    {
     "name": "stdout",
     "output_type": "stream",
     "text": [
      "{\"type\":\"FeatureCollection\",\"metadata\":{\"generated\":1520380697000,\"url\":\"https://earthquake.usgs.gov/earthquakes/feed/v1.0/summary/2.5_week.geojson\",\"title\":\"USGS Magnitude 2.5+ Earthquakes, Past Week\",\"status\":200,\"api\":\"1.5.8\",\"count\":340},\"features\":[{\"type\":\"Feature\",\"properties\":{\"mag\":2.6,\"place\":\"73km ENE of Old Iliamna, Alaska\",\"time\":1520379834731,\"updated\":1520380496848,\"tz\":-540,\"url\":\"https://earthquake.usgs.gov/earthquakes/eventpage/ak18606423\",\"detail\":\"https://earthquake.usgs.gov/\n"
     ]
    }
   ],
   "source": [
    "# print the first 500 characters to see a sample of the data\n",
    "\n",
    "print(results[:500])"
   ]
  },
  {
   "cell_type": "code",
   "execution_count": 69,
   "metadata": {},
   "outputs": [
    {
     "name": "stdout",
     "output_type": "stream",
     "text": [
      "<class 'dict'>\n"
     ]
    }
   ],
   "source": [
    "# it looks like the results are a string with JSON-formatted data inside\n",
    "\n",
    "# parse the string into a Python dictionary\n",
    "data = json.loads(results)\n",
    "\n",
    "print(type(data))"
   ]
  },
  {
   "cell_type": "code",
   "execution_count": 70,
   "metadata": {},
   "outputs": [
    {
     "name": "stdout",
     "output_type": "stream",
     "text": [
      "{'type': 'Feature', 'properties': {'mag': 2.6, 'place': '73km ENE of Old Iliamna, Alaska', 'time': 1520379834731, 'updated': 1520380496848, 'tz': -540, 'url': 'https://earthquake.usgs.gov/earthquakes/eventpage/ak18606423', 'detail': 'https://earthquake.usgs.gov/earthquakes/feed/v1.0/detail/ak18606423.geojson', 'felt': None, 'cdi': None, 'mmi': None, 'alert': None, 'status': 'automatic', 'tsunami': 0, 'sig': 104, 'net': 'ak', 'code': '18606423', 'ids': ',ak18606423,', 'sources': ',ak,', 'types': ',geoserve,origin,', 'nst': None, 'dmin': None, 'rms': 0.51, 'gap': None, 'magType': 'ml', 'type': 'earthquake', 'title': 'M 2.6 - 73km ENE of Old Iliamna, Alaska'}, 'geometry': {'type': 'Point', 'coordinates': [-153.658, 59.9499, 169.8]}, 'id': 'ak18606423'}\n"
     ]
    }
   ],
   "source": [
    "# print the most recent quake\n",
    "\n",
    "quakes = data['features']\n",
    "print(quakes[0])"
   ]
  },
  {
   "cell_type": "code",
   "execution_count": 71,
   "metadata": {},
   "outputs": [
    {
     "name": "stdout",
     "output_type": "stream",
     "text": [
      "{'coordinates': [-153.658, 59.9499, 169.8], 'type': 'Point'}\n",
      "{'alert': None,\n",
      " 'cdi': None,\n",
      " 'code': '18606423',\n",
      " 'detail': 'https://earthquake.usgs.gov/earthquakes/feed/v1.0/detail/ak18606423.geojson',\n",
      " 'dmin': None,\n",
      " 'felt': None,\n",
      " 'gap': None,\n",
      " 'ids': ',ak18606423,',\n",
      " 'mag': 2.6,\n",
      " 'magType': 'ml',\n",
      " 'mmi': None,\n",
      " 'net': 'ak',\n",
      " 'nst': None,\n",
      " 'place': '73km ENE of Old Iliamna, Alaska',\n",
      " 'rms': 0.51,\n",
      " 'sig': 104,\n",
      " 'sources': ',ak,',\n",
      " 'status': 'automatic',\n",
      " 'time': 1520379834731,\n",
      " 'title': 'M 2.6 - 73km ENE of Old Iliamna, Alaska',\n",
      " 'tsunami': 0,\n",
      " 'type': 'earthquake',\n",
      " 'types': ',geoserve,origin,',\n",
      " 'tz': -540,\n",
      " 'updated': 1520380496848,\n",
      " 'url': 'https://earthquake.usgs.gov/earthquakes/eventpage/ak18606423'}\n"
     ]
    }
   ],
   "source": [
    "# print it more clearly\n",
    "\n",
    "pp.pprint(quakes[0]['geometry'])\n",
    "pp.pprint(quakes[0]['properties'])"
   ]
  },
  {
   "cell_type": "code",
   "execution_count": 72,
   "metadata": {},
   "outputs": [
    {
     "name": "stdout",
     "output_type": "stream",
     "text": [
      "{'coordinates': [-153.658, 59.9499, 169.8], 'type': 'Point'}\n"
     ]
    }
   ],
   "source": [
    "pp.pprint(quakes[0]['geometry'])"
   ]
  },
  {
   "cell_type": "code",
   "execution_count": 73,
   "metadata": {},
   "outputs": [
    {
     "name": "stdout",
     "output_type": "stream",
     "text": [
      "M 2.6 - 73km ENE of Old Iliamna, Alaska\n",
      "M 4.3 - 41km E of Amatignak Island, Alaska\n",
      "M 4.4 - 98km SW of Porgera, Papua New Guinea\n",
      "M 4.7 - 158km W of Ile Hunter, New Caledonia\n",
      "M 2.8 - 12km SSW of Toms Place, CA\n",
      "M 4.3 - 73km S of Calama, Chile\n",
      "M 4.8 - 55km SSW of Paredon, Mexico\n",
      "M 2.6 - 12km N of Baker, Nevada\n",
      "M 3.3 - 178km ESE of Akutan, Alaska\n",
      "M 4.1 - 18km NNE of Cherokee, Oklahoma\n",
      "M 4.9 - 114km WSW of Mendi, Papua New Guinea\n",
      "M 5.1 - 86km W of Mendi, Papua New Guinea\n",
      "M 4.9 - 100km WSW of Mendi, Papua New Guinea\n",
      "M 4.2 - 113km SW of Porgera, Papua New Guinea\n",
      "M 4.7 - 93km WSW of Mendi, Papua New Guinea\n",
      "M 4.5 - 111km N of Culebra, Puerto Rico\n",
      "M 2.5 - 4km SE of Piru, CA\n",
      "M 4.9 - 106km SW of Porgera, Papua New Guinea\n",
      "M 5.0 - 78km WSW of Mendi, Papua New Guinea\n",
      "M 4.1 - 125km SW of Porgera, Papua New Guinea\n",
      "M 4.3 - 24km NE of San Clemente, Chile\n",
      "M 3.1 - 256km ESE of Kodiak, Alaska\n",
      "M 4.6 - 158km WSW of Kuripan, Indonesia\n",
      "M 5.2 - 109km SW of Porgera, Papua New Guinea\n",
      "M 4.5 - Fiji region\n",
      "M 5.2 - 97km W of Mendi, Papua New Guinea\n",
      "M 4.9 - Central East Pacific Rise\n",
      "M 5.1 - 128km SW of Mendi, Papua New Guinea\n",
      "M 4.7 - 30km SSE of Pocito, Argentina\n",
      "M 6.7 - 112km SW of Porgera, Papua New Guinea\n",
      "M 3.3 - 119km N of Charlotte Amalie, U.S. Virgin Islands\n",
      "M 3.4 - 269km ESE of Kodiak, Alaska\n",
      "M 2.6 - 10km E of Gilroy, CA\n",
      "M 3.3 - 10km E of Gilroy, CA\n",
      "M 3.0 - 262km ESE of Kodiak, Alaska\n",
      "M 4.6 - 16km WNW of Nago, Japan\n",
      "M 2.5 - 51km W of Hawaiian Ocean View, Hawaii\n",
      "M 4.8 - 106km W of Mendi, Papua New Guinea\n",
      "M 4.7 - 7km ESE of Imam Sahib, Afghanistan\n",
      "M 5.2 - 101km NW of Visokoi Island, South Georgia and the South Sandwich Islands\n",
      "M 3.2 - 98km N of Culebra, Puerto Rico\n",
      "M 4.7 - 122km E of Kiunga, Papua New Guinea\n",
      "M 4.4 - 8km NNE of Su'ao, Taiwan\n",
      "M 3.4 - 125km NNE of Vieques, Puerto Rico\n",
      "M 3.2 - 232km SE of Kodiak, Alaska\n",
      "M 3.5 - 288km SE of Kodiak, Alaska\n",
      "M 5.3 - 201km NW of Visokoi Island, South Georgia and the South Sandwich Islands\n",
      "M 4.0 - 255km SE of Kodiak, Alaska\n",
      "M 3.4 - 109km N of Charlotte Amalie, U.S. Virgin Islands\n",
      "M 4.2 - 52km SW of Salina Cruz, Mexico\n",
      "M 3.7 - 115km NNW of Charlotte Amalie, U.S. Virgin Islands\n",
      "M 5.1 - 151km SE of Mohean, India\n",
      "M 3.3 - 42km E of Miches, Dominican Republic\n",
      "M 5.3 - 121km E of Kiunga, Papua New Guinea\n",
      "M 4.8 - 91km SW of Vallenar, Chile\n",
      "M 5.0 - 76km WSW of Mendi, Papua New Guinea\n",
      "M 3.2 - 100km N of Charlotte Amalie, U.S. Virgin Islands\n",
      "M 2.5 - 4km W of San Sebastian, Puerto Rico\n",
      "M 3.6 - 289km SE of Kodiak, Alaska\n",
      "M 4.6 - 150km ENE of Bitung, Indonesia\n",
      "M 3.4 - 85km N of Charlotte Amalie, U.S. Virgin Islands\n",
      "M 3.7 - 99km WSW of Chirikof Island, Alaska\n",
      "M 4.8 - 299km N of Chichi-shima, Japan\n",
      "M 2.8 - 51km ESE of Punta Cana, Dominican Republic\n",
      "M 2.7 - 2km W of Anderson Springs, CA\n",
      "M 4.5 - 69km SW of Dodoma, Tanzania\n",
      "M 4.4 - 8km ESE of Civitella di Romagna, Italy\n",
      "M 4.4 - 149km NNW of Ndoi Island, Fiji\n",
      "M 4.2 - 76km WSW of San Antonio, Chile\n",
      "M 3.4 - 101km N of Charlotte Amalie, U.S. Virgin Islands\n",
      "M 4.7 - 144km NNW of Ndoi Island, Fiji\n",
      "M 4.3 - 27km N of Mikuni, Japan\n",
      "M 5.1 - 130km ESE of Petropavlovsk-Kamchatskiy, Russia\n",
      "M 2.7 - 91km W of Petrolia, CA\n",
      "M 2.6 - 53km SSE of Boca de Yuma, Dominican Republic\n",
      "M 4.5 - Southeast of Easter Island\n",
      "M 4.2 - 103km WSW of Porgera, Papua New Guinea\n",
      "M 2.6 - 14km NE of Enid, Oklahoma\n",
      "M 4.7 - 71km WSW of Mendi, Papua New Guinea\n",
      "M 4.6 - 39km N of Savannah Bight, Honduras\n",
      "M 4.9 - 120km ENE of Hihifo, Tonga\n",
      "M 4.9 - 298km N of Chichi-shima, Japan\n",
      "M 2.9 - 231km SE of Kodiak, Alaska\n",
      "M 2.7 - 14km NE of Enid, Oklahoma\n",
      "M 4.4 - 5km SSE of Chiba-shi, Japan\n",
      "M 4.5 - 130km W of Platanos, Greece\n",
      "M 5.0 - 154km SE of Taron, Papua New Guinea\n",
      "M 4.5 - 107km W of El Aguilar, Argentina\n",
      "M 3.1 - 23km SE of Redoubt Volcano, Alaska\n",
      "M 2.8 - 36km NW of San Antonio, Puerto Rico\n",
      "M 2.6 - 11km S of Guanica, Puerto Rico\n",
      "M 4.2 - 15km NE of Enid, Oklahoma\n",
      "M 2.7 - 14km SW of Caldwell, Kansas\n",
      "M 4.1 - 80km S of Ilo, Peru\n",
      "M 2.7 - 16km SSE of Lincoln, Montana\n",
      "M 4.9 - 17km NNE of Lawa-an, Philippines\n",
      "M 4.1 - 112km ENE of Lake Murray, Papua New Guinea\n",
      "M 4.2 - 15km ENE of Enid, Oklahoma\n",
      "M 4.2 - 75km WSW of Mendi, Papua New Guinea\n",
      "M 4.5 - 51km SSE of Ndoi Island, Fiji\n",
      "M 3.0 - 26km E of Honaunau-Napoopoo, Hawaii\n",
      "M 4.8 - 295km N of Chichi-shima, Japan\n",
      "M 4.1 - 271km ESE of Kodiak, Alaska\n",
      "M 5.1 - 145km N of Nabire, Indonesia\n",
      "M 4.9 - 114km WSW of Mendi, Papua New Guinea\n",
      "M 5.1 - 191km SW of L'Esperance Rock, New Zealand\n",
      "M 6.0 - 112km SW of Porgera, Papua New Guinea\n",
      "M 5.4 - 42km SSE of Kuril'sk, Russia\n",
      "M 4.4 - Off the coast of Central America\n",
      "M 3.6 - 119km SE of Chignik Lake, Alaska\n",
      "M 5.0 - 117km SSW of Dadali, Solomon Islands\n",
      "M 5.1 - 151km E of Iquique, Chile\n",
      "M 4.4 - 222km SE of Sarangani, Philippines\n",
      "M 4.7 - 35km SSW of Ovalle, Chile\n",
      "M 5.8 - 85km SW of Porgera, Papua New Guinea\n",
      "M 4.3 - 56km SSW of Ovalle, Chile\n",
      "M 2.8 - 35km SSE of Pecos, Texas\n",
      "M 4.9 - 186km SSE of `Ohonua, Tonga\n",
      "M 4.9 - 232km S of `Ohonua, Tonga\n",
      "M 3.8 - 61km SE of Chignik Lake, Alaska\n",
      "M 5.4 - 100km SSW of Porgera, Papua New Guinea\n",
      "M 4.1 - 270km SE of Kodiak, Alaska\n",
      "M 5.1 - 67km WSW of Mendi, Papua New Guinea\n",
      "M 3.2 - 101km NNW of Road Town, British Virgin Islands\n",
      "M 4.9 - 25km W of Pyu, Burma\n",
      "M 3.3 - 212km SE of Kodiak, Alaska\n",
      "M 3.3 - 99km NNE of Punta Cana, Dominican Republic\n",
      "M 2.9 - 23km NNE of Fritz Creek, Alaska\n",
      "M 4.9 - 13km SSE of Yunaska Island, Alaska\n",
      "M 4.0 - 2km SSW of Roghun, Tajikistan\n",
      "M 4.4 - 109km SE of Taitung City, Taiwan\n",
      "M 4.5 - 27km SW of Sechura, Peru\n",
      "M 2.5 - 86km NNE of Punta Cana, Dominican Republic\n",
      "M 4.5 - 21km S of La Libertad, El Salvador\n",
      "M 2.8 - 50km NNE of Noatak, Alaska\n",
      "M 2.5 - 62km N of Kodiak, Alaska\n",
      "M 3.2 - 276km ESE of Kodiak, Alaska\n",
      "M 4.8 - 121km SE of Lata, Solomon Islands\n",
      "M 5.1 - 55km NE of Luwuk, Indonesia\n",
      "M 2.9 - 231km SE of Kodiak, Alaska\n",
      "M 4.0 - 48km NE of Gazli, Uzbekistan\n",
      "M 4.1 - 257km SE of Kodiak, Alaska\n",
      "M 3.5 - 27km E of Road Town, British Virgin Islands\n",
      "M 4.9 - 129km WSW of Sigave, Wallis and Futuna\n",
      "M 3.0 - 44km ESE of Glennallen, Alaska\n",
      "M 4.5 - 252km SE of Kodiak, Alaska\n",
      "M 3.1 - 24km N of Suarez, Puerto Rico\n",
      "M 4.1 - 250km SE of Kodiak, Alaska\n",
      "M 2.5 - 90km ESE of King Salmon, Alaska\n",
      "M 4.0 - 7km SSE of Rio Segundo, Costa Rica\n",
      "M 4.7 - 53km E of Sary-Tash, Kyrgyzstan\n",
      "M 4.9 - 44km SW of Mendi, Papua New Guinea\n",
      "M 2.5 - 53km WNW of Talkeetna, Alaska\n",
      "M 2.8 - 37km W of Puerto Real, Puerto Rico\n",
      "M 4.1 - 43km S of Jarm, Afghanistan\n",
      "M 3.2 - 106km N of Brenas, Puerto Rico\n",
      "M 2.6 - 94km N of Brenas, Puerto Rico\n",
      "M 2.9 - 53km NW of San Antonio, Puerto Rico\n",
      "M 4.0 - 7km SSE of Buff Bay, Jamaica\n",
      "M 4.7 - 132km W of Kota Ternate, Indonesia\n",
      "M 3.1 - 26km E of Honaunau-Napoopoo, Hawaii\n",
      "M 4.4 - 74km W of Tobelo, Indonesia\n",
      "M 4.6 - 27km NNE of Hualian, Taiwan\n",
      "M 4.4 - 43km W of Mendi, Papua New Guinea\n",
      "M 3.0 - 252km SE of Kodiak, Alaska\n",
      "M 4.7 - 36km SSE of Belen, Argentina\n",
      "M 4.9 - 108km SW of Porgera, Papua New Guinea\n",
      "M 4.7 - 85km W of Mendi, Papua New Guinea\n",
      "M 3.5 - 86km SSE of Chignik Lake, Alaska\n",
      "M 4.8 - 208km W of Lata, Solomon Islands\n",
      "M 4.5 - 36km S of Champerico, Guatemala\n",
      "M 3.8 - 129km WSW of Chirikof Island, Alaska\n",
      "M 2.6 - 49km ESE of Punta Cana, Dominican Republic\n",
      "M 4.5 - 218km ESE of Kimbe, Papua New Guinea\n",
      "M 2.8 - 3km N of Piedmont, CA\n",
      "M 4.2 - 193km SE of Esso, Russia\n",
      "M 3.8 - 248km SE of Kodiak, Alaska\n",
      "M 4.2 - 5km NE of Otlukbeli, Turkey\n",
      "M 3.2 - 66km NNW of Charlotte Amalie, U.S. Virgin Islands\n",
      "M 4.3 - 275km WNW of Saumlaki, Indonesia\n",
      "M 4.0 - 286km SE of Kodiak, Alaska\n",
      "M 4.5 - 102km SSW of Nikolski, Alaska\n",
      "M 2.5 - 8km NW of The Geysers, CA\n",
      "M 2.6 - 21km ESE of Anza, CA\n",
      "M 2.7 - 88km ENE of Cantwell, Alaska\n",
      "M 4.8 - 87km WSW of Mendi, Papua New Guinea\n",
      "M 3.9 - 101km S of Nikolski, Alaska\n",
      "M 3.1 - 51km N of Brenas, Puerto Rico\n",
      "M 4.7 - 50km ESE of Kisanga, Tanzania\n",
      "M 3.1 - 23km SE of Cohoe, Alaska\n",
      "M 3.7 - 49km SSE of Anchorage, Alaska\n",
      "M 3.9 - 2km E of Banjar Bias, Indonesia\n",
      "M 3.0 - 216km SE of Kodiak, Alaska\n",
      "M 3.0 - 97km NE of Punta Cana, Dominican Republic\n",
      "M 2.7 - 8km E of Soda Springs, Idaho\n",
      "M 4.9 - 16km WSW of Golfito, Costa Rica\n",
      "M 4.5 - 88km SSW of Severo-Kuril'sk, Russia\n",
      "M 5.1 - 57km ENE of Tadine, New Caledonia\n",
      "M 2.5 - 13km SSE of Volcano, Hawaii\n",
      "M 4.1 - 165km W of Lebu, Chile\n",
      "M 2.7 - 28km ESE of Boca de Yuma, Dominican Republic\n",
      "M 2.7 - 45km NE of Punta Cana, Dominican Republic\n",
      "M 4.8 - 80km W of Mendi, Papua New Guinea\n",
      "M 4.8 - 113km ENE of Hachijo-jima, Japan\n",
      "M 2.5 - 73km SW of Homer, Alaska\n",
      "M 3.5 - 259km SE of Kodiak, Alaska\n",
      "M 5.1 - 24km SE of Little Sitkin Island, Alaska\n",
      "M 5.1 - 95km SSW of Porgera, Papua New Guinea\n",
      "M 5.2 - 272km WNW of Sikabaluan, Indonesia\n",
      "M 4.1 - 269km ESE of Kodiak, Alaska\n",
      "M 3.1 - 50km WSW of Redoubt Volcano, Alaska\n",
      "M 4.5 - 151km E of Manokwari, Indonesia\n",
      "M 3.9 - 2km S of Mula, Spain\n",
      "M 2.9 - 34km ESE of Amatignak Island, Alaska\n",
      "M 4.5 - 93km W of Mendi, Papua New Guinea\n",
      "M 4.4 - West Chile Rise\n",
      "M 4.6 - 48km WSW of Mendi, Papua New Guinea\n",
      "M 5.1 - 243km SW of Puerto Quellon, Chile\n",
      "M 2.5 - 30km N of Searles Valley, CA\n",
      "M 4.9 - 80km NNE of Hihifo, Tonga\n",
      "M 3.6 - 291km ESE of Kodiak, Alaska\n",
      "M 3.1 - 6km NNE of Pinnacles, CA\n",
      "M 4.5 - 179km NW of Saumlaki, Indonesia\n",
      "M 4.6 - 127km WSW of L'Esperance Rock, New Zealand\n",
      "M 4.6 - 101km SW of Porgera, Papua New Guinea\n",
      "M 4.7 - 146km SW of Banda Aceh, Indonesia\n",
      "M 2.9 - 67km NNE of Isabela, Puerto Rico\n",
      "M 4.4 - 39km SE of Machali, Chile\n",
      "M 3.3 - 237km SE of Kodiak, Alaska\n",
      "M 4.6 - 132km NE of Naze, Japan\n",
      "M 3.3 - 105km N of Brenas, Puerto Rico\n",
      "M 4.7 - 75km WSW of Binjai, Indonesia\n",
      "M 4.5 - 20km NE of Sibolga, Indonesia\n",
      "M 5.1 - 103km SW of Porgera, Papua New Guinea\n",
      "M 3.0 - 86km NNE of Vieques, Puerto Rico\n",
      "M 2.5 - 22km W of Medford, Oklahoma\n",
      "M 3.3 - 241km SE of Kodiak, Alaska\n",
      "M 2.9 - 43km WNW of Fort Stockton, Texas\n",
      "M 4.2 - 1km NW of Oruro, Bolivia\n",
      "M 3.1 - 112km N of Charlotte Amalie, U.S. Virgin Islands\n",
      "M 5.4 - 9km WSW of Yacuiba, Bolivia\n",
      "M 3.8 - 131km N of Brenas, Puerto Rico\n",
      "M 5.0 - 14km SSW of Yonakuni, Japan\n",
      "M 4.9 - 118km SW of Porgera, Papua New Guinea\n",
      "M 5.6 - 98km SW of Porgera, Papua New Guinea\n",
      "M 5.9 - 224km NNW of Saumlaki, Indonesia\n",
      "M 5.0 - 100km SSW of Porgera, Papua New Guinea\n",
      "M 3.8 - 276km SSE of Kodiak, Alaska\n",
      "M 4.3 - 118km NE of San Jose del Cabo, Mexico\n",
      "M 4.2 - 40km WNW of Molibagu, Indonesia\n",
      "M 4.1 - Off the west coast of northern Sumatra\n",
      "M 2.5 - 34km SE of Redoubt Volcano, Alaska\n",
      "M 3.1 - 4km WNW of South Hutchinson, Kansas\n",
      "M 4.5 - 161km WNW of Neiafu, Tonga\n",
      "M 4.2 - 168km W of Port Hardy, Canada\n",
      "M 4.2 - 60km SSE of Obihiro, Japan\n",
      "M 3.3 - 109km N of San Juan, Puerto Rico\n",
      "M 4.9 - 120km WSW of Jiajuedibu, China\n",
      "M 4.6 - 26km WSW of Bahia de Caraquez, Ecuador\n",
      "M 4.6 - 17km SSE of Tecoanapa, Mexico\n",
      "M 3.4 - 20km NE of Charlotte Amalie, U.S. Virgin Islands\n",
      "M 4.1 - 259km SE of Kodiak, Alaska\n",
      "M 3.4 - 101km NNE of Punta Cana, Dominican Republic\n",
      "M 3.6 - 39km NNE of Road Town, British Virgin Islands\n",
      "M 5.2 - 45km WSW of Ishigaki, Japan\n",
      "M 4.5 - 64km SSE of Rota, Northern Mariana Islands\n",
      "M 3.4 - 13km SSE of Tres Pinos, CA\n",
      "M 4.9 - 21km WSW of Abepura, Indonesia\n",
      "M 2.8 - 70km NE of McGrath, Alaska\n",
      "M 4.6 - 84km W of Mendi, Papua New Guinea\n",
      "M 3.4 - 23km NNW of Road Town, British Virgin Islands\n",
      "M 2.7 - 84km E of Old Iliamna, Alaska\n",
      "M 4.6 - Kuril Islands\n",
      "M 2.8 - 28km NNW of Barstow, CA\n",
      "M 4.4 - 64km NNE of Palu, Indonesia\n",
      "M 3.3 - 11km WNW of Luther, Oklahoma\n",
      "M 3.5 - 44km SSW of Cantwell, Alaska\n",
      "M 3.0 - 52km WSW of Chitina, Alaska\n",
      "M 4.5 - 85km WSW of Mendi, Papua New Guinea\n",
      "M 5.2 - 73km SW of Padangsidempuan, Indonesia\n",
      "M 2.5 - 2km WSW of Diablo, CA\n",
      "M 2.7 - 55km N of Nikiski, Alaska\n",
      "M 3.0 - 17km NNE of New Idria, CA\n",
      "M 5.1 - 69km WSW of Padangsidempuan, Indonesia\n",
      "M 4.6 - 97km SW of Porgera, Papua New Guinea\n",
      "M 4.5 - 43km W of Mendi, Papua New Guinea\n",
      "M 3.6 - 17km ESE of Gustavia, Saint Barthélemy\n",
      "M 4.3 - 214km SSE of Saparua, Indonesia\n",
      "M 4.2 - 33km E of Farkhar, Afghanistan\n",
      "M 4.7 - 90km SSW of Porgera, Papua New Guinea\n",
      "M 4.5 - 254km NW of Saumlaki, Indonesia\n",
      "M 2.5 - 11km NNE of Alamo, Nevada\n",
      "M 4.6 - 98km WSW of Mendi, Papua New Guinea\n",
      "M 2.7 - 55km WSW of Haines, Alaska\n",
      "M 4.3 - 106km NE of San Pedro de Atacama, Chile\n",
      "M 4.2 - 18km S of Aravan, Kyrgyzstan\n",
      "M 4.1 - 175km WNW of Tual, Indonesia\n",
      "M 4.5 - 96km SW of Murghob, Tajikistan\n",
      "M 5.1 - 107km W of Ile Hunter, New Caledonia\n",
      "M 4.9 - 140km NNE of Bristol Island, South Sandwich Islands\n",
      "M 4.5 - 48km W of Kasiguncu, Indonesia\n",
      "M 2.6 - 8km NE of Imperial, CA\n",
      "M 2.8 - 8km S of Brawley, CA\n",
      "M 2.7 - 3km ESE of Valle Vista, CA\n",
      "M 4.8 - 81km SW of Porgera, Papua New Guinea\n",
      "M 4.2 - 108km W of Mendi, Papua New Guinea\n",
      "M 3.0 - 16km W of Volcano, Hawaii\n",
      "M 3.6 - 20km SSW of Panguitch, Utah\n",
      "M 3.2 - 285km W of Ferndale, California\n",
      "M 5.0 - 108km SW of Porgera, Papua New Guinea\n",
      "M 4.3 - 55km W of Mendi, Papua New Guinea\n",
      "M 4.3 - 126km SW of Porgera, Papua New Guinea\n",
      "M 4.4 - 34km SE of Putla de Guerrero, Mexico\n",
      "M 4.3 - 87km E of Kiunga, Papua New Guinea\n",
      "M 4.4 - 103km E of Kiunga, Papua New Guinea\n",
      "M 4.8 - 100km SW of Porgera, Papua New Guinea\n",
      "M 4.0 - 276km SE of Kodiak, Alaska\n",
      "M 2.5 - 40km S of Redoubt Volcano, Alaska\n",
      "M 4.3 - 106km E of Kiunga, Papua New Guinea\n",
      "M 4.6 - 262km ESE of Kamaishi, Japan\n",
      "M 2.7 - 59km ENE of Kodiak, Alaska\n",
      "M 3.9 - 284km SE of Kodiak, Alaska\n",
      "M 2.5 - 49km NNW of Kodiak Station, Alaska\n",
      "M 4.7 - 207km NW of Saumlaki, Indonesia\n",
      "M 2.9 - 31km WNW of Fairview, Oklahoma\n",
      "M 5.2 - 110km SW of Porgera, Papua New Guinea\n",
      "M 4.7 - 259km SSE of Amahusu, Indonesia\n",
      "M 3.5 - 12km N of Gustavia, Saint Barthélemy\n",
      "M 4.8 - 103km SW of Porgera, Papua New Guinea\n",
      "M 4.9 - 114km SW of Porgera, Papua New Guinea\n",
      "M 6.1 - 111km SW of Porgera, Papua New Guinea\n",
      "M 2.8 - 62km ENE of Y, Alaska\n",
      "M 4.1 - 62km N of Sutton-Alpine, Alaska\n",
      "M 4.4 - 31km W of Agrihan, Northern Mariana Islands\n",
      "M 3.3 - 75km SW of Anchor Point, Alaska\n",
      "M 3.4 - 254km SE of Kodiak, Alaska\n",
      "M 3.2 - 174km WSW of Gold Beach, Oregon\n",
      "M 4.7 - 52km WSW of Mendi, Papua New Guinea\n",
      "M 2.7 - 23km ESE of Old Iliamna, Alaska\n",
      "M 4.9 - 73km W of Mendi, Papua New Guinea\n"
     ]
    }
   ],
   "source": [
    "# pull out the title from each earthquake listing\n",
    "\n",
    "for q in quakes:\n",
    "    print(q['properties']['title'])"
   ]
  },
  {
   "cell_type": "code",
   "execution_count": 80,
   "metadata": {},
   "outputs": [
    {
     "name": "stdout",
     "output_type": "stream",
     "text": [
      "340\n"
     ]
    }
   ],
   "source": [
    "# pull out magnitudes and depths into a Pandas dataframe, using\n",
    "# a more compact Python syntax for iterating through lists\n",
    "\n",
    "d = {'magnitude': [q['properties']['mag'] for q in quakes],\n",
    "     'depth': [q['geometry']['coordinates'][2] for q in quakes]}\n",
    "\n",
    "df = pd.DataFrame.from_dict(d)\n",
    "\n",
    "# how many earthquakes were loaded into the dataframe?\n",
    "print(len(df))"
   ]
  },
  {
   "cell_type": "code",
   "execution_count": null,
   "metadata": {},
   "outputs": [],
   "source": []
  },
  {
   "cell_type": "code",
   "execution_count": 81,
   "metadata": {},
   "outputs": [
    {
     "name": "stdout",
     "output_type": "stream",
     "text": [
      "    depth  magnitude\n",
      "0  169.80       2.60\n",
      "1   35.00       4.30\n",
      "2   10.00       4.40\n",
      "3   10.00       4.70\n",
      "4    3.21       2.79\n"
     ]
    }
   ],
   "source": [
    "# print the first few lines of data\n",
    "\n",
    "print(df.head())"
   ]
  },
  {
   "cell_type": "code",
   "execution_count": 82,
   "metadata": {},
   "outputs": [
    {
     "name": "stdout",
     "output_type": "stream",
     "text": [
      "            depth   magnitude\n",
      "count  340.000000  340.000000\n",
      "mean    51.341374    4.010265\n",
      "std     84.176510    0.892194\n",
      "min     -6.900000    2.460000\n",
      "25%     10.000000    3.200000\n",
      "50%     21.000000    4.200000\n",
      "75%     61.100000    4.700000\n",
      "max    673.740000    6.700000\n"
     ]
    }
   ],
   "source": [
    "# print some descriptive statistics\n",
    "\n",
    "print(df.describe())"
   ]
  },
  {
   "cell_type": "code",
   "execution_count": 83,
   "metadata": {},
   "outputs": [
    {
     "data": {
      "text/plain": [
       "<matplotlib.axes._subplots.AxesSubplot at 0x182e8ce2ba8>"
      ]
     },
     "execution_count": 83,
     "metadata": {},
     "output_type": "execute_result"
    },
    {
     "data": {
      "image/png": "[encoded data removed]",
      "text/plain": [
       "<matplotlib.figure.Figure at 0x182e8ef7080>"
      ]
     },
     "metadata": {},
     "output_type": "display_data"
    }
   ],
   "source": [
    "# plot the depth vs. magnitude\n",
    "\n",
    "df.plot(x='magnitude', y='depth', kind='scatter')"
   ]
  },
  {
   "cell_type": "code",
   "execution_count": 84,
   "metadata": {},
   "outputs": [
    {
     "name": "stdout",
     "output_type": "stream",
     "text": [
      "file saved\n"
     ]
    }
   ],
   "source": [
    "# save the dataframe to disk\n",
    "\n",
    "df.to_csv('usgs_earthquake_data.csv')\n",
    "\n",
    "print('file saved')"
   ]
  },
  {
   "cell_type": "code",
   "execution_count": 85,
   "metadata": {},
   "outputs": [
    {
     "name": "stdout",
     "output_type": "stream",
     "text": [
      "    depth  magnitude\n",
      "0  169.80       2.60\n",
      "1   35.00       4.30\n",
      "2   10.00       4.40\n",
      "3   10.00       4.70\n",
      "4    3.21       2.79\n"
     ]
    }
   ],
   "source": [
    "# read it back later\n",
    "\n",
    "new_df = pd.DataFrame.from_csv('usgs_earthquake_data.csv')\n",
    "\n",
    "print(new_df.head())"
   ]
  },
  {
   "cell_type": "code",
   "execution_count": null,
   "metadata": {
    "collapsed": true
   },
   "outputs": [],
   "source": []
  },
  {
   "cell_type": "code",
   "execution_count": null,
   "metadata": {
    "collapsed": true
   },
   "outputs": [],
   "source": []
  },
  {
   "cell_type": "code",
   "execution_count": null,
   "metadata": {
    "collapsed": true
   },
   "outputs": [],
   "source": []
  },
  {
   "cell_type": "markdown",
   "metadata": {},
   "source": [
    "# Part 2: Querying an API endpoint\n",
    "\n",
    "### Google Maps Geocoding API\n",
    "\n",
    "Google has lots of APIs that let you access its services through code instead of through GUI apps. This one from Google Maps lets you look up the latitude-longitude coordinates of street addresses.\n",
    "\n",
    "It works similarly to the earthquakes example, but with query parameters added to the URL endpoint!\n",
    "\n",
    "**API documentation:**  \n",
    "https://developers.google.com/maps/documentation/geocoding/intro\n",
    "\n",
    "**API endpoint:**  \n",
    "https://maps.googleapis.com/maps/api/geocode/json\n",
    "\n",
    "**API endpoint with query parameters:**  \n",
    "https://maps.googleapis.com/maps/api/geocode/json?address=Wurster+Hall"
   ]
  },
  {
   "cell_type": "code",
   "execution_count": 86,
   "metadata": {
    "collapsed": true
   },
   "outputs": [],
   "source": [
    "import json    # library for working with JSON-formatted text strings\n",
    "import requests  # library for accessing content from web URLs\n",
    "\n",
    "import pprint  # library for making Python data structures readable\n",
    "pp = pprint.PrettyPrinter()"
   ]
  },
  {
   "cell_type": "code",
   "execution_count": 87,
   "metadata": {},
   "outputs": [
    {
     "name": "stdout",
     "output_type": "stream",
     "text": [
      "https://maps.googleapis.com/maps/api/geocode/json?address=young+library+uky\n"
     ]
    }
   ],
   "source": [
    "# we have to encode the search query so that it can be passed as a URL, \n",
    "# with spaces and other special characters removed\n",
    "\n",
    "endpoint = 'https://maps.googleapis.com/maps/api/geocode/json'\n",
    "\n",
    "params = {'address': 'young library uky'}\n",
    "\n",
    "url = requests.Request('GET', endpoint, params=params).prepare().url\n",
    "print(url)"
   ]
  },
  {
   "cell_type": "code",
   "execution_count": 88,
   "metadata": {},
   "outputs": [
    {
     "name": "stdout",
     "output_type": "stream",
     "text": [
      "{'results': [{'address_components': [{'long_name': '401', 'short_name': '401', 'types': ['street_number']}, {'long_name': 'Hilltop Avenue', 'short_name': 'Hilltop Ave', 'types': ['route']}, {'long_name': 'Lexington', 'short_name': 'Lexington', 'types': ['locality', 'political']}, {'long_name': 'Fayette County', 'short_name': 'Fayette County', 'types': ['administrative_area_level_2', 'political']}, {'long_name': 'Kentucky', 'short_name': 'KY', 'types': ['administrative_area_level_1', 'political']}, {'long_name': 'United States', 'short_name': 'US', 'types': ['country', 'political']}, {'long_name': '40506', 'short_name': '40506', 'types': ['postal_code']}, {'long_name': '0001', 'short_name': '0001', 'types': ['postal_code_suffix']}], 'formatted_address': '401 Hilltop Ave, Lexington, KY 40506, USA', 'geometry': {'location': {'lat': 38.0328721, 'lng': -84.5017179}, 'location_type': 'ROOFTOP', 'viewport': {'northeast': {'lat': 38.0342210802915, 'lng': -84.50036891970849}, 'southwest': {'lat': 38.0315231197085, 'lng': -84.5030668802915}}}, 'place_id': 'ChIJ4TWVhLhEQogRoRWbSlkOZZY', 'types': ['establishment', 'library', 'point_of_interest']}], 'status': 'OK'}\n"
     ]
    }
   ],
   "source": [
    "# download and parse the results\n",
    "\n",
    "response = requests.get(url)\n",
    "results = response.text\n",
    "data = json.loads(results)\n",
    "\n",
    "print(data)"
   ]
  },
  {
   "cell_type": "code",
   "execution_count": 89,
   "metadata": {
    "collapsed": true
   },
   "outputs": [],
   "source": [
    "# if needed google_key = ''"
   ]
  },
  {
   "cell_type": "code",
   "execution_count": 90,
   "metadata": {},
   "outputs": [
    {
     "name": "stdout",
     "output_type": "stream",
     "text": [
      "{'results': [{'address_components': [{'long_name': '401',\n",
      "                                      'short_name': '401',\n",
      "                                      'types': ['street_number']},\n",
      "                                     {'long_name': 'Hilltop Avenue',\n",
      "                                      'short_name': 'Hilltop Ave',\n",
      "                                      'types': ['route']},\n",
      "                                     {'long_name': 'Lexington',\n",
      "                                      'short_name': 'Lexington',\n",
      "                                      'types': ['locality', 'political']},\n",
      "                                     {'long_name': 'Fayette County',\n",
      "                                      'short_name': 'Fayette County',\n",
      "                                      'types': ['administrative_area_level_2',\n",
      "                                                'political']},\n",
      "                                     {'long_name': 'Kentucky',\n",
      "                                      'short_name': 'KY',\n",
      "                                      'types': ['administrative_area_level_1',\n",
      "                                                'political']},\n",
      "                                     {'long_name': 'United States',\n",
      "                                      'short_name': 'US',\n",
      "                                      'types': ['country', 'political']},\n",
      "                                     {'long_name': '40506',\n",
      "                                      'short_name': '40506',\n",
      "                                      'types': ['postal_code']},\n",
      "                                     {'long_name': '0001',\n",
      "                                      'short_name': '0001',\n",
      "                                      'types': ['postal_code_suffix']}],\n",
      "              'formatted_address': '401 Hilltop Ave, Lexington, KY 40506, USA',\n",
      "              'geometry': {'location': {'lat': 38.0328721, 'lng': -84.5017179},\n",
      "                           'location_type': 'ROOFTOP',\n",
      "                           'viewport': {'northeast': {'lat': 38.0342210802915,\n",
      "                                                      'lng': -84.50036891970849},\n",
      "                                        'southwest': {'lat': 38.0315231197085,\n",
      "                                                      'lng': -84.5030668802915}}},\n",
      "              'place_id': 'ChIJ4TWVhLhEQogRoRWbSlkOZZY',\n",
      "              'types': ['establishment', 'library', 'point_of_interest']}],\n",
      " 'status': 'OK'}\n"
     ]
    }
   ],
   "source": [
    "# print it more nicely\n",
    "\n",
    "pp.pprint(data)"
   ]
  },
  {
   "cell_type": "code",
   "execution_count": 91,
   "metadata": {},
   "outputs": [
    {
     "name": "stdout",
     "output_type": "stream",
     "text": [
      "38.0328721 -84.5017179\n"
     ]
    }
   ],
   "source": [
    "# pull out the lat-lon coordinates\n",
    "\n",
    "for r in data['results']:\n",
    "    coords = r['geometry']['location']\n",
    "    print(coords['lat'], coords['lng'])"
   ]
  },
  {
   "cell_type": "markdown",
   "metadata": {},
   "source": [
    "### Exercises\n",
    "\n",
    "1. Search for some other addresses or landmarks!\n",
    "2. Take a look at the [API documentation](https://developers.google.com/maps/documentation/geocoding/intro). What are the usage limits?"
   ]
  },
  {
   "cell_type": "code",
   "execution_count": 92,
   "metadata": {},
   "outputs": [
    {
     "name": "stdout",
     "output_type": "stream",
     "text": [
      "https://maps.googleapis.com/maps/api/geocode/json?address=152+East+Fourth+St%2C+Lexington%2C+KY+40508\n"
     ]
    }
   ],
   "source": [
    "endpoint = 'https://maps.googleapis.com/maps/api/geocode/json'\n",
    "\n",
    "params = {'address': '152 East Fourth St, Lexington, KY 40508'}\n",
    "\n",
    "url = requests.Request('GET', endpoint, params=params).prepare().url\n",
    "print(url)"
   ]
  },
  {
   "cell_type": "code",
   "execution_count": 93,
   "metadata": {},
   "outputs": [
    {
     "name": "stdout",
     "output_type": "stream",
     "text": [
      "{'results': [{'address_components': [{'long_name': '152', 'short_name': '152', 'types': ['street_number']}, {'long_name': 'East Fourth Street', 'short_name': 'E Fourth St', 'types': ['route']}, {'long_name': 'Martin Luther King', 'short_name': 'Martin Luther King', 'types': ['neighborhood', 'political']}, {'long_name': 'Lexington', 'short_name': 'Lexington', 'types': ['locality', 'political']}, {'long_name': 'Fayette County', 'short_name': 'Fayette County', 'types': ['administrative_area_level_2', 'political']}, {'long_name': 'Kentucky', 'short_name': 'KY', 'types': ['administrative_area_level_1', 'political']}, {'long_name': 'United States', 'short_name': 'US', 'types': ['country', 'political']}, {'long_name': '40508', 'short_name': '40508', 'types': ['postal_code']}], 'formatted_address': '152 E Fourth St, Lexington, KY 40508, USA', 'geometry': {'bounds': {'northeast': {'lat': 38.0497445, 'lng': -84.4893103}, 'southwest': {'lat': 38.0495981, 'lng': -84.4895068}}, 'location': {'lat': 38.04968179999999, 'lng': -84.48938}, 'location_type': 'ROOFTOP', 'viewport': {'northeast': {'lat': 38.0510202802915, 'lng': -84.4880595697085}, 'southwest': {'lat': 38.0483223197085, 'lng': -84.4907575302915}}}, 'place_id': 'ChIJ6wWFOOVEQogRND2BU7F92Zo', 'types': ['premise']}], 'status': 'OK'}\n"
     ]
    }
   ],
   "source": [
    "# download and parse the results\n",
    "\n",
    "response = requests.get(url)\n",
    "results = response.text\n",
    "data = json.loads(results)\n",
    "\n",
    "print(data)"
   ]
  },
  {
   "cell_type": "code",
   "execution_count": 94,
   "metadata": {},
   "outputs": [
    {
     "name": "stdout",
     "output_type": "stream",
     "text": [
      "{'results': [{'address_components': [{'long_name': '152',\n",
      "                                      'short_name': '152',\n",
      "                                      'types': ['street_number']},\n",
      "                                     {'long_name': 'East Fourth Street',\n",
      "                                      'short_name': 'E Fourth St',\n",
      "                                      'types': ['route']},\n",
      "                                     {'long_name': 'Martin Luther King',\n",
      "                                      'short_name': 'Martin Luther King',\n",
      "                                      'types': ['neighborhood', 'political']},\n",
      "                                     {'long_name': 'Lexington',\n",
      "                                      'short_name': 'Lexington',\n",
      "                                      'types': ['locality', 'political']},\n",
      "                                     {'long_name': 'Fayette County',\n",
      "                                      'short_name': 'Fayette County',\n",
      "                                      'types': ['administrative_area_level_2',\n",
      "                                                'political']},\n",
      "                                     {'long_name': 'Kentucky',\n",
      "                                      'short_name': 'KY',\n",
      "                                      'types': ['administrative_area_level_1',\n",
      "                                                'political']},\n",
      "                                     {'long_name': 'United States',\n",
      "                                      'short_name': 'US',\n",
      "                                      'types': ['country', 'political']},\n",
      "                                     {'long_name': '40508',\n",
      "                                      'short_name': '40508',\n",
      "                                      'types': ['postal_code']}],\n",
      "              'formatted_address': '152 E Fourth St, Lexington, KY 40508, USA',\n",
      "              'geometry': {'bounds': {'northeast': {'lat': 38.0497445,\n",
      "                                                    'lng': -84.4893103},\n",
      "                                      'southwest': {'lat': 38.0495981,\n",
      "                                                    'lng': -84.4895068}},\n",
      "                           'location': {'lat': 38.04968179999999,\n",
      "                                        'lng': -84.48938},\n",
      "                           'location_type': 'ROOFTOP',\n",
      "                           'viewport': {'northeast': {'lat': 38.0510202802915,\n",
      "                                                      'lng': -84.4880595697085},\n",
      "                                        'southwest': {'lat': 38.0483223197085,\n",
      "                                                      'lng': -84.4907575302915}}},\n",
      "              'place_id': 'ChIJ6wWFOOVEQogRND2BU7F92Zo',\n",
      "              'types': ['premise']}],\n",
      " 'status': 'OK'}\n"
     ]
    }
   ],
   "source": [
    "pp.pprint(data)"
   ]
  },
  {
   "cell_type": "code",
   "execution_count": 95,
   "metadata": {},
   "outputs": [
    {
     "name": "stdout",
     "output_type": "stream",
     "text": [
      "38.04968179999999 -84.48938\n"
     ]
    }
   ],
   "source": [
    "for r in data['results']:\n",
    "    coords = r['geometry']['location']\n",
    "    print(coords['lat'], coords['lng'])"
   ]
  },
  {
   "cell_type": "code",
   "execution_count": 96,
   "metadata": {
    "collapsed": true
   },
   "outputs": [],
   "source": [
    "# 2,500 free requests per day, calculated as the sum of client-side and server-side queries.\n",
    "# 50 requests per second, calculated as the sum of client-side and server-side queries."
   ]
  },
  {
   "cell_type": "markdown",
   "metadata": {},
   "source": [
    "# Part 3: Querying an API with authentication\n",
    "\n",
    "### Twitter REST APIs\n",
    "\n",
    "Twitter's APIs also operate over the web, but they require a back-and-forth authentication process at the beginning of each connection. It's easier to have a Python library handle this than to create the query URLs ourselves.\n",
    "\n",
    "The Twitter \"REST\" APIs perform stand-alone operations: you submit a query and receive results, like in earlier examples. ([REST](https://en.wikipedia.org/wiki/Representational_state_transfer) is a particular set of guidelines that many APIs follow.) Twitter also has a \"streaming\" API that continues sending results in real time until you disconnect.\n",
    "\n",
    "**API documentation:**  \n",
    "https://dev.twitter.com/rest/public  \n",
    "https://dev.twitter.com/overview/api/tweets\n",
    "\n",
    "**Documentation for the Python helper library**:  \n",
    "https://github.com/geduldig/TwitterAPI"
   ]
  },
  {
   "cell_type": "code",
   "execution_count": 97,
   "metadata": {
    "collapsed": true
   },
   "outputs": [],
   "source": [
    "from TwitterAPI import TwitterAPI\n",
    "\n",
    "import pprint  # library for making Python data structures readable\n",
    "pp = pprint.PrettyPrinter()"
   ]
  },
  {
   "cell_type": "code",
   "execution_count": 98,
   "metadata": {
    "collapsed": true
   },
   "outputs": [],
   "source": [
    "# import API credentials from keys.py file in the\n",
    "# same directory as this notebook\n",
    "\n",
    "from keys import *"
   ]
  },
  {
   "cell_type": "code",
   "execution_count": 99,
   "metadata": {},
   "outputs": [
    {
     "name": "stdout",
     "output_type": "stream",
     "text": [
      "Connection is set up but not tested\n"
     ]
    }
   ],
   "source": [
    "# set up an API connection using credentials from the keys file\n",
    "\n",
    "api = TwitterAPI(consumer_key, consumer_secret, \n",
    "                 access_token, access_token_secret)\n",
    "\n",
    "print(\"Connection is set up but not tested\")"
   ]
  },
  {
   "cell_type": "markdown",
   "metadata": {},
   "source": [
    "### Making a simple data request"
   ]
  },
  {
   "cell_type": "code",
   "execution_count": 100,
   "metadata": {},
   "outputs": [
    {
     "name": "stdout",
     "output_type": "stream",
     "text": [
      "RT @UKBaseball: A good night has turned into a HUGE night for @Tsquires16, whose second two-run double of the night makes it 11-5 UK in B7.…\n",
      "RT @UKsoftball: FINAL - #22 Kentucky 4, SIUE 1\n",
      "\n",
      "Kentucky finishes the homestand 6-0 and is now on a 10-game winning streak. \n",
      "\n",
      "Now? It gets…\n",
      "RT @UKsoftball: HOME RUN ABBEY CHEEK!!\n",
      "\n",
      "She hits her second in three games, and UK has tied the game, 1-1. https://t.co/8aMcud54zq\n",
      "No sign of cooling down from this guy. #WeAreUK https://t.co/VxLixlzesG\n",
      "RT @BBNRewards: You can’t go wrong with a little softball or baseball action on this gorgeous Tuesday!! First pitch for both games is at 4!…\n"
     ]
    }
   ],
   "source": [
    "# most recent tweet from @UCBerkeley's timeline\n",
    "\n",
    "endpoint = 'statuses/user_timeline'\n",
    "params = {\n",
    "    'screen_name': 'UKAthletics', \n",
    "    'count': 5\n",
    "}\n",
    "r = api.request(endpoint, params)\n",
    "\n",
    "for tweet in r.get_iterator():\n",
    "    print(tweet['text'])"
   ]
  },
  {
   "cell_type": "code",
   "execution_count": 101,
   "metadata": {},
   "outputs": [
    {
     "name": "stdout",
     "output_type": "stream",
     "text": [
      "{'contributors': None,\n",
      " 'coordinates': None,\n",
      " 'created_at': 'Tue Mar 06 18:57:43 +0000 2018',\n",
      " 'entities': {'hashtags': [],\n",
      "              'symbols': [],\n",
      "              'urls': [],\n",
      "              'user_mentions': [{'id': 4450811733,\n",
      "                                 'id_str': '4450811733',\n",
      "                                 'indices': [3, 14],\n",
      "                                 'name': 'BBN Rewards',\n",
      "                                 'screen_name': 'BBNRewards'}]},\n",
      " 'favorite_count': 0,\n",
      " 'favorited': False,\n",
      " 'geo': None,\n",
      " 'id': 971097512282152962,\n",
      " 'id_str': '971097512282152962',\n",
      " 'in_reply_to_screen_name': None,\n",
      " 'in_reply_to_status_id': None,\n",
      " 'in_reply_to_status_id_str': None,\n",
      " 'in_reply_to_user_id': None,\n",
      " 'in_reply_to_user_id_str': None,\n",
      " 'is_quote_status': False,\n",
      " 'lang': 'en',\n",
      " 'place': None,\n",
      " 'retweet_count': 4,\n",
      " 'retweeted': False,\n",
      " 'retweeted_status': {'contributors': None,\n",
      "                      'coordinates': None,\n",
      "                      'created_at': 'Tue Mar 06 18:31:17 +0000 2018',\n",
      "                      'entities': {'hashtags': [],\n",
      "                                   'symbols': [],\n",
      "                                   'urls': [{'display_url': 'twitter.com/i/web/status/9…',\n",
      "                                             'expanded_url': 'https://twitter.com/i/web/status/971090857217679361',\n",
      "                                             'indices': [116, 139],\n",
      "                                             'url': 'https://t.co/Mlxx6tz6qt'}],\n",
      "                                   'user_mentions': []},\n",
      "                      'favorite_count': 20,\n",
      "                      'favorited': False,\n",
      "                      'geo': None,\n",
      "                      'id': 971090857217679361,\n",
      "                      'id_str': '971090857217679361',\n",
      "                      'in_reply_to_screen_name': None,\n",
      "                      'in_reply_to_status_id': None,\n",
      "                      'in_reply_to_status_id_str': None,\n",
      "                      'in_reply_to_user_id': None,\n",
      "                      'in_reply_to_user_id_str': None,\n",
      "                      'is_quote_status': False,\n",
      "                      'lang': 'en',\n",
      "                      'place': {'attributes': {},\n",
      "                                'bounding_box': {'coordinates': [[[-89.57151,\n",
      "                                                                   36.497129],\n",
      "                                                                  [-81.964971,\n",
      "                                                                   36.497129],\n",
      "                                                                  [-81.964971,\n",
      "                                                                   39.147359],\n",
      "                                                                  [-89.57151,\n",
      "                                                                   39.147359]]],\n",
      "                                                 'type': 'Polygon'},\n",
      "                                'contained_within': [],\n",
      "                                'country': 'United States',\n",
      "                                'country_code': 'US',\n",
      "                                'full_name': 'Kentucky, USA',\n",
      "                                'id': '6ffcf3b0b904bbcb',\n",
      "                                'name': 'Kentucky',\n",
      "                                'place_type': 'admin',\n",
      "                                'url': 'https://api.twitter.com/1.1/geo/id/6ffcf3b0b904bbcb.json'},\n",
      "                      'possibly_sensitive': False,\n",
      "                      'retweet_count': 4,\n",
      "                      'retweeted': False,\n",
      "                      'source': '<a href=\"http://twitter.com/download/iphone\" '\n",
      "                                'rel=\"nofollow\">Twitter for iPhone</a>',\n",
      "                      'text': 'You can’t go wrong with a little softball or '\n",
      "                              'baseball action on this gorgeous Tuesday!! '\n",
      "                              'First pitch for both games… '\n",
      "                              'https://t.co/Mlxx6tz6qt',\n",
      "                      'truncated': True,\n",
      "                      'user': {'contributors_enabled': False,\n",
      "                               'created_at': 'Fri Dec 11 18:01:40 +0000 2015',\n",
      "                               'default_profile': False,\n",
      "                               'default_profile_image': False,\n",
      "                               'description': 'The Official Student Rewards '\n",
      "                                              'App of @UKAthletics!\\n'\n",
      "                                              '\\n'\n",
      "                                              'Need help? DM us!',\n",
      "                               'entities': {'description': {'urls': []},\n",
      "                                            'url': {'urls': [{'display_url': 'bbnrewards.com',\n",
      "                                                              'expanded_url': 'http://bbnrewards.com',\n",
      "                                                              'indices': [0,\n",
      "                                                                          23],\n",
      "                                                              'url': 'https://t.co/WtKvJnn5qk'}]}},\n",
      "                               'favourites_count': 431,\n",
      "                               'follow_request_sent': False,\n",
      "                               'followers_count': 1060,\n",
      "                               'following': False,\n",
      "                               'friends_count': 48,\n",
      "                               'geo_enabled': True,\n",
      "                               'has_extended_profile': True,\n",
      "                               'id': 4450811733,\n",
      "                               'id_str': '4450811733',\n",
      "                               'is_translation_enabled': False,\n",
      "                               'is_translator': False,\n",
      "                               'lang': 'en',\n",
      "                               'listed_count': 4,\n",
      "                               'location': 'Lexington, KY',\n",
      "                               'name': 'BBN Rewards',\n",
      "                               'notifications': False,\n",
      "                               'profile_background_color': '000000',\n",
      "                               'profile_background_image_url': 'http://abs.twimg.com/images/themes/theme1/bg.png',\n",
      "                               'profile_background_image_url_https': 'https://abs.twimg.com/images/themes/theme1/bg.png',\n",
      "                               'profile_background_tile': False,\n",
      "                               'profile_banner_url': 'https://pbs.twimg.com/profile_banners/4450811733/1478567666',\n",
      "                               'profile_image_url': 'http://pbs.twimg.com/profile_images/740926769931374597/tOGtEuJo_normal.jpg',\n",
      "                               'profile_image_url_https': 'https://pbs.twimg.com/profile_images/740926769931374597/tOGtEuJo_normal.jpg',\n",
      "                               'profile_link_color': '1B95E0',\n",
      "                               'profile_sidebar_border_color': '000000',\n",
      "                               'profile_sidebar_fill_color': '000000',\n",
      "                               'profile_text_color': '000000',\n",
      "                               'profile_use_background_image': False,\n",
      "                               'protected': False,\n",
      "                               'screen_name': 'BBNRewards',\n",
      "                               'statuses_count': 823,\n",
      "                               'time_zone': 'Pacific Time (US & Canada)',\n",
      "                               'translator_type': 'none',\n",
      "                               'url': 'https://t.co/WtKvJnn5qk',\n",
      "                               'utc_offset': -28800,\n",
      "                               'verified': False}},\n",
      " 'source': '<a href=\"http://twitter.com\" rel=\"nofollow\">Twitter Web Client</a>',\n",
      " 'text': 'RT @BBNRewards: You can’t go wrong with a little softball or '\n",
      "         'baseball action on this gorgeous Tuesday!! First pitch for both '\n",
      "         'games is at 4!…',\n",
      " 'truncated': False,\n",
      " 'user': {'contributors_enabled': False,\n",
      "          'created_at': 'Tue Mar 17 18:41:37 +0000 2009',\n",
      "          'default_profile': False,\n",
      "          'default_profile_image': False,\n",
      "          'description': 'The official Twitter account of the University of '\n",
      "                         'Kentucky Athletics Department. Facebook: Kentucky '\n",
      "                         'Wildcats; Instagram: ukathletics; Snapchat: '\n",
      "                         'uk_athletics',\n",
      "          'entities': {'description': {'urls': []},\n",
      "                       'url': {'urls': [{'display_url': 'ukathletics.com',\n",
      "                                         'expanded_url': 'http://www.ukathletics.com/',\n",
      "                                         'indices': [0, 23],\n",
      "                                         'url': 'https://t.co/Zqcn6uhNdp'}]}},\n",
      "          'favourites_count': 4238,\n",
      "          'follow_request_sent': False,\n",
      "          'followers_count': 321505,\n",
      "          'following': False,\n",
      "          'friends_count': 807,\n",
      "          'geo_enabled': True,\n",
      "          'has_extended_profile': False,\n",
      "          'id': 24929053,\n",
      "          'id_str': '24929053',\n",
      "          'is_translation_enabled': False,\n",
      "          'is_translator': False,\n",
      "          'lang': 'en',\n",
      "          'listed_count': 1355,\n",
      "          'location': 'Lexington, Ky.',\n",
      "          'name': 'Kentucky Athletics',\n",
      "          'notifications': False,\n",
      "          'profile_background_color': '000738',\n",
      "          'profile_background_image_url': 'http://pbs.twimg.com/profile_background_images/454256249635237888/rrHm7iuI.jpeg',\n",
      "          'profile_background_image_url_https': 'https://pbs.twimg.com/profile_background_images/454256249635237888/rrHm7iuI.jpeg',\n",
      "          'profile_background_tile': False,\n",
      "          'profile_banner_url': 'https://pbs.twimg.com/profile_banners/24929053/1517845679',\n",
      "          'profile_image_url': 'http://pbs.twimg.com/profile_images/875802157605408769/-DftO40K_normal.jpg',\n",
      "          'profile_image_url_https': 'https://pbs.twimg.com/profile_images/875802157605408769/-DftO40K_normal.jpg',\n",
      "          'profile_link_color': '084AE7',\n",
      "          'profile_sidebar_border_color': 'FFFFFF',\n",
      "          'profile_sidebar_fill_color': 'FFFFFF',\n",
      "          'profile_text_color': '787878',\n",
      "          'profile_use_background_image': True,\n",
      "          'protected': False,\n",
      "          'screen_name': 'UKAthletics',\n",
      "          'statuses_count': 41774,\n",
      "          'time_zone': 'Eastern Time (US & Canada)',\n",
      "          'translator_type': 'none',\n",
      "          'url': 'https://t.co/Zqcn6uhNdp',\n",
      "          'utc_offset': -18000,\n",
      "          'verified': True}}\n"
     ]
    }
   ],
   "source": [
    "# what other data is there?\n",
    "\n",
    "pp.pprint(tweet)"
   ]
  },
  {
   "cell_type": "markdown",
   "metadata": {},
   "source": [
    "### Other API endpoints allow different types of searches"
   ]
  },
  {
   "cell_type": "code",
   "execution_count": 102,
   "metadata": {},
   "outputs": [
    {
     "name": "stdout",
     "output_type": "stream",
     "text": [
      "@AntDavis23 The whole Big Blue squad-and we miss Nico #WindyCity #BBN #LaFamilia\n",
      "\n",
      "HERALD-LEADER: UK track sensation Sydney McLaughlin wants to be 'one of the world's best' https://t.co/uP9CNqLXP5… https://t.co/F2qwVpgUyV\n",
      "\n",
      "#BBN https://t.co/AzzVFQvmg8\n",
      "\n",
      "RT @Defence24pl: #BBN podkreśla, że ustawa o wyposażaniu sojuszników w polską broń jest kolejnym krokiem zacieśniającym współpracę na wscho…\n",
      "\n",
      "When you have season tickets for @UKBaseball but you also have the man flu so you gotta watch at home. But at least… https://t.co/qNfII1nFzr\n",
      "\n"
     ]
    }
   ],
   "source": [
    "# search for public tweets about #BBN\n",
    "\n",
    "endpoint = 'search/tweets'\n",
    "params = {\n",
    "    'q': '#BBN', \n",
    "    'count': 5\n",
    "}\n",
    "r = api.request(endpoint, params)\n",
    "\n",
    "for tweet in r.get_iterator():\n",
    "    print(tweet['text'] + '\\n')"
   ]
  },
  {
   "cell_type": "code",
   "execution_count": 103,
   "metadata": {},
   "outputs": [
    {
     "name": "stdout",
     "output_type": "stream",
     "text": [
      "RT @iRajuSrivastav: जूता पहन के रेक्सिन का\n",
      "स्वराज सुजा दो लेनिन का ..😀😀😀\n",
      "भारत माता की जय 🎪\n",
      "\n",
      "#Lenin \n",
      "#LeninStatue \n",
      "#LolSalaam\n",
      "\n",
      "RT @iamdkt12: प्यार तो उसी दिन हो गया था \n",
      "जब उसने \n",
      "अपनी सेहली की शादी में आवाज लगाकर कहा था \n",
      "गर्म पूरी लाओ ना plz \n",
      "😂😂😝😂😝😂😝😝\n",
      "\n",
      "RT @PinkySh38785326: शिक्षा मित्र बन रहे है बलि का बकरा\n",
      "इतिहास बन गयी शिक्षा मित्रो की मौते\n",
      "इलाहाबाद।\n",
      "विकास खंड कौन्धियारा इलाहाबाद  की शि…\n",
      "\n",
      "RT @saket71: कार्ति चिदम्बरम के जन्म के बरसों पूर्व लेनिन ही प्रथम भारतीय थे जिन्होंने कैश एवम् काईंड में घूस स्वीकार करने की परंपरा स्थापि…\n",
      "\n",
      "RT @Shivraj224: #स्वर्ग_VS_सतलोक \n",
      "ब्रह्मा विष्णु महेश की भक्ति कर के हम सिर्फ स्वर्ग तक ही जा सकते हैं फिर उसके बाद 84 लाख योनियों में पटक…\n",
      "\n"
     ]
    }
   ],
   "source": [
    "# search for public tweets in Hindi\n",
    "\n",
    "endpoint = 'search/tweets'\n",
    "params = {\n",
    "    'q': '*', \n",
    "    'lang': 'hi', \n",
    "    'count': 5\n",
    "} \n",
    "r = api.request(endpoint, params)\n",
    "\n",
    "for tweet in r.get_iterator():\n",
    "    print(tweet['text'] + '\\n')"
   ]
  },
  {
   "cell_type": "code",
   "execution_count": 104,
   "metadata": {},
   "outputs": [
    {
     "name": "stdout",
     "output_type": "stream",
     "text": [
      "Need to de-stress? Join Dr. K’s drum circle! 🥁🎶 #ukyhonors @ Lewis Honors College https://t.co/iVoUpxaYLV\n",
      "\n",
      "If you are like me - you love college basketball and March Madness!! But ...that can lead to a… https://t.co/ypcXfFn0XV\n",
      "\n",
      "Love Basketball without busting your fitness goals during March! March Madness Survival Guide!  https://t.co/MWNpCIhr3J\n",
      "\n",
      "what a fabulous day!! thank you for the love and birthday wishes 💕 also, happy national wear… https://t.co/crx0jeWuHj\n",
      "\n",
      "When all you can think about is spring break but then mid terms hit ((swipe over)) 🙄🙄 #5days… https://t.co/rAdHGgMXX7\n",
      "\n",
      "Enjoying watching/supporting the Twenhofel MS Band perform at UK! No music program is an island. @JonesJetsPride… https://t.co/btE1MoLIvR\n",
      "\n",
      "Throw your hands in the air because it’s INTERNATIONAL BADGE DAY!! I… https://t.co/ukIUQEpJp2\n",
      "\n",
      "Well our time on the Showboat has too soon come to a close. This production will always hold a… https://t.co/FHu6s8wNsJ\n",
      "\n",
      "Ladies skating into the week! This is how we do Monday at Shine Pilates - standing tall and… https://t.co/Bz4GkwkZqR\n",
      "\n",
      "Day 129: Signs of spring! Renewal cometh. #choosehappy @ University of Kentucky Arboretum https://t.co/DetOufwbUQ\n",
      "\n"
     ]
    }
   ],
   "source": [
    "# search for public tweets geotagged near the UK campus\n",
    "\n",
    "endpoint = 'search/tweets'\n",
    "params = {\n",
    "    'q': '*', \n",
    "    'geocode': '38.034,-84.500,0.5km', \n",
    "    'count': 10\n",
    "} \n",
    "r = api.request(endpoint, params)\n",
    "\n",
    "for tweet in r.get_iterator():\n",
    "    print(tweet['text'] + '\\n')"
   ]
  },
  {
   "cell_type": "markdown",
   "metadata": {},
   "source": [
    "### Exercises\n",
    "\n",
    "1. Try some different search queries!\n",
    "2. Display some more data fields in addition to the tweet text"
   ]
  },
  {
   "cell_type": "code",
   "execution_count": 105,
   "metadata": {},
   "outputs": [
    {
     "name": "stdout",
     "output_type": "stream",
     "text": [
      "RT @wgtc_site: New #Shazam! Set Pic Reveals Another #Batman Easter Egg - https://t.co/I2bi8aoVr6 https://t.co/xdNPCIz3Jr\n",
      "\n",
      "New #Shazam! Set Pic Reveals Another #Batman Easter Egg - https://t.co/oyzjHusT1S https://t.co/9ohFvf2FLS\n",
      "\n",
      "RT @anygivenchunday: Last @Gotham table read for the year! #gotham #GothamSeason4 #SeasonFinale #batman #penguin #riddler #brucewayne https…\n",
      "\n",
      "RT @kevincoulston: Watch me #draw an UGLY #BATMAN! https://t.co/2rDZMepqKm\n",
      "\n",
      "RT @kevincoulston: Watch me #draw an UGLY #BATMAN! https://t.co/2rDZMepqKm\n",
      "\n"
     ]
    }
   ],
   "source": [
    "# search for public tweets about #BBN\n",
    "\n",
    "endpoint = 'search/tweets'\n",
    "params = {\n",
    "    'q': '#batman', \n",
    "    'count': 5\n",
    "}\n",
    "r = api.request(endpoint, params)\n",
    "\n",
    "for tweet in r.get_iterator():\n",
    "    print(tweet['text'] + '\\n')"
   ]
  },
  {
   "cell_type": "code",
   "execution_count": null,
   "metadata": {
    "collapsed": true
   },
   "outputs": [],
   "source": []
  },
  {
   "cell_type": "code",
   "execution_count": null,
   "metadata": {
    "collapsed": true
   },
   "outputs": [],
   "source": []
  },
  {
   "cell_type": "markdown",
   "metadata": {},
   "source": [
    "### Bonus: Streaming live tweets in real time "
   ]
  },
  {
   "cell_type": "code",
   "execution_count": 106,
   "metadata": {},
   "outputs": [
    {
     "name": "stdout",
     "output_type": "stream",
     "text": [
      "Wed Mar 07 00:00:02 +0000 2018\n",
      "Palmas, Brasil, Brasil\n",
      "esse trabalho de português tá me dando um RANÇO\n",
      "\n",
      "Wed Mar 07 00:00:02 +0000 2018\n",
      "Marbella, Spain, Spain\n",
      "Silver Snow Studios https://t.co/MVCBCbiz1f #PhotographyStudios\n",
      "\n",
      "Wed Mar 07 00:00:02 +0000 2018\n",
      "Valladolid, España, España\n",
      "Mis novios💥😏💚 https://t.co/M9CW3K73ai\n",
      "\n",
      "Wed Mar 07 00:00:01 +0000 2018\n",
      "Bogotá, D.C., Colombia, Colombia\n",
      "@Winghell Igual: ya tampoco estoy allí tía 🤷🏽‍♂️ https://t.co/mgusD4lcWQ\n",
      "\n",
      "Wed Mar 07 00:00:02 +0000 2018\n",
      "Haapavesi, Suomi, Suomi\n",
      "Wind 0,9 m/s I. Barometer 1013,72 hPa, Vakaa. Temperature -15,9 °C. Rain today 0,0 mm. Humidity 74%\n",
      "\n",
      "Wed Mar 07 00:00:02 +0000 2018\n",
      "Serra, Brasil, Brasil\n",
      "Tô aqui no refeitório do IFES pesando na vida\n",
      "\n",
      "Wed Mar 07 00:00:02 +0000 2018\n",
      "大阪 大阪市 北区, 日本\n",
      "ちょっと阪口大助さんに\n",
      "「オイィィ、カテジナさんあんたおかしいだろぉぉぉ！」って叫んで欲しい\n",
      "\n",
      "Wed Mar 07 00:00:02 +0000 2018\n",
      "South Carolina, USA, United States\n",
      "If I met you would you be the same person you are here? Cause I know I am. #innovateandcreate\n",
      "\n",
      "Wed Mar 07 00:00:02 +0000 2018\n",
      "الرياض, المملكة العربية السعودية, المملكة العربية السعودية\n",
      "إن البهجة التي يخلقها وجودك تجعلني \n",
      "أتحمل أي شيء\".\n",
      "\n",
      "Wed Mar 07 00:00:01 +0000 2018\n",
      "Nilópolis, Brasil, Brasil\n",
      "Perdoe a cara de mlc rs https://t.co/kTYPINfNoi\n",
      "\n",
      "Wed Mar 07 00:00:02 +0000 2018\n",
      "San Juan del Río, Querétaro Arteaga, México\n",
      "Temp. actual: 25 C.\n",
      "Mañana parcialmente nublado con mínima 11 C y máxima 25 C.\n",
      "Más detalles en https://t.co/24pmZ5D2b1\n",
      "\n",
      "Wed Mar 07 00:00:02 +0000 2018\n",
      "Dinaig, Autonomous Region Of Muslim Mindanao, Republic of the Philippines\n",
      "@jr_juanday Hingi kna ngayon Haahahahahahaha\n",
      "\n",
      "Wed Mar 07 00:00:02 +0000 2018\n",
      "Jacksboro, TN, United States\n",
      "Training:\n",
      "Clean and Jerk 225x3+1x5\n",
      "Clean Pulls 275x3x4\n",
      "Backsquat 315x5x5\n",
      "\n",
      "Wed Mar 07 00:00:02 +0000 2018\n",
      "Bougainville, France, France\n",
      "00:43 Temp. 6.4°C, Hum. 90%, Dewp. 4.4°C, Bar. 992.1 hpa\n",
      "\n",
      "Wed Mar 07 00:00:02 +0000 2018\n",
      "Sayville, NY, United States\n",
      "@pw3bz https://t.co/ROK0yX19aF\n",
      "\n",
      "Wed Mar 07 00:00:02 +0000 2018\n",
      "Cariacica, Brasil, Brasil\n",
      "eu fico fora dessa porra dessa casa o dia todo, e quando chego a culpa cai toda pra cima de mim\n",
      "eu odeio essa casa cara\n",
      "\n",
      "Wed Mar 07 00:00:02 +0000 2018\n",
      "Yorkshire and The Humber, England, United Kingdom\n",
      "Does the #manspreader who sits next to me and for reasons of personal comfort takes up at least 2 seats count as on… https://t.co/J2DyiVDtyr\n",
      "\n",
      "Wed Mar 07 00:00:02 +0000 2018\n",
      "Querétaro, Querétaro Arteaga, México\n",
      "He de confesarles que a veces disfruto demasiado hacer dramas 😅\n",
      "\n",
      "Wed Mar 07 00:00:02 +0000 2018\n",
      "Hull, England, United Kingdom\n",
      "@jimhigo @bbcburnsy @HumbersideSport Or the same ones who wanted Phelan full time after 2 games.\n",
      "\n",
      "Wed Mar 07 00:00:02 +0000 2018\n",
      "Boyette, FL, United States\n",
      "@seanhannity   Time to start a call and twitter campaign to get a 2nd special counsel outside the FBI. . I sent my rep a tweet\n",
      "\n",
      "Wed Mar 07 00:00:02 +0000 2018\n",
      "Bronx, NY, United States\n",
      "Love it! https://t.co/vrKOctoxf2\n",
      "\n",
      "Wed Mar 07 00:00:02 +0000 2018\n",
      "Nottingham, England, United Kingdom\n",
      "@VickyPattison hope you loving it in the jungle babe!! So proud of you🧡\n",
      "\n"
     ]
    }
   ],
   "source": [
    "# Twitter limits simultaneous connections to the streaming API,\n",
    "# so this part may not work using the demo API keys during class\n",
    "\n",
    "endpoint = 'statuses/filter'\n",
    "params = {'locations': '-180,-90,180,90'}\n",
    "r = api.request(endpoint, params)\n",
    "LIMIT = 20\n",
    "\n",
    "# 'enumerate' lets us count tweets as we receive them\n",
    "\n",
    "for i, tweet in enumerate(r.get_iterator()):\n",
    "    print(tweet['created_at'])\n",
    "    print(tweet['place']['full_name'] + ', ' + tweet['place']['country'])\n",
    "    print(tweet['text'] + '\\n')\n",
    "    if (i > LIMIT): break\n",
    "\n",
    "# close the streaming connection\n",
    "r.close()"
   ]
  },
  {
   "cell_type": "code",
   "execution_count": null,
   "metadata": {
    "collapsed": true
   },
   "outputs": [],
   "source": []
  },
  {
   "cell_type": "code",
   "execution_count": null,
   "metadata": {
    "collapsed": true
   },
   "outputs": [],
   "source": []
  },
  {
   "cell_type": "code",
   "execution_count": null,
   "metadata": {
    "collapsed": true
   },
   "outputs": [],
   "source": []
  },
  {
   "cell_type": "markdown",
   "metadata": {},
   "source": [
    "### Exercises for the remainder of class\n",
    "\n",
    "1. Make a scatter plot of the lat-lon coordinates of earthquakes.  \n",
    "   &nbsp;\n",
    "   \n",
    "2. Using the geocoding example as a starting point, try searching the Google Maps Directions API or Elevation API instead. Descriptions are in the [API documentation](https://developers.google.com/maps/documentation/geocoding/intro).  \n",
    "   &nbsp;\n",
    "   "
   ]
  },
  {
   "cell_type": "code",
   "execution_count": 107,
   "metadata": {},
   "outputs": [
    {
     "name": "stdout",
     "output_type": "stream",
     "text": [
      "340\n"
     ]
    }
   ],
   "source": [
    "# pull out magnitudes and depths into a Pandas dataframe, using\n",
    "# a more compact Python syntax for iterating through lists\n",
    "\n",
    "d = {'long': [q['geometry']['coordinates'][0] for q in quakes],\n",
    "     'lat': [q['geometry']['coordinates'][1] for q in quakes]}\n",
    "\n",
    "df = pd.DataFrame.from_dict(d)\n",
    "\n",
    "# how many earthquakes were loaded into the dataframe?\n",
    "print(len(df))"
   ]
  },
  {
   "cell_type": "code",
   "execution_count": 108,
   "metadata": {},
   "outputs": [
    {
     "data": {
      "text/plain": [
       "<matplotlib.axes._subplots.AxesSubplot at 0x182e8df50b8>"
      ]
     },
     "execution_count": 108,
     "metadata": {},
     "output_type": "execute_result"
    },
    {
     "data": {
      "image/png": "[encoded data removed]",
      "text/plain": [
       "<matplotlib.figure.Figure at 0x182e8de1160>"
      ]
     },
     "metadata": {},
     "output_type": "display_data"
    }
   ],
   "source": [
    "df.plot(x='long', y='lat', kind = 'scatter')"
   ]
  },
  {
   "cell_type": "markdown",
   "metadata": {
    "collapsed": true
   },
   "source": [
    "### For next time...\n",
    "\n",
    "In the next class, you will try out another API that provides data you're interested in. You will be asked to try connecting to it using Python code, and performing some basic operations on the data.  To come prepared for next time, please explore some of the transportation-related APIs that may be valuable, and choose one that is of interest to you.\n",
    "\n",
    "Here are a a few to get you started. \n",
    "\n",
    "Public Transit\n",
    "https://www.programmableweb.com/news/how-smart-cities-are-using-apis-public-transport-apis/2014/05/22\n",
    "\n",
    "Long-Distance Travel\n",
    "http://www.olery.com/blog/the-best-travel-apis-discover-contribute/ \n",
    "\n",
    "Transportation\n",
    "https://www.programmableweb.com/category/transportation/api\n",
    "\n",
    "\n",
    "Start by reading the public transit page, because that provides a nice overview of the types of applications out there, and some of the issues in using them.  These lessons often apply to traffic and transportation more generally.  \n",
    "\n",
    "Keep in mind that there are a number of different organizations that provide APIs, with different motivations and quality of what is provided.  If it is a private company, what is their business model?  What is the underlying source of the data, and what might that imply about how representative it is of the real world?  There is a ton of stuff out there.  How do we go about sorting out what is useful to us and what is now.  Spend some time exploring these and thinking about these questions.  \n"
   ]
  },
  {
   "cell_type": "code",
   "execution_count": null,
   "metadata": {
    "collapsed": true
   },
   "outputs": [],
   "source": [
    "# metra\n",
    "# accessKey: 825eafcfb72151832260c9e8463c7733\n",
    "# secretKey: d6cf5380070ae236d8277b8f10817d86"
   ]
  },
  {
   "cell_type": "code",
   "execution_count": null,
   "metadata": {
    "collapsed": true
   },
   "outputs": [],
   "source": [
    "# cta\n",
    "# key: a32e15b42c2e4818be7e410804f2a0eb"
   ]
  },
  {
   "cell_type": "code",
   "execution_count": 124,
   "metadata": {},
   "outputs": [
    {
     "ename": "SyntaxError",
     "evalue": "invalid syntax (<ipython-input-124-b23c31f25d23>, line 2)",
     "output_type": "error",
     "traceback": [
      "\u001b[1;36m  File \u001b[1;32m\"<ipython-input-124-b23c31f25d23>\"\u001b[1;36m, line \u001b[1;32m2\u001b[0m\n\u001b[1;33m    requests.get(https://gtfsapi.metrarail.com/gtfs/tripUpdates', auth=HTTPBasicAuth('825eafcfb72151832260c9e8463c7733', 'd6cf5380070ae236d8277b8f10817d86')\u001b[0m\n\u001b[1;37m                      ^\u001b[0m\n\u001b[1;31mSyntaxError\u001b[0m\u001b[1;31m:\u001b[0m invalid syntax\n"
     ]
    }
   ],
   "source": [
    "from requests.auth import HTTPBasicAuth\n",
    "requests.get(https://gtfsapi.metrarail.com/gtfs/tripUpdates', auth=HTTPBasicAuth('825eafcfb72151832260c9e8463c7733', 'd6cf5380070ae236d8277b8f10817d86')\n",
    "endpoint_url = \"https://gtfsapi.metrarail.com/gtfs/tripUpdates\"\n",
    "response = requests.get(endpoint_url)\n",
    "results = response.text\n",
    "\n",
    "# what is the data type of the results?\n",
    "results"
   ]
  },
  {
   "cell_type": "code",
   "execution_count": 132,
   "metadata": {},
   "outputs": [
    {
     "name": "stdout",
     "output_type": "stream",
     "text": [
      "<?xml version=\"1.0\" encoding=\"utf-8\"?><ctatt><tmst>20180306 19:09:49</tmst><errCd>0</errCd><errNm /><eta><staId>40380</staId><stpId>30075</stpId><staNm>Clark/Lake</staNm><stpDe>Service at Outer Loop platform</stpDe><rn>022</rn><rt>G</rt><destSt>30004</destSt><destNm>Harlem/Lake</destNm><trDr>1</trDr><prdt>20180306 19:09:31</prdt><arrT>20180306 19:10:31</arrT><isApp>1</isApp><isSch>0</isSch><isDly>0</isDly><isFlt>0</isFlt><flags /><lat>41.88381</lat><lon>-87.62621</lon><heading>358</heading></eta\n"
     ]
    }
   ],
   "source": [
    "endpoint_url = \"http://lapi.transitchicago.com/api/1.0/ttarrivals.aspx?key=a32e15b42c2e4818be7e410804f2a0eb&mapid=40380\"\n",
    "response = requests.get(endpoint_url)\n",
    "results = response.text\n",
    "\n",
    "# what is the data type of the results?\n",
    "print(results[:500])"
   ]
  },
  {
   "cell_type": "code",
   "execution_count": 134,
   "metadata": {},
   "outputs": [
    {
     "name": "stdout",
     "output_type": "stream",
     "text": [
      "('<?xml version=\"1.0\" encoding=\"utf-8\"?><ctatt><tmst>20180306 '\n",
      " '19:09:49</tmst><errCd>0</errCd><errNm '\n",
      " '/><eta><staId>40380</staId><stpId>30075</stpId><staNm>Clark/Lake</staNm><stpDe>Service '\n",
      " 'at Outer Loop '\n",
      " 'platform</stpDe><rn>022</rn><rt>G</rt><destSt>30004</destSt><destNm>Harlem/Lake</destNm><trDr>1</trDr><prdt>20180306 '\n",
      " '19:09:31</prdt><arrT>20180306 '\n",
      " '19:10:31</arrT><isApp>1</isApp><isSch>0</isSch><isDly>0</isDly><isFlt>0</isFlt><flags '\n",
      " '/><lat>41.88381</lat><lon>-87.62621</lon><heading>358</heading></eta><eta><staId>40380</staId><stpId>30075</stpId><staNm>Clark/Lake</staNm><stpDe>Service '\n",
      " 'at Outer Loop '\n",
      " 'platform</stpDe><rn>430</rn><rt>Brn</rt><destSt>30249</destSt><destNm>Kimball</destNm><trDr>1</trDr><prdt>20180306 '\n",
      " '19:09:32</prdt><arrT>20180306 '\n",
      " '19:10:32</arrT><isApp>1</isApp><isSch>0</isSch><isDly>0</isDly><isFlt>0</isFlt><flags '\n",
      " '/><lat>41.88574</lat><lon>-87.63012</lon><heading>269</heading></eta><eta><staId>40380</staId><stpId>30074</stpId><staNm>Clark/Lake</staNm><stpDe>Service '\n",
      " 'at Inner Loop '\n",
      " 'platform</stpDe><rn>319</rn><rt>Pink</rt><destSt>30114</destSt><destNm>54th/Cermak</destNm><trDr>5</trDr><prdt>20180306 '\n",
      " '19:09:05</prdt><arrT>20180306 '\n",
      " '19:11:05</arrT><isApp>0</isApp><isSch>0</isSch><isDly>0</isDly><isFlt>0</isFlt><flags '\n",
      " '/><lat>41.8857</lat><lon>-87.64069</lon><heading>89</heading></eta><eta><staId>40380</staId><stpId>30074</stpId><staNm>Clark/Lake</staNm><stpDe>Service '\n",
      " 'at Inner Loop '\n",
      " 'platform</stpDe><rn>019</rn><rt>G</rt><destSt>30139</destSt><destNm>Cottage '\n",
      " 'Grove</destNm><trDr>5</trDr><prdt>20180306 19:09:25</prdt><arrT>20180306 '\n",
      " '19:13:25</arrT><isApp>0</isApp><isSch>0</isSch><isDly>0</isDly><isFlt>0</isFlt><flags '\n",
      " '/><lat>41.88542</lat><lon>-87.66207</lon><heading>88</heading></eta><eta><staId>40380</staId><stpId>30374</stpId><staNm>Clark/Lake</staNm><stpDe>Subway '\n",
      " 'service toward Forest '\n",
      " 'Park</stpDe><rn>223</rn><rt>Blue</rt><destSt>30077</destSt><destNm>Forest '\n",
      " 'Park</destNm><trDr>5</trDr><prdt>20180306 19:09:38</prdt><arrT>20180306 '\n",
      " '19:14:38</arrT><isApp>0</isApp><isSch>0</isSch><isDly>0</isDly><isFlt>0</isFlt><flags '\n",
      " '/><lat>41.89932</lat><lon>-87.66022</lon><heading>122</heading></eta><eta><staId>40380</staId><stpId>30375</stpId><staNm>Clark/Lake</staNm><stpDe>Subway '\n",
      " 'service toward '\n",
      " \"O'Hare</stpDe><rn>218</rn><rt>Blue</rt><destSt>30171</destSt><destNm>O'Hare</destNm><trDr>1</trDr><prdt>20180306 \"\n",
      " '19:09:27</prdt><arrT>20180306 '\n",
      " '19:17:27</arrT><isApp>0</isApp><isSch>0</isSch><isDly>0</isDly><isFlt>0</isFlt><flags '\n",
      " '/><lat>41.87551</lat><lon>-87.64971</lon><heading>87</heading></eta><eta><staId>40380</staId><stpId>30075</stpId><staNm>Clark/Lake</staNm><stpDe>Service '\n",
      " 'at Outer Loop '\n",
      " 'platform</stpDe><rn>424</rn><rt>Brn</rt><destSt>30249</destSt><destNm>Kimball</destNm><trDr>1</trDr><prdt>20180306 '\n",
      " '19:09:37</prdt><arrT>20180306 '\n",
      " '19:17:37</arrT><isApp>0</isApp><isSch>0</isSch><isDly>0</isDly><isFlt>0</isFlt><flags '\n",
      " '/><lat>41.88466</lat><lon>-87.63389</lon><heading>178</heading></eta><eta><staId>40380</staId><stpId>30074</stpId><staNm>Clark/Lake</staNm><stpDe>Service '\n",
      " 'at Inner Loop '\n",
      " 'platform</stpDe><rn>314</rn><rt>Pink</rt><destSt>30114</destSt><destNm>54th/Cermak</destNm><trDr>5</trDr><prdt>20180306 '\n",
      " '19:09:33</prdt><arrT>20180306 '\n",
      " '19:19:33</arrT><isApp>0</isApp><isSch>0</isSch><isDly>0</isDly><isFlt>0</isFlt><flags '\n",
      " '/><lat>41.86004</lat><lon>-87.66921</lon><heading>358</heading></eta><eta><staId>40380</staId><stpId>30074</stpId><staNm>Clark/Lake</staNm><stpDe>Service '\n",
      " 'at Inner Loop '\n",
      " 'platform</stpDe><rn>725</rn><rt>Org</rt><destSt>30182</destSt><destNm>Midway</destNm><trDr>5</trDr><prdt>20180306 '\n",
      " '19:09:36</prdt><arrT>20180306 '\n",
      " '19:20:36</arrT><isApp>0</isApp><isSch>0</isSch><isDly>0</isDly><isFlt>0</isFlt><flags '\n",
      " '/><lat>41.86436</lat><lon>-87.62654</lon><heading>359</heading></eta><eta><staId>40380</staId><stpId>30375</stpId><staNm>Clark/Lake</staNm><stpDe>Subway '\n",
      " 'service toward '\n",
      " \"O'Hare</stpDe><rn>214</rn><rt>Blue</rt><destSt>30171</destSt><destNm>O'Hare</destNm><trDr>1</trDr><prdt>20180306 \"\n",
      " '19:09:14</prdt><arrT>20180306 '\n",
      " '19:21:14</arrT><isApp>0</isApp><isSch>0</isSch><isDly>0</isDly><isFlt>0</isFlt><flags '\n",
      " '/><lat>41.87564</lat><lon>-87.67393</lon><heading>88</heading></eta><eta><staId>40380</staId><stpId>30374</stpId><staNm>Clark/Lake</staNm><stpDe>Subway '\n",
      " 'service toward Forest '\n",
      " 'Park</stpDe><rn>134</rn><rt>Blue</rt><destSt>30077</destSt><destNm>Forest '\n",
      " 'Park</destNm><trDr>5</trDr><prdt>20180306 19:09:35</prdt><arrT>20180306 '\n",
      " '19:21:35</arrT><isApp>0</isApp><isSch>0</isSch><isDly>0</isDly><isFlt>0</isFlt><flags '\n",
      " '/><lat>41.91637</lat><lon>-87.68771</lon><heading>121</heading></eta><eta><staId>40380</staId><stpId>30074</stpId><staNm>Clark/Lake</staNm><stpDe>Service '\n",
      " 'at Inner Loop '\n",
      " 'platform</stpDe><rn>622</rn><rt>G</rt><destSt>30057</destSt><destNm>Ashland/63rd</destNm><trDr>5</trDr><prdt>20180306 '\n",
      " '19:09:17</prdt><arrT>20180306 '\n",
      " '19:22:17</arrT><isApp>0</isApp><isSch>0</isSch><isDly>0</isDly><isFlt>0</isFlt><flags '\n",
      " '/><lat>41.88541</lat><lon>-87.7254</lon><heading>93</heading></eta><eta><staId>40380</staId><stpId>30075</stpId><staNm>Clark/Lake</staNm><stpDe>Service '\n",
      " 'at Outer Loop '\n",
      " 'platform</stpDe><rn>014</rn><rt>G</rt><destSt>30004</destSt><destNm>Harlem/Lake</destNm><trDr>1</trDr><prdt>20180306 '\n",
      " '19:09:22</prdt><arrT>20180306 '\n",
      " '19:23:22</arrT><isApp>0</isApp><isSch>0</isSch><isDly>0</isDly><isFlt>0</isFlt><flags '\n",
      " '/><lat>41.82959</lat><lon>-87.62583</lon><heading>358</heading></eta><eta><staId>40380</staId><stpId>30375</stpId><staNm>Clark/Lake</staNm><stpDe>Subway '\n",
      " 'service toward '\n",
      " \"O'Hare</stpDe><rn>219</rn><rt>Blue</rt><destSt>30171</destSt><destNm>O'Hare</destNm><trDr>1</trDr><prdt>20180306 \"\n",
      " '19:09:32</prdt><arrT>20180306 '\n",
      " '19:25:32</arrT><isApp>0</isApp><isSch>0</isSch><isDly>0</isDly><isFlt>0</isFlt><flags '\n",
      " '/><lat>41.8747</lat><lon>-87.70407</lon><heading>81</heading></eta><eta><staId>40380</staId><stpId>30075</stpId><staNm>Clark/Lake</staNm><stpDe>Service '\n",
      " 'at Outer Loop '\n",
      " 'platform</stpDe><rn>425</rn><rt>Brn</rt><destSt>30249</destSt><destNm>Kimball</destNm><trDr>1</trDr><prdt>20180306 '\n",
      " '19:08:57</prdt><arrT>20180306 '\n",
      " '19:25:57</arrT><isApp>0</isApp><isSch>0</isSch><isDly>0</isDly><isFlt>0</isFlt><flags '\n",
      " '/><lat>41.91033</lat><lon>-87.64669</lon><heading>92</heading></eta><eta><staId>40380</staId><stpId>30374</stpId><staNm>Clark/Lake</staNm><stpDe>Subway '\n",
      " 'service toward Forest '\n",
      " 'Park</stpDe><rn>224</rn><rt>Blue</rt><destSt>30077</destSt><destNm>Forest '\n",
      " 'Park</destNm><trDr>5</trDr><prdt>20180306 19:09:28</prdt><arrT>20180306 '\n",
      " '19:28:28</arrT><isApp>0</isApp><isSch>0</isSch><isDly>0</isDly><isFlt>0</isFlt><flags '\n",
      " '/><lat>41.93813</lat><lon>-87.71236</lon><heading>178</heading></eta></ctatt>')\n"
     ]
    }
   ],
   "source": [
    "pp.pprint(results)"
   ]
  },
  {
   "cell_type": "code",
   "execution_count": null,
   "metadata": {
    "collapsed": true
   },
   "outputs": [],
   "source": []
  }
 ],
 "metadata": {
  "anaconda-cloud": {},
  "kernelspec": {
   "display_name": "Python 3",
   "language": "python",
   "name": "python3"
  },
  "language_info": {
   "codemirror_mode": {
    "name": "ipython",
    "version": 3
   },
   "file_extension": ".py",
   "mimetype": "text/x-python",
   "name": "python",
   "nbconvert_exporter": "python",
   "pygments_lexer": "ipython3",
   "version": "3.6.3"
  }
 },
 "nbformat": 4,
 "nbformat_minor": 1
}
