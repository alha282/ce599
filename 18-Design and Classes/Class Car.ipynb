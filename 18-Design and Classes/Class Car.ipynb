{
 "cells": [
  {
   "cell_type": "code",
   "execution_count": 47,
   "metadata": {},
   "outputs": [],
   "source": [
    "class Car(object):\n",
    "    def __init__(self, color, direction, location):\n",
    "        if len(location)<2 or len(location)>2: \n",
    "            print('The location of the car is the x,y coordinates')\n",
    "        else:\n",
    "            self.color = color\n",
    "            self.location = location\n",
    "            self.x = location[0]\n",
    "            self.y = location[1]\n",
    "            self.direction = direction\n",
    "            \n",
    "    def go(self, units):\n",
    "        if self.direction == 'North':\n",
    "            self.y = self.y + units\n",
    "        elif self.direction == 'South':\n",
    "            self.y = self.y - units\n",
    "        elif self.direction == 'East':\n",
    "            self.x = self.x + units\n",
    "        elif self.direction == 'West':\n",
    "            self.x = self.x - units\n",
    "        else:\n",
    "            print('North, South, East & West')\n",
    "    \n",
    "    def right_turn(self):\n",
    "        if self.direction == 'North':\n",
    "            self.direction ='East'\n",
    "        elif self.direction == 'East':\n",
    "            self.direction = 'South'\n",
    "        elif self.direction == 'South':\n",
    "            self.direction = 'West'\n",
    "        elif self.direction == 'West':\n",
    "            self.direction = 'North'\n",
    "        else:\n",
    "            print ('Wrong Way')\n",
    "            \n",
    "    def left_turn(self):\n",
    "        if self.direction == 'North':\n",
    "            self.direction = 'West'\n",
    "        elif self.direction == 'West':\n",
    "            self.direction = 'South'\n",
    "        elif self.direction == 'South':\n",
    "            self.direction = 'East'\n",
    "        elif self.direction == 'East':\n",
    "            self.direction = 'North'\n",
    "        else:\n",
    "            print ('Wrong Way')"
   ]
  },
  {
   "cell_type": "code",
   "execution_count": 48,
   "metadata": {
    "collapsed": true
   },
   "outputs": [],
   "source": [
    "    def car_print(c):\n",
    "        print('The' , str(c.color), 'car is headed' , str(c.direction) \n",
    "              , 'and located at position' , (c.x, c.y))"
   ]
  },
  {
   "cell_type": "code",
   "execution_count": 49,
   "metadata": {
    "scrolled": true
   },
   "outputs": [],
   "source": [
    "car1 = Car(color = 'yellow', location =[0,0], direction = 'North')"
   ]
  },
  {
   "cell_type": "code",
   "execution_count": 50,
   "metadata": {
    "collapsed": true
   },
   "outputs": [],
   "source": [
    "car2 = Car(color = 'green', location = [0,0], direction = 'North')"
   ]
  },
  {
   "cell_type": "code",
   "execution_count": 51,
   "metadata": {},
   "outputs": [],
   "source": [
    "car1.go(units = 2)\n",
    "car1.left_turn()\n",
    "car1.go(1)"
   ]
  },
  {
   "cell_type": "code",
   "execution_count": 52,
   "metadata": {},
   "outputs": [],
   "source": [
    "car2.left_turn()\n",
    "car2.go(1)\n",
    "car2.right_turn()\n",
    "car2.go(2)"
   ]
  },
  {
   "cell_type": "code",
   "execution_count": 53,
   "metadata": {},
   "outputs": [
    {
     "name": "stdout",
     "output_type": "stream",
     "text": [
      "The yellow car is headed West and located at position (-1, 2)\n",
      "The green car is headed North and located at position (-1, 2)\n"
     ]
    }
   ],
   "source": [
    "car_print(car1)\n",
    "car_print(car2)"
   ]
  }
 ],
 "metadata": {
  "kernelspec": {
   "display_name": "Python 3",
   "language": "python",
   "name": "python3"
  },
  "language_info": {
   "codemirror_mode": {
    "name": "ipython",
    "version": 3
   },
   "file_extension": ".py",
   "mimetype": "text/x-python",
   "name": "python",
   "nbconvert_exporter": "python",
   "pygments_lexer": "ipython3",
   "version": "3.6.3"
  }
 },
 "nbformat": 4,
 "nbformat_minor": 2
}
